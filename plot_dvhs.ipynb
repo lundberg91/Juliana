{
 "cells": [
  {
   "cell_type": "code",
   "execution_count": null,
   "metadata": {},
   "outputs": [],
   "source": [
    "using Juliana\n",
    "using OrderedCollections"
   ]
  },
  {
   "cell_type": "code",
   "execution_count": null,
   "metadata": {},
   "outputs": [],
   "source": [
    "data_dir = \"/data/user/bellotti_r/data\"\n",
    "work_dir = \"./output\"\n",
    "series_ID = 0;"
   ]
  },
  {
   "cell_type": "code",
   "execution_count": null,
   "metadata": {},
   "outputs": [],
   "source": [
    "my_colorscheme = Juliana.build_colorscheme();"
   ]
  },
  {
   "cell_type": "code",
   "execution_count": null,
   "metadata": {},
   "outputs": [],
   "source": [
    "dpi = 600"
   ]
  },
  {
   "cell_type": "markdown",
   "metadata": {},
   "source": [
    "# test_00"
   ]
  },
  {
   "cell_type": "code",
   "execution_count": null,
   "metadata": {},
   "outputs": [],
   "source": [
    "patient_ID = \"test_00\"\n",
    "\n",
    "ct_path, patient = Juliana.load_patient_data(data_dir, patient_ID);\n",
    "\n",
    "target_name, target_dose = Juliana.hottest_target(patient.prescriptions)\n",
    "normalisation_mask = convert.(Float32, collect(Juliana.calculate_normalisation_mask(\n",
    "    patient.prescriptions,\n",
    "    patient.structures,\n",
    ")));\n",
    "\n",
    "reference_dose = Juliana.load_dose_dat_file(\"$data_dir/clinical_dose_distributions/$(patient_ID)_$(series_ID).dat\").data\n",
    "reference_dose = Juliana.normalise_dose(reference_dose, normalisation_mask, target_dose)\n",
    "\n",
    "auto_dose = Juliana.load_dose_dat_file(\"$(work_dir)/$(patient_ID)/result_dose.dat\").data\n",
    "auto_dose = Juliana.normalise_dose(auto_dose, normalisation_mask, target_dose);\n",
    "\n",
    "doses = 0:0.5:(1.1*target_dose);"
   ]
  },
  {
   "cell_type": "code",
   "execution_count": null,
   "metadata": {},
   "outputs": [],
   "source": [
    "structures = OrderedDict(\n",
    "    \"PTV (73.8 Gy)\"    => (patient.structures[\"PTV2=CTV2+5MM\"], :red),\n",
    "    \"PTV (54.0 Gy)\"    => (patient.structures[\"PTV1=CTV+5MM\"], :orange),\n",
    "    \"Brainstem\"        => (patient.structures[\"BRAINSTEM\"], :cyan),\n",
    "    \"Brainstem center\" => (patient.structures[\"CBS\"], :blue),\n",
    ")\n",
    "\n",
    "dose_distributions = [\n",
    "    (\"Reference plan\", reference_dose),\n",
    "    (\"Auto plan\"     , auto_dose),\n",
    "]\n",
    "\n",
    "fig, ax = Juliana.plot_dvh(collect(doses), dose_distributions, structures)\n",
    "fig.savefig(\"test_00_dvh.jpg\", transparent=true, dpi=dpi)"
   ]
  },
  {
   "cell_type": "code",
   "execution_count": null,
   "metadata": {},
   "outputs": [],
   "source": [
    "iz = 42\n",
    "x_start, x_end = 79, 171\n",
    "y_start, y_end = 71, 156\n",
    "\n",
    "grid = patient.ct.grid\n",
    "\n",
    "fig, axes = Juliana.plot_distributions(\n",
    "    patient.ct,\n",
    "    dose_distributions,\n",
    "    structures,\n",
    "    x_start, x_end,\n",
    "    y_start, y_end,\n",
    "    iz,\n",
    "    target_dose,\n",
    "    my_colorscheme,\n",
    ")\n",
    "fig.savefig(\"test_00_dose.jpg\", transparent=true, dpi=dpi)"
   ]
  },
  {
   "cell_type": "code",
   "execution_count": null,
   "metadata": {},
   "outputs": [],
   "source": [
    "for (label, dose) in dose_distributions\n",
    "    dmax = maximum(patient.structures[\"BRAINSTEM\"].mask .* dose)\n",
    "    println(\"Brainstem Dmax = $(dmax) $label\")\n",
    "end\n",
    "println(\"-----------\")\n",
    "for (label, dose) in dose_distributions\n",
    "    dmax = maximum(patient.structures[\"CBS\"].mask .* dose)\n",
    "    println(\"Brainstem Dmax = $(dmax) $label\")\n",
    "end"
   ]
  },
  {
   "cell_type": "code",
   "execution_count": null,
   "metadata": {},
   "outputs": [],
   "source": [
    "50.740532 - 37.81909"
   ]
  },
  {
   "cell_type": "markdown",
   "metadata": {},
   "source": [
    "# test_01"
   ]
  },
  {
   "cell_type": "code",
   "execution_count": null,
   "metadata": {},
   "outputs": [],
   "source": [
    "patient_ID = \"test_01\"\n",
    "\n",
    "ct_path, patient = Juliana.load_patient_data(data_dir, patient_ID);\n",
    "\n",
    "target_name, target_dose = Juliana.hottest_target(patient.prescriptions)\n",
    "normalisation_mask = convert.(Float32, collect(Juliana.calculate_normalisation_mask(\n",
    "    patient.prescriptions,\n",
    "    patient.structures,\n",
    ")));\n",
    "\n",
    "reference_dose = Juliana.load_dose_dat_file(\"$data_dir/clinical_dose_distributions/$(patient_ID)_$(series_ID).dat\").data\n",
    "reference_dose = Juliana.normalise_dose(reference_dose, normalisation_mask, target_dose)\n",
    "\n",
    "auto_dose = Juliana.load_dose_dat_file(\"$(work_dir)/$(patient_ID)/result_dose.dat\").data\n",
    "auto_dose = Juliana.normalise_dose(auto_dose, normalisation_mask, target_dose);\n",
    "\n",
    "doses = 0:0.5:(1.1*target_dose);"
   ]
  },
  {
   "cell_type": "code",
   "execution_count": null,
   "metadata": {},
   "outputs": [],
   "source": [
    "structures = OrderedDict(\n",
    "    \"PTV (50.4Gy)\"     => (patient.structures[\"PTV\"], :red),\n",
    "    \"Brainstem\"        => (patient.structures[\"BRAINSTEM\"], [107, 107, 237] ./ 255),\n",
    "    \"Brainstem center\" => (patient.structures[\"CBS\"], [252, 60, 252] ./ 255),\n",
    "    \"Cochlea (L)\" => (patient.structures[\"COCHLEA_L\"], [154, 154, 223] ./ 255),\n",
    "    \"Cochlea (R)\" => (patient.structures[\"COCHLEA_R\"], [81, 205, 205] ./ 255),\n",
    ")\n",
    "\n",
    "dose_distributions = [\n",
    "    (\"Reference plan\", reference_dose),\n",
    "    (\"Auto plan\"     , auto_dose),\n",
    "]\n",
    "\n",
    "fig, ax = Juliana.plot_dvh(collect(doses), dose_distributions, structures)\n",
    "fig.savefig(\"test_01_dvh.jpg\", transparent=true, dpi=dpi)"
   ]
  },
  {
   "cell_type": "code",
   "execution_count": null,
   "metadata": {},
   "outputs": [],
   "source": [
    "iz = 40\n",
    "x_start, x_end = 89, 164\n",
    "y_start, y_end = 90, 153\n",
    "\n",
    "grid = patient.ct.grid\n",
    "\n",
    "fig, axes = Juliana.plot_distributions(\n",
    "    patient.ct,\n",
    "    dose_distributions,\n",
    "    structures,\n",
    "    x_start, x_end,\n",
    "    y_start, y_end,\n",
    "    iz,\n",
    "    target_dose,\n",
    "    my_colorscheme,\n",
    ")\n",
    "fig.savefig(\"test_01_dose.jpg\", transparent=true, dpi=dpi)"
   ]
  },
  {
   "cell_type": "markdown",
   "metadata": {},
   "source": [
    "# test_04"
   ]
  },
  {
   "cell_type": "code",
   "execution_count": null,
   "metadata": {},
   "outputs": [],
   "source": [
    "patient_ID = \"test_04\"\n",
    "\n",
    "ct_path, patient = Juliana.load_patient_data(data_dir, patient_ID);\n",
    "\n",
    "target_name, target_dose = Juliana.hottest_target(patient.prescriptions)\n",
    "normalisation_mask = convert.(Float32, collect(Juliana.calculate_normalisation_mask(\n",
    "    patient.prescriptions,\n",
    "    patient.structures,\n",
    ")));\n",
    "\n",
    "reference_dose = Juliana.load_dose_dat_file(\"$data_dir/clinical_dose_distributions/$(patient_ID)_$(series_ID).dat\").data\n",
    "reference_dose = Juliana.normalise_dose(reference_dose, normalisation_mask, target_dose)\n",
    "\n",
    "auto_dose = Juliana.load_dose_dat_file(\"$(work_dir)/$(patient_ID)/result_dose.dat\").data\n",
    "auto_dose = Juliana.normalise_dose(auto_dose, normalisation_mask, target_dose);\n",
    "\n",
    "doses = 0:0.5:(1.1*target_dose);"
   ]
  },
  {
   "cell_type": "code",
   "execution_count": null,
   "metadata": {},
   "outputs": [],
   "source": [
    "structures = OrderedDict(\n",
    "    \"PTV (54Gy)\"        => (patient.structures[\"PTV2=GTV+5mm\"], :red),\n",
    "    \"PTV (50Gy)\"        => (patient.structures[\"PTV1=CTV+5mm\"], :orange),\n",
    "    \"Brainstem\"         => (patient.structures[\"BRAINSTEM\"], [107, 107, 237] ./ 255),\n",
    "    \"Pituitary gland\"   => (patient.structures[\"PITUITARY_GLAND\"], [119, 252, 119] ./ 255),\n",
    "    \"Hippocampus (R)\"   => (patient.structures[\"RIGHT_HIPPOCAMPUS\"], [240, 240, 31] ./ 255),\n",
    "    \"Optic nerve (R)\"   => (patient.structures[\"N._OPTICUS_RECHTS\"], [0, 254, 254] ./ 255),\n",
    "    \"Temporal lobe (R)\" => (patient.structures[\"RIGHT_TEMPORAL_LOBE\"], [249, 3, 249] ./ 255),\n",
    ")\n",
    "\n",
    "dose_distributions = [\n",
    "    (\"Reference plan\", reference_dose),\n",
    "    (\"Auto plan\"     , auto_dose),\n",
    "]\n",
    "\n",
    "fig, ax = Juliana.plot_dvh(collect(doses), dose_distributions, structures)\n",
    "fig.savefig(\"test_04_dvh.jpg\", transparent=true, dpi=dpi)"
   ]
  },
  {
   "cell_type": "code",
   "execution_count": null,
   "metadata": {},
   "outputs": [],
   "source": [
    "iz = 36\n",
    "x_start, x_end = 82, 158\n",
    "y_start, y_end = 82, 160\n",
    "\n",
    "grid = patient.ct.grid\n",
    "\n",
    "fig, axes = Juliana.plot_distributions(\n",
    "    patient.ct,\n",
    "    dose_distributions,\n",
    "    structures,\n",
    "    x_start, x_end,\n",
    "    y_start, y_end,\n",
    "    iz,\n",
    "    target_dose,\n",
    "    my_colorscheme,\n",
    ")\n",
    "fig.savefig(\"test_04_dose.jpg\", transparent=true, dpi=dpi)"
   ]
  },
  {
   "cell_type": "code",
   "execution_count": null,
   "metadata": {},
   "outputs": [],
   "source": []
  }
 ],
 "metadata": {
  "kernelspec": {
   "display_name": "Julia 1.8.1",
   "language": "julia",
   "name": "julia-1.8"
  },
  "language_info": {
   "file_extension": ".jl",
   "mimetype": "application/julia",
   "name": "julia",
   "version": "1.8.1"
  },
  "toc": {
   "base_numbering": 1,
   "nav_menu": {},
   "number_sections": true,
   "sideBar": true,
   "skip_h1_title": false,
   "title_cell": "Table of Contents",
   "title_sidebar": "Contents",
   "toc_cell": false,
   "toc_position": {},
   "toc_section_display": true,
   "toc_window_display": false
  },
  "varInspector": {
   "cols": {
    "lenName": 16,
    "lenType": 16,
    "lenVar": 40
   },
   "kernels_config": {
    "python": {
     "delete_cmd_postfix": "",
     "delete_cmd_prefix": "del ",
     "library": "var_list.py",
     "varRefreshCmd": "print(var_dic_list())"
    },
    "r": {
     "delete_cmd_postfix": ") ",
     "delete_cmd_prefix": "rm(",
     "library": "var_list.r",
     "varRefreshCmd": "cat(var_dic_list()) "
    }
   },
   "types_to_exclude": [
    "module",
    "function",
    "builtin_function_or_method",
    "instance",
    "_Feature"
   ],
   "window_display": false
  }
 },
 "nbformat": 4,
 "nbformat_minor": 2
}
