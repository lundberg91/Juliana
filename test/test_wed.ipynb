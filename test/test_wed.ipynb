{
 "cells": [
  {
   "cell_type": "code",
   "execution_count": null,
   "metadata": {},
   "outputs": [],
   "source": [
    "using CUDA\n",
    "using DICOM\n",
    "using KernelAbstractions\n",
    "using CUDAKernels\n",
    "using Juliana\n",
    "using JSON\n",
    "using PyPlot\n",
    "using Statistics"
   ]
  },
  {
   "cell_type": "markdown",
   "metadata": {},
   "source": [
    "# Config"
   ]
  },
  {
   "cell_type": "code",
   "execution_count": null,
   "metadata": {},
   "outputs": [],
   "source": [
    "output_dir = \"wed_test\"\n",
    "\n",
    "mkpath(output_dir)"
   ]
  },
  {
   "cell_type": "markdown",
   "metadata": {},
   "source": [
    "# Helper functions"
   ]
  },
  {
   "cell_type": "code",
   "execution_count": null,
   "metadata": {},
   "outputs": [],
   "source": [
    "convert_to_sp = Juliana.hu_to_sp_factory(\"/data/user/bellotti_r/semester_project_planning_metrics/src/pyftpp/bin/huToSp.json\")"
   ]
  },
  {
   "cell_type": "code",
   "execution_count": null,
   "metadata": {},
   "outputs": [],
   "source": [
    "hu = -1000:1:3095\n",
    "sp = convert_to_sp.(hu)\n",
    "\n",
    "fig, ax = subplots()\n",
    "ax.plot(hu, sp);\n",
    "ax.set_xlim([-50, 50])\n",
    "ax.set_ylim([0.8, 1.2])\n",
    "ax.axhline(1, color=:black)\n",
    "ax.axvline(0, color=:black)\n",
    "ax.set_ylabel(\"relative stopping power\")\n",
    "ax.set_xlabel(\"HU\")"
   ]
  },
  {
   "cell_type": "markdown",
   "metadata": {},
   "source": [
    "# Renate H&N phantom"
   ]
  },
  {
   "cell_type": "code",
   "execution_count": null,
   "metadata": {},
   "outputs": [],
   "source": [
    "fiona_standalone_bin_path = \"/data/user/bellotti_r/semester_project_planning_metrics/src/pyftpp/bin\"\n",
    "fiona_jar_path = \"$fiona_standalone_bin_path/ch.psi.ftpp.standalone.planner-1.0.10.jar\";"
   ]
  },
  {
   "cell_type": "code",
   "execution_count": null,
   "metadata": {},
   "outputs": [],
   "source": [
    "path_to_phantom = \"/data/user/bellotti_r/data_special_cases/renate\";\n",
    "target_dose = 1.f0;"
   ]
  },
  {
   "cell_type": "code",
   "execution_count": null,
   "metadata": {},
   "outputs": [],
   "source": [
    "ct, structures = Juliana.load_dicom_directory(\n",
    "    path_to_phantom;\n",
    "    structure_names=[\"PTV_total_2mm\", \"BrainStem_Surface\"],\n",
    ");\n",
    "target = structures[\"PTV_total_2mm\"];\n",
    "\n",
    "constraints = Juliana.parse_oar_constraints_file(\n",
    "    \"$(path_to_phantom)/constraints.csv\",\n",
    "    target_dose,\n",
    "    structures,\n",
    ")\n",
    "prescriptions = Juliana.Prescriptions([(\"PTV_total_2mm\", target_dose)], constraints);"
   ]
  },
  {
   "cell_type": "code",
   "execution_count": null,
   "metadata": {},
   "outputs": [],
   "source": [
    "@assert ct.grid.origin == [0, 0, 0];"
   ]
  },
  {
   "cell_type": "code",
   "execution_count": null,
   "metadata": {},
   "outputs": [],
   "source": [
    "using StaticArrays"
   ]
  },
  {
   "cell_type": "code",
   "execution_count": null,
   "metadata": {},
   "outputs": [],
   "source": [
    "const HU_AIR = -600;"
   ]
  },
  {
   "cell_type": "code",
   "execution_count": null,
   "metadata": {},
   "outputs": [],
   "source": []
  },
  {
   "cell_type": "code",
   "execution_count": null,
   "metadata": {},
   "outputs": [],
   "source": [
    "gantry_angle = 0f0\n",
    "couch_angle = 0f0;"
   ]
  },
  {
   "cell_type": "code",
   "execution_count": null,
   "metadata": {},
   "outputs": [],
   "source": []
  },
  {
   "cell_type": "code",
   "execution_count": null,
   "metadata": {},
   "outputs": [],
   "source": [
    "structure_mask_expanded = target.distanceFromStructure .<= 5\n",
    "\n",
    "@time in_beam_mask = Juliana.calculate_in_beam_mask(\n",
    "    structure_mask_expanded,\n",
    "    gantry_angle,\n",
    "    couch_angle,\n",
    "    ct.grid,\n",
    ");\n",
    "relevant_mask = ((ct.data .> HU_AIR) .|| structure_mask_expanded) .&& (in_beam_mask);"
   ]
  },
  {
   "cell_type": "code",
   "execution_count": null,
   "metadata": {},
   "outputs": [],
   "source": []
  },
  {
   "cell_type": "code",
   "execution_count": null,
   "metadata": {},
   "outputs": [],
   "source": [
    "wed_grid = Juliana.FionaStandalone.get_fiona_dose_calc_grid(ct.grid)\n",
    "wed_mask = Array{Bool, 3}(undef, wed_grid.size...)\n",
    "fill!(wed_mask, true)\n",
    "points, indices = Juliana.mask_to_points_and_indices(wed_grid, wed_mask);\n",
    "\n",
    "to_keep = []\n",
    "for j in 1:size(points, 2)\n",
    "    ct_ind = Juliana.xyz_to_index(points[:, j], ct.grid)\n",
    "    if relevant_mask[ct_ind...]\n",
    "        push!(to_keep, j)\n",
    "    end\n",
    "end\n",
    "\n",
    "points = points[:, to_keep]\n",
    "indices = indices[:, to_keep];"
   ]
  },
  {
   "cell_type": "code",
   "execution_count": null,
   "metadata": {
    "scrolled": true
   },
   "outputs": [],
   "source": [
    "size(points)"
   ]
  },
  {
   "cell_type": "code",
   "execution_count": null,
   "metadata": {},
   "outputs": [],
   "source": [
    "# gantry_angle = 90.f0;\n",
    "# couch_angle = 76.f0;"
   ]
  },
  {
   "cell_type": "markdown",
   "metadata": {},
   "source": [
    "## WED using Juliana"
   ]
  },
  {
   "cell_type": "code",
   "execution_count": null,
   "metadata": {},
   "outputs": [],
   "source": [
    "densities = Juliana.ScalarGrid(\n",
    "    convert_to_sp.(ct.data),\n",
    "    ct.grid,\n",
    ");"
   ]
  },
  {
   "cell_type": "code",
   "execution_count": null,
   "metadata": {},
   "outputs": [],
   "source": [
    "wed = Juliana.calculate_wed(\n",
    "    densities,\n",
    "    gantry_angle,\n",
    "    couch_angle,\n",
    "    wed_grid,\n",
    ");"
   ]
  },
  {
   "cell_type": "code",
   "execution_count": null,
   "metadata": {},
   "outputs": [],
   "source": [
    "wed_grid_interpolated = Juliana.interpolate_linearly(wed, ct.grid);"
   ]
  },
  {
   "cell_type": "code",
   "execution_count": null,
   "metadata": {},
   "outputs": [],
   "source": [
    "maximum(wed.data)"
   ]
  },
  {
   "cell_type": "code",
   "execution_count": null,
   "metadata": {},
   "outputs": [],
   "source": [
    "maximum(wed_grid_interpolated.data)"
   ]
  },
  {
   "cell_type": "markdown",
   "metadata": {},
   "source": [
    "## WED using FIonA"
   ]
  },
  {
   "cell_type": "code",
   "execution_count": null,
   "metadata": {},
   "outputs": [],
   "source": [
    "working_dir = output_dir\n",
    "mkpath(working_dir);"
   ]
  },
  {
   "cell_type": "code",
   "execution_count": null,
   "metadata": {},
   "outputs": [],
   "source": [
    "Juliana.write_ct_dat_file(\"$(output_dir)/renate_phantom.dat\", ct);"
   ]
  },
  {
   "cell_type": "code",
   "execution_count": null,
   "metadata": {},
   "outputs": [],
   "source": [
    "iso_center = mean(structures[\"PTV_total_2mm\"].points, dims=1)[1:3]\n",
    "z = Juliana.xyz_to_index(iso_center, ct.grid)[3]"
   ]
  },
  {
   "cell_type": "code",
   "execution_count": null,
   "metadata": {},
   "outputs": [],
   "source": [
    "Dij, optim_points = Juliana.FionaStandalone.calculate_Dij(\n",
    "    working_dir,\n",
    "    \"$(output_dir)/renate_phantom.dat\",\n",
    "    1,\n",
    "    target,\n",
    "    fiona_standalone_bin_path,\n",
    "    fiona_jar_path,\n",
    "    wed_grid,\n",
    "    [gantry_angle],\n",
    "    [couch_angle],\n",
    "    [15.0f0],\n",
    "    log_wed=true,\n",
    "    optimization_points=points,\n",
    ");"
   ]
  },
  {
   "cell_type": "code",
   "execution_count": null,
   "metadata": {},
   "outputs": [],
   "source": [
    "wed_fiona_flattened = JSON.parsefile(\"$(output_dir)/WED_0.json\")\n",
    "wed_fiona = Juliana.ScalarGrid(\n",
    "    Juliana.flat_vector_to_cube(ct.grid, indices, wed_fiona_flattened),\n",
    "    ct.grid,\n",
    ");"
   ]
  },
  {
   "cell_type": "code",
   "execution_count": null,
   "metadata": {},
   "outputs": [],
   "source": [
    "fig, axes = Juliana.plot_distributions(\n",
    "    ct,\n",
    "    [\n",
    "        [\"my code WED\", relevant_mask],\n",
    "    ],\n",
    "    [(\"PTV\", (target, \"blue\"))],\n",
    "    1, 512,\n",
    "    1, 512,\n",
    "    z,\n",
    "    1,\n",
    "    Juliana.build_colorscheme(),\n",
    ")"
   ]
  },
  {
   "cell_type": "code",
   "execution_count": null,
   "metadata": {},
   "outputs": [],
   "source": [
    "fig, axes = Juliana.plot_distributions(\n",
    "    ct,\n",
    "    [\n",
    "        [\"my code WED\", wed_grid_interpolated.data],\n",
    "        [\"FIonA WED\", wed_fiona.data],\n",
    "    ],\n",
    "    [(\"PTV\", (target, \"blue\"))],\n",
    "    1, 512,\n",
    "    1, 512,\n",
    "    z,\n",
    "    15,\n",
    "    Juliana.build_colorscheme(),\n",
    ")"
   ]
  },
  {
   "cell_type": "markdown",
   "metadata": {},
   "source": [
    "# Water slab "
   ]
  },
  {
   "cell_type": "code",
   "execution_count": null,
   "metadata": {},
   "outputs": [],
   "source": [
    "ct, whole_body = Juliana.build_water_slab();"
   ]
  },
  {
   "cell_type": "code",
   "execution_count": null,
   "metadata": {},
   "outputs": [],
   "source": [
    "Juliana.write_ct_dat_file(\"$(output_dir)/water_phantom.dat\", ct)"
   ]
  },
  {
   "cell_type": "code",
   "execution_count": null,
   "metadata": {},
   "outputs": [],
   "source": [
    "ct_new = Juliana.load_ct_dat_file(\"$(output_dir)/water_phantom.dat\")\n",
    "@assert ct.grid.origin == ct_new.grid.origin\n",
    "@assert ct.grid.spacing == ct_new.grid.spacing\n",
    "@assert ct.grid.size == ct_new.grid.size\n",
    "@assert ct.data == ct_new.data"
   ]
  },
  {
   "cell_type": "code",
   "execution_count": null,
   "metadata": {},
   "outputs": [],
   "source": [
    "densities = Juliana.ScalarGrid(\n",
    "    convert_to_sp.(ct.data),\n",
    "    ct.grid,\n",
    ");"
   ]
  },
  {
   "cell_type": "markdown",
   "metadata": {},
   "source": [
    "## Calculate WED using Juliana"
   ]
  },
  {
   "cell_type": "code",
   "execution_count": null,
   "metadata": {},
   "outputs": [],
   "source": [
    "ct_mask = similar(whole_body.mask)\n",
    "fill!(ct_mask, true);"
   ]
  },
  {
   "cell_type": "code",
   "execution_count": null,
   "metadata": {},
   "outputs": [],
   "source": [
    "d_direction = cu(Juliana.angles_to_direction(gantry_angle, couch_angle))\n",
    "\n",
    "points, indices = Juliana.mask_to_points_and_indices(ct.grid, ct_mask)\n",
    "\n",
    "wed = Juliana.calculate_wed(\n",
    "    densities,\n",
    "    gantry_angle,\n",
    "    couch_angle,\n",
    "    ct.grid,\n",
    ");"
   ]
  },
  {
   "cell_type": "markdown",
   "metadata": {},
   "source": [
    "## Calculate WED using Fiona"
   ]
  },
  {
   "cell_type": "code",
   "execution_count": null,
   "metadata": {
    "scrolled": false
   },
   "outputs": [],
   "source": [
    "working_dir = output_dir\n",
    "mkpath(working_dir)\n",
    "\n",
    "# optim_grid = Juliana.Grid(\n",
    "#     ct.grid.spacing,\n",
    "#     [1.9f0, 1.9f0, 0.4f0],\n",
    "#     [61, 61, 11],\n",
    "# )\n",
    "\n",
    "Dij, optim_points = Juliana.FionaStandalone.calculate_Dij(\n",
    "    working_dir,\n",
    "    \"$(output_dir)/water_phantom.dat\",\n",
    "    1,\n",
    "    whole_body,\n",
    "    fiona_standalone_bin_path,\n",
    "    fiona_jar_path,\n",
    "    ct.grid,\n",
    "    [gantry_angle],\n",
    "    [couch_angle],\n",
    "    [15.0f0],\n",
    "    log_wed=true,\n",
    "    optimization_points=points,\n",
    ");"
   ]
  },
  {
   "cell_type": "code",
   "execution_count": null,
   "metadata": {},
   "outputs": [],
   "source": [
    "wed_fiona_flattened = JSON.parsefile(\"$(output_dir)/WED_0.json\")\n",
    "wed_fiona = Juliana.ScalarGrid(\n",
    "    Juliana.flat_vector_to_cube(ct.grid, indices, wed_fiona_flattened),\n",
    "    ct.grid,\n",
    ");"
   ]
  },
  {
   "cell_type": "markdown",
   "metadata": {},
   "source": [
    "## Compare"
   ]
  },
  {
   "cell_type": "code",
   "execution_count": null,
   "metadata": {
    "scrolled": false
   },
   "outputs": [],
   "source": [
    "fig, axes = Juliana.plot_distributions(\n",
    "    ct,\n",
    "    [\n",
    "        [\"my code WED\", wed.data],\n",
    "        [\"fiona WED\", wed_fiona.data],\n",
    "    ],\n",
    "    Dict(\"whole body\" => [whole_body, \"blue\"]),\n",
    "    6,\n",
    "    100,\n",
    "    1,\n",
    "    100,\n",
    "    4,\n",
    "    1.5,\n",
    "    Juliana.build_colorscheme(),\n",
    ")"
   ]
  },
  {
   "cell_type": "code",
   "execution_count": null,
   "metadata": {},
   "outputs": [],
   "source": [
    "maximum(wed.data)"
   ]
  },
  {
   "cell_type": "code",
   "execution_count": null,
   "metadata": {},
   "outputs": [],
   "source": [
    "maximum(wed_fiona.data)"
   ]
  },
  {
   "cell_type": "code",
   "execution_count": null,
   "metadata": {},
   "outputs": [],
   "source": [
    "errors = abs.(wed.data .- wed_fiona.data);\n",
    "maximum(errors)"
   ]
  },
  {
   "cell_type": "code",
   "execution_count": null,
   "metadata": {},
   "outputs": [],
   "source": [
    "fig, axes = plt.subplots(\n",
    "    1, 3,\n",
    "    figsize=(8 * 1.3, 4.5),\n",
    "    gridspec_kw=Dict(\"width_ratios\" => [1, 1, 0.04]),\n",
    ")\n",
    "img = axes[1].imshow(wed.data[:, :, 6]')\n",
    "img = axes[2].imshow(wed.data[:, :, 6]')\n",
    "fig.colorbar(img, cax=axes[3])"
   ]
  },
  {
   "cell_type": "code",
   "execution_count": null,
   "metadata": {},
   "outputs": [],
   "source": [
    "fig, ax = plt.subplots()\n",
    "\n",
    "arr = collect(wed.data[40:80, 20:80, 6])\n",
    "μ = vec(mean(arr, dims=2))\n",
    "σ = vec(std(arr, dims=2))\n",
    "ax.errorbar(1:length(μ), μ, yerr=σ, label=\"Juliana\")\n",
    "\n",
    "arr = collect(wed_fiona.data[40:80, 20:80, 6])\n",
    "μ = vec(mean(arr, dims=2))\n",
    "σ = vec(std(arr, dims=2))\n",
    "ax.errorbar(1:length(μ), μ, yerr=σ, label=\"Fiona\")\n",
    "ax.legend(loc=\"lower right\")\n",
    "#ax.set_yscale(:log)"
   ]
  },
  {
   "cell_type": "code",
   "execution_count": null,
   "metadata": {},
   "outputs": [],
   "source": [
    "arr = collect(wed.data[40:80, 20:80, 6])\n",
    "mean(arr, dims=1), std(arr, dims=1)"
   ]
  },
  {
   "cell_type": "code",
   "execution_count": null,
   "metadata": {},
   "outputs": [],
   "source": [
    "fig, ax = plt.subplots()\n",
    "img = ax.imshow((wed.data .- wed_fiona.data)[:, :, 6]' .* 1e5, cmap=\"coolwarm\", vmin=-2.0, vmax=2.0)\n",
    "fig.colorbar(img)"
   ]
  },
  {
   "cell_type": "markdown",
   "metadata": {},
   "source": [
    "# Alternating bone and water"
   ]
  },
  {
   "cell_type": "code",
   "execution_count": null,
   "metadata": {},
   "outputs": [],
   "source": [
    "ct, whole_body = Juliana.build_alternating_bone_water()\n",
    "\n",
    "Juliana.write_ct_dat_file(\"$(output_dir)/water_phantom2.dat\", ct)\n",
    "\n",
    "densities = Juliana.ScalarGrid(\n",
    "    convert_to_sp.(ct.data),\n",
    "    ct.grid,\n",
    ");"
   ]
  },
  {
   "cell_type": "markdown",
   "metadata": {},
   "source": [
    "## WED using Juliana"
   ]
  },
  {
   "cell_type": "code",
   "execution_count": null,
   "metadata": {},
   "outputs": [],
   "source": [
    "ct_mask = similar(whole_body.mask)\n",
    "fill!(ct_mask, true);"
   ]
  },
  {
   "cell_type": "code",
   "execution_count": null,
   "metadata": {},
   "outputs": [],
   "source": [
    "points, indices = Juliana.mask_to_points_and_indices(ct.grid, ct_mask);"
   ]
  },
  {
   "cell_type": "code",
   "execution_count": null,
   "metadata": {},
   "outputs": [],
   "source": [
    "wed = Juliana.calculate_wed(\n",
    "    densities,\n",
    "    gantry_angle,\n",
    "    couch_angle,\n",
    "    ct.grid,\n",
    ");"
   ]
  },
  {
   "cell_type": "markdown",
   "metadata": {},
   "source": [
    "## WED using Fiona"
   ]
  },
  {
   "cell_type": "code",
   "execution_count": null,
   "metadata": {},
   "outputs": [],
   "source": [
    "working_dir = output_dir\n",
    "mkpath(working_dir)\n",
    "\n",
    "Dij, optim_points = Juliana.FionaStandalone.calculate_Dij(\n",
    "    working_dir,\n",
    "    \"$(output_dir)/water_phantom2.dat\",\n",
    "    1,\n",
    "    whole_body,\n",
    "    fiona_standalone_bin_path,\n",
    "    fiona_jar_path,\n",
    "    ct.grid,\n",
    "    [gantry_angle],\n",
    "    [couch_angle],\n",
    "    [15.0f0],\n",
    "    log_wed=true,\n",
    "    optimization_points=points,\n",
    ");\n",
    "\n",
    "wed_fiona_flattened = JSON.parsefile(\"$(output_dir)/WED_0.json\")\n",
    "wed_fiona = Juliana.ScalarGrid(\n",
    "    Juliana.flat_vector_to_cube(ct.grid, indices, wed_fiona_flattened),\n",
    "    ct.grid,\n",
    ");"
   ]
  },
  {
   "cell_type": "markdown",
   "metadata": {},
   "source": [
    "## Compare"
   ]
  },
  {
   "cell_type": "code",
   "execution_count": null,
   "metadata": {},
   "outputs": [],
   "source": [
    "fig, axes = Juliana.plot_distributions(\n",
    "    ct,\n",
    "    [\n",
    "        [\"my code WED\", wed.data],\n",
    "        [\"fiona WED\", wed_fiona.data],\n",
    "    ],\n",
    "    Dict(\"whole body\" => [whole_body, \"blue\"]),\n",
    "    1,\n",
    "    100,\n",
    "    1,\n",
    "    100,\n",
    "    7,\n",
    "    1.2,\n",
    "    Juliana.build_colorscheme(),\n",
    ")"
   ]
  },
  {
   "cell_type": "code",
   "execution_count": null,
   "metadata": {},
   "outputs": [],
   "source": [
    "maximum(abs.(wed.data .- wed_fiona.data))"
   ]
  },
  {
   "cell_type": "code",
   "execution_count": null,
   "metadata": {},
   "outputs": [],
   "source": [
    "fig, ax = plt.subplots()\n",
    "img = ax.imshow((wed.data .- wed_fiona.data)[:, :, 6]' .* 1e4, cmap=\"coolwarm\", vmin=-2., vmax=2.)\n",
    "fig.colorbar(img)"
   ]
  },
  {
   "cell_type": "markdown",
   "metadata": {},
   "source": [
    "# Bone gradient"
   ]
  },
  {
   "cell_type": "code",
   "execution_count": null,
   "metadata": {},
   "outputs": [],
   "source": [
    "ct, whole_body = Juliana.build_bone_gradient()\n",
    "\n",
    "Juliana.write_ct_dat_file(\"$(output_dir)/water_phantom3.dat\", ct)\n",
    "\n",
    "densities = Juliana.ScalarGrid(\n",
    "    convert_to_sp.(ct.data),\n",
    "    ct.grid,\n",
    ")"
   ]
  },
  {
   "cell_type": "markdown",
   "metadata": {},
   "source": [
    "## WED using Juliana"
   ]
  },
  {
   "cell_type": "code",
   "execution_count": null,
   "metadata": {},
   "outputs": [],
   "source": [
    "points, indices = Juliana.grid_to_points_and_indices(ct.grid);"
   ]
  },
  {
   "cell_type": "code",
   "execution_count": null,
   "metadata": {},
   "outputs": [],
   "source": [
    "wed = Juliana.calculate_wed(\n",
    "    densities,\n",
    "    gantry_angle,\n",
    "    couch_angle,\n",
    "    ct.grid,\n",
    ");"
   ]
  },
  {
   "cell_type": "markdown",
   "metadata": {},
   "source": [
    "## WED using Fiona"
   ]
  },
  {
   "cell_type": "code",
   "execution_count": null,
   "metadata": {},
   "outputs": [],
   "source": [
    "working_dir = output_dir\n",
    "mkpath(working_dir)\n",
    "\n",
    "fiona_standalone_bin_path = \"/data/user/bellotti_r/semester_project_planning_metrics/src/pyftpp/bin\"\n",
    "fiona_jar_path = \"$fiona_standalone_bin_path/ch.psi.ftpp.standalone.planner-1.0.7.jar\";\n",
    "\n",
    "optim_grid = Juliana.Grid(\n",
    "    ct.grid.spacing,\n",
    "    [2f0, 2f0, 0.5f0],\n",
    "    [61, 61, 11],\n",
    ")\n",
    "\n",
    "Dij, optim_points = Juliana.FionaStandalone.calculate_Dij(\n",
    "    working_dir,\n",
    "    \"$(output_dir)/water_phantom3.dat\",\n",
    "    1,\n",
    "    whole_body,\n",
    "    fiona_standalone_bin_path,\n",
    "    fiona_jar_path,\n",
    "    optim_grid,\n",
    "    [0f0],\n",
    "    [0f0],\n",
    "    [15.0f0],\n",
    "    log_wed=true,\n",
    "    optimization_points=points',\n",
    ");\n",
    "\n",
    "wed_fiona_flattened = JSON.parsefile(\"$(output_dir)/WED_0.json\");\n",
    "wed_fiona = Juliana.flat_vector_to_cube(ct.grid, indices, wed_fiona_flattened);"
   ]
  },
  {
   "cell_type": "markdown",
   "metadata": {},
   "source": [
    "## Compare"
   ]
  },
  {
   "cell_type": "code",
   "execution_count": null,
   "metadata": {},
   "outputs": [],
   "source": [
    "fig, axes = Juliana.plot_distributions(\n",
    "    ct,\n",
    "    [\n",
    "        [\"my code WED\", wed],\n",
    "        [\"fiona WED\", wed_fiona],\n",
    "    ],\n",
    "    Dict(\"whole body\" => [whole_body, \"blue\"]),\n",
    "    1,\n",
    "    100,\n",
    "    1,\n",
    "    100,\n",
    "    7,\n",
    "    6.5,\n",
    "    Juliana.build_colorscheme(),\n",
    ")"
   ]
  },
  {
   "cell_type": "code",
   "execution_count": null,
   "metadata": {},
   "outputs": [],
   "source": [
    "maximum(abs.(wed .- wed_fiona))"
   ]
  },
  {
   "cell_type": "code",
   "execution_count": null,
   "metadata": {},
   "outputs": [],
   "source": [
    "argmax(abs.(wed .- wed_fiona))"
   ]
  },
  {
   "cell_type": "code",
   "execution_count": null,
   "metadata": {},
   "outputs": [],
   "source": [
    "fig, ax = plt.subplots()\n",
    "img = ax.imshow((wed .- wed_fiona)[:, :, 6]' .* 1e4, cmap=\"coolwarm\", vmin=-2., vmax=2.)\n",
    "fig.colorbar(img)"
   ]
  },
  {
   "cell_type": "markdown",
   "metadata": {},
   "source": [
    "## Log the CT"
   ]
  },
  {
   "cell_type": "code",
   "execution_count": null,
   "metadata": {},
   "outputs": [],
   "source": [
    "patient_ID = \"phantom_3\"\n",
    "new_patient_ID = \"bellotti_r_wed_debug\"\n",
    "patient_name = \"$(new_patient_ID)^$(new_patient_ID)\"\n",
    "\n",
    "study_instance_UID = Juliana.get_study_instance_uid(new_patient_ID)\n",
    "frame_of_reference_UID = \"$(study_instance_UID).0\"\n",
    "ct_series_instance_UID = \"$(study_instance_UID).1\"\n",
    "structureset_series_instance_UID = \"$(study_instance_UID).2\""
   ]
  },
  {
   "cell_type": "code",
   "execution_count": null,
   "metadata": {},
   "outputs": [],
   "source": [
    "ct_datasets = Juliana.ct_to_dicom(\n",
    "    ct,\n",
    "    study_instance_UID,\n",
    "    frame_of_reference_UID,\n",
    "    ct_series_instance_UID,\n",
    "    new_patient_ID,\n",
    "    patient_name,\n",
    ")\n",
    "for ds in ct_datasets\n",
    "    ds.SeriesDescription = \"CT Images\"\n",
    "    dcm_write(\"$(output_dir)/CT.$(ds.InstanceNumber).dcm\", ds)\n",
    "end"
   ]
  },
  {
   "cell_type": "markdown",
   "metadata": {},
   "source": [
    "# Bone gradient (long)"
   ]
  },
  {
   "cell_type": "code",
   "execution_count": null,
   "metadata": {},
   "outputs": [],
   "source": [
    "ct, whole_body = Juliana.build_bone_gradient_long()\n",
    "\n",
    "Juliana.write_ct_dat_file(\"$(output_dir)/water_phantom4.dat\", ct)\n",
    "\n",
    "densities = convert_to_sp.(ct.data)\n",
    "d_densities = cu(densities);"
   ]
  },
  {
   "cell_type": "markdown",
   "metadata": {},
   "source": [
    "## WED using Juliana"
   ]
  },
  {
   "cell_type": "code",
   "execution_count": null,
   "metadata": {},
   "outputs": [],
   "source": [
    "d_direction = cu(Juliana.angles_to_direction(0, 0))\n",
    "\n",
    "points, indices = Juliana.mask_to_points_and_indices(ct.grid, whole_body.mask)\n",
    "d_points = cu(points)\n",
    "N = size(d_points, 2)\n",
    "\n",
    "d_grid = cu(ct.grid)\n",
    "d_wed_flattened = cu(zeros(Float64, N, 1));\n",
    "\n",
    "event = Juliana.calculate_wed_simple(\n",
    "    d_wed_flattened,\n",
    "    d_densities,\n",
    "    d_grid,\n",
    "    d_points,\n",
    "    d_direction,\n",
    "    ndrange=(N, 1),\n",
    "#     STEP_SIZE=0.005,\n",
    ")\n",
    "wait(event);"
   ]
  },
  {
   "cell_type": "code",
   "execution_count": null,
   "metadata": {},
   "outputs": [],
   "source": [
    "wed_flattened = collect(d_wed_flattened);\n",
    "wed = Juliana.flat_vector_to_cube(ct.grid, indices, wed_flattened[:, 1]);"
   ]
  },
  {
   "cell_type": "markdown",
   "metadata": {},
   "source": [
    "## WED using Fiona"
   ]
  },
  {
   "cell_type": "code",
   "execution_count": null,
   "metadata": {},
   "outputs": [],
   "source": [
    "working_dir = output_dir\n",
    "mkpath(working_dir)\n",
    "\n",
    "fiona_standalone_bin_path = \"/data/user/bellotti_r/semester_project_planning_metrics/src/pyftpp/bin\"\n",
    "fiona_jar_path = \"$fiona_standalone_bin_path/ch.psi.ftpp.standalone.planner-1.0.7.jar\";\n",
    "\n",
    "optim_grid = Juliana.Grid(\n",
    "    ct.grid.spacing,\n",
    "    [8f0, 4f0, 1f0],\n",
    "    [41, 61, 11],\n",
    ")\n",
    "\n",
    "Dij, optim_points = Juliana.FionaStandalone.calculate_Dij(\n",
    "    working_dir,\n",
    "    \"$(output_dir)/water_phantom4.dat\",\n",
    "    1,\n",
    "    whole_body,\n",
    "    fiona_standalone_bin_path,\n",
    "    fiona_jar_path,\n",
    "    optim_grid,\n",
    "    [0f0],\n",
    "    [0f0],\n",
    "    [15.0f0],\n",
    "    log_wed=true,\n",
    "    optimization_points=points',\n",
    ");\n",
    "\n",
    "wed_fiona_flattened = JSON.parsefile(\"$(output_dir)/WED_0.json\");\n",
    "wed_fiona = Juliana.flat_vector_to_cube(ct.grid, indices, wed_fiona_flattened);"
   ]
  },
  {
   "cell_type": "markdown",
   "metadata": {},
   "source": [
    "## Compare"
   ]
  },
  {
   "cell_type": "code",
   "execution_count": null,
   "metadata": {
    "scrolled": true
   },
   "outputs": [],
   "source": [
    "fig, axes = Juliana.plot_distributions(\n",
    "    ct,\n",
    "    [\n",
    "        [\"my code WED\", wed],\n",
    "        [\"fiona WED\", wed_fiona],\n",
    "    ],\n",
    "    Dict(\"whole body\" => [whole_body, \"blue\"]),\n",
    "    1,\n",
    "    100,\n",
    "    1,\n",
    "    100,\n",
    "    7,\n",
    "    6.5,\n",
    "    Juliana.build_colorscheme(),\n",
    ")"
   ]
  },
  {
   "cell_type": "code",
   "execution_count": null,
   "metadata": {},
   "outputs": [],
   "source": [
    "\n",
    "iy = 20\n",
    "λ = 1. / 60\n",
    "-(iy-20.) / λ"
   ]
  },
  {
   "cell_type": "code",
   "execution_count": null,
   "metadata": {},
   "outputs": [],
   "source": []
  },
  {
   "cell_type": "code",
   "execution_count": null,
   "metadata": {},
   "outputs": [],
   "source": []
  },
  {
   "cell_type": "code",
   "execution_count": null,
   "metadata": {},
   "outputs": [],
   "source": [
    "maximum(abs.(wed .- wed_fiona))"
   ]
  },
  {
   "cell_type": "code",
   "execution_count": null,
   "metadata": {},
   "outputs": [],
   "source": [
    "argmax(abs.(wed .- wed_fiona))"
   ]
  },
  {
   "cell_type": "code",
   "execution_count": null,
   "metadata": {},
   "outputs": [],
   "source": [
    "fig, ax = plt.subplots()\n",
    "img = ax.imshow((wed .- wed_fiona)[:, :, 6]' .* 1e4, cmap=\"coolwarm\", vmin=-2., vmax=2.)\n",
    "fig.colorbar(img)"
   ]
  },
  {
   "cell_type": "code",
   "execution_count": null,
   "metadata": {},
   "outputs": [],
   "source": []
  },
  {
   "cell_type": "markdown",
   "metadata": {},
   "source": [
    "# Water slab with cavity"
   ]
  },
  {
   "cell_type": "code",
   "execution_count": null,
   "metadata": {},
   "outputs": [],
   "source": [
    "ct, whole_body = Juliana.build_water_slab_with_cavity()\n",
    "\n",
    "Juliana.write_ct_dat_file(\"$(output_dir)/water_phantom5.dat\", ct)\n",
    "\n",
    "densities = convert_to_sp.(ct.data)\n",
    "d_densities = cu(densities);"
   ]
  },
  {
   "cell_type": "markdown",
   "metadata": {},
   "source": [
    "## WED using Juliana"
   ]
  },
  {
   "cell_type": "code",
   "execution_count": null,
   "metadata": {},
   "outputs": [],
   "source": [
    "d_direction = cu(Juliana.angles_to_direction(0, 0))\n",
    "\n",
    "points, indices = Juliana.mask_to_points_and_indices(ct.grid, whole_body.mask)\n",
    "d_points = cu(points)\n",
    "N = size(d_points, 2)\n",
    "\n",
    "d_grid = cu(ct.grid)\n",
    "d_wed_flattened = cu(zeros(Float64, N, 1));\n",
    "\n",
    "event = Juliana.calculate_wed_simple(\n",
    "    d_wed_flattened,\n",
    "    d_densities,\n",
    "    d_grid,\n",
    "    d_points,\n",
    "    d_direction,\n",
    "    ndrange=(N, 1),\n",
    "#     STEP_SIZE=0.005,\n",
    ")\n",
    "wait(event);"
   ]
  },
  {
   "cell_type": "code",
   "execution_count": null,
   "metadata": {},
   "outputs": [],
   "source": [
    "wed_flattened = collect(d_wed_flattened);\n",
    "wed = Juliana.flat_vector_to_cube(ct.grid, indices, wed_flattened[:, 1]);"
   ]
  },
  {
   "cell_type": "markdown",
   "metadata": {},
   "source": [
    "## WED using Fiona"
   ]
  },
  {
   "cell_type": "code",
   "execution_count": null,
   "metadata": {},
   "outputs": [],
   "source": [
    "working_dir = output_dir\n",
    "mkpath(working_dir)\n",
    "\n",
    "fiona_standalone_bin_path = \"/data/user/bellotti_r/semester_project_planning_metrics/src/pyftpp/bin\"\n",
    "fiona_jar_path = \"$fiona_standalone_bin_path/ch.psi.ftpp.standalone.planner-1.0.7.jar\";\n",
    "\n",
    "optim_grid = Juliana.Grid(\n",
    "    ct.grid.spacing,\n",
    "    [2f0, 2f0, 0.5f0],\n",
    "    [61, 61, 11],\n",
    ")\n",
    "\n",
    "Dij, optim_points = Juliana.FionaStandalone.calculate_Dij(\n",
    "    working_dir,\n",
    "    \"$(output_dir)/water_phantom5.dat\",\n",
    "    1,\n",
    "    whole_body,\n",
    "    fiona_standalone_bin_path,\n",
    "    fiona_jar_path,\n",
    "    optim_grid,\n",
    "    [0f0],\n",
    "    [0f0],\n",
    "    [15.0f0],\n",
    "    log_wed=true,\n",
    "    optimization_points=points',\n",
    ");\n",
    "\n",
    "wed_fiona_flattened = JSON.parsefile(\"$(output_dir)/WED_0.json\");\n",
    "wed_fiona = Juliana.flat_vector_to_cube(ct.grid, indices, wed_fiona_flattened);"
   ]
  },
  {
   "cell_type": "markdown",
   "metadata": {},
   "source": [
    "## Compare"
   ]
  },
  {
   "cell_type": "code",
   "execution_count": null,
   "metadata": {},
   "outputs": [],
   "source": [
    "fig, axes = Juliana.plot_distributions(\n",
    "    ct,\n",
    "    [\n",
    "        [\"my code WED\", wed],\n",
    "        [\"fiona WED\", wed_fiona],\n",
    "    ],\n",
    "    Dict(\"whole body\" => [whole_body, \"blue\"]),\n",
    "    1,\n",
    "    100,\n",
    "    1,\n",
    "    100,\n",
    "    7,\n",
    "    6.5,\n",
    "    Juliana.build_colorscheme(),\n",
    ")"
   ]
  },
  {
   "cell_type": "code",
   "execution_count": null,
   "metadata": {},
   "outputs": [],
   "source": [
    "maximum(abs.(wed .- wed_fiona))"
   ]
  },
  {
   "cell_type": "code",
   "execution_count": null,
   "metadata": {},
   "outputs": [],
   "source": [
    "argmax(abs.(wed .- wed_fiona))"
   ]
  },
  {
   "cell_type": "code",
   "execution_count": null,
   "metadata": {},
   "outputs": [],
   "source": [
    "fig, ax = plt.subplots()\n",
    "img = ax.imshow((wed .- wed_fiona)[:, :, 6]' .* 1e4, cmap=\"coolwarm\", vmin=-2., vmax=2.)\n",
    "fig.colorbar(img)"
   ]
  },
  {
   "cell_type": "code",
   "execution_count": null,
   "metadata": {},
   "outputs": [],
   "source": []
  }
 ],
 "metadata": {
  "kernelspec": {
   "display_name": "Julia 1.8.1",
   "language": "julia",
   "name": "julia-1.8"
  },
  "language_info": {
   "file_extension": ".jl",
   "mimetype": "application/julia",
   "name": "julia",
   "version": "1.8.1"
  },
  "toc": {
   "base_numbering": 1,
   "nav_menu": {},
   "number_sections": true,
   "sideBar": true,
   "skip_h1_title": false,
   "title_cell": "Table of Contents",
   "title_sidebar": "Contents",
   "toc_cell": false,
   "toc_position": {
    "height": "calc(100% - 180px)",
    "left": "10px",
    "top": "150px",
    "width": "248px"
   },
   "toc_section_display": true,
   "toc_window_display": true
  },
  "varInspector": {
   "cols": {
    "lenName": 16,
    "lenType": 16,
    "lenVar": 40
   },
   "kernels_config": {
    "python": {
     "delete_cmd_postfix": "",
     "delete_cmd_prefix": "del ",
     "library": "var_list.py",
     "varRefreshCmd": "print(var_dic_list())"
    },
    "r": {
     "delete_cmd_postfix": ") ",
     "delete_cmd_prefix": "rm(",
     "library": "var_list.r",
     "varRefreshCmd": "cat(var_dic_list()) "
    }
   },
   "types_to_exclude": [
    "module",
    "function",
    "builtin_function_or_method",
    "instance",
    "_Feature"
   ],
   "window_display": false
  }
 },
 "nbformat": 4,
 "nbformat_minor": 2
}
