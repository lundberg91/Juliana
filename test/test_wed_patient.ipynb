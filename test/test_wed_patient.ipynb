{
 "cells": [
  {
   "cell_type": "code",
   "execution_count": null,
   "metadata": {},
   "outputs": [],
   "source": [
    "using CUDA\n",
    "using KernelAbstractions\n",
    "using CUDAKernels\n",
    "using Juliana\n",
    "using JSON"
   ]
  },
  {
   "cell_type": "markdown",
   "metadata": {},
   "source": [
    "# Config"
   ]
  },
  {
   "cell_type": "code",
   "execution_count": null,
   "metadata": {},
   "outputs": [],
   "source": [
    "data_dir = \"/data/user/bellotti_r/data\"\n",
    "patient_ID = \"test_01\";"
   ]
  },
  {
   "cell_type": "code",
   "execution_count": null,
   "metadata": {},
   "outputs": [],
   "source": [
    "gantry_angle = [70f0]\n",
    "couch_angle = [30f0];"
   ]
  },
  {
   "cell_type": "markdown",
   "metadata": {},
   "source": [
    "# Load data"
   ]
  },
  {
   "cell_type": "code",
   "execution_count": null,
   "metadata": {},
   "outputs": [],
   "source": [
    "ct_path, patient = Juliana.load_patient_data(data_dir, patient_ID);"
   ]
  },
  {
   "cell_type": "code",
   "execution_count": null,
   "metadata": {},
   "outputs": [],
   "source": [
    "hu_to_sp_dict = nothing\n",
    "open(\"/data/user/bellotti_r/semester_project_planning_metrics/src/pyftpp/bin/huToSp.json\") do file\n",
    "    global hu_to_sp_dict = JSON.parse(file)\n",
    "end"
   ]
  },
  {
   "cell_type": "code",
   "execution_count": null,
   "metadata": {},
   "outputs": [],
   "source": [
    "@assert hu_to_sp_dict[\"dz\"] == 1\n",
    "@assert hu_to_sp_dict[\"z0\"] == -1000\n",
    "\n",
    "function convert_to_sp(value)\n",
    "    return hu_to_sp_dict[\"densities\"][value + 1001]\n",
    "end;"
   ]
  },
  {
   "cell_type": "code",
   "execution_count": null,
   "metadata": {},
   "outputs": [],
   "source": [
    "densities = convert_to_sp.(patient.ct.data)\n",
    "d_densities = cu(densities);"
   ]
  },
  {
   "cell_type": "markdown",
   "metadata": {},
   "source": [
    "# Calculate WED"
   ]
  },
  {
   "cell_type": "code",
   "execution_count": null,
   "metadata": {},
   "outputs": [],
   "source": [
    "d_direction = cu(Juliana.angles_to_direction(gantry_angle, couch_angle))"
   ]
  },
  {
   "cell_type": "code",
   "execution_count": null,
   "metadata": {},
   "outputs": [],
   "source": [
    "target_mask = Juliana.calculate_whole_target_mask(\n",
    "    patient.prescriptions,\n",
    "    patient.structures,\n",
    ")\n",
    "target_points = Juliana.mask_to_points(\n",
    "    patient.ct.grid,\n",
    "    target_mask,\n",
    ")\n",
    "d_target_points = cu(target_points);"
   ]
  },
  {
   "cell_type": "code",
   "execution_count": null,
   "metadata": {
    "scrolled": true
   },
   "outputs": [],
   "source": [
    "tmp = zeros(patient.ct.grid.size...)\n",
    "tmp[80:160, 80:160, 30:40] .= 1\n",
    "# tmp[97:154, 51:103, 30:40] .= 1\n",
    "tmp = (tmp .== 1) .&& (Juliana.build_checker_board_mask(patient.ct.grid) .== 1)\n",
    "\n",
    "eval_points, indices = Juliana.mask_to_points_and_indices(\n",
    "   patient.ct.grid,\n",
    "   tmp,\n",
    ")\n",
    "d_eval_points = cu(eval_points)"
   ]
  },
  {
   "cell_type": "code",
   "execution_count": null,
   "metadata": {},
   "outputs": [],
   "source": [
    "d_points = d_eval_points\n",
    "N = size(d_points, 2)\n",
    "\n",
    "d_grid = cu(patient.ct.grid)\n",
    "d_wed = cu(zeros(Float32, N));\n",
    "\n",
    "calculate_wed_simple = Juliana.wed_kernel(CUDADevice(), 32);\n",
    "event = calculate_wed_simple(\n",
    "    d_wed,\n",
    "    d_densities,\n",
    "    d_grid,\n",
    "    d_points,\n",
    "    d_direction,\n",
    "    ndrange=(N, 1),\n",
    "#     STEP_SIZE=0.005,\n",
    ")\n",
    "wait(event);\n",
    "\n",
    "wed_flat = collect(d_wed);"
   ]
  },
  {
   "cell_type": "markdown",
   "metadata": {},
   "source": [
    "# Calculate Fiona WED"
   ]
  },
  {
   "cell_type": "code",
   "execution_count": null,
   "metadata": {},
   "outputs": [],
   "source": [
    "working_dir = \"tmp_wed_simple\"\n",
    "mkpath(working_dir)"
   ]
  },
  {
   "cell_type": "code",
   "execution_count": null,
   "metadata": {},
   "outputs": [],
   "source": [
    "fiona_standalone_bin_path = \"/data/user/bellotti_r/semester_project_planning_metrics/src/pyftpp/bin\"\n",
    "fiona_jar_path = \"$fiona_standalone_bin_path/ch.psi.ftpp.standalone.planner-1.0.7.jar\";"
   ]
  },
  {
   "cell_type": "code",
   "execution_count": null,
   "metadata": {},
   "outputs": [],
   "source": [
    "optim_grid = Juliana.get_optimisation_grid(\n",
    "    eval_points',\n",
    "    patient.ct.grid,\n",
    ")"
   ]
  },
  {
   "cell_type": "code",
   "execution_count": null,
   "metadata": {},
   "outputs": [],
   "source": [
    "Dij, optim_points = Juliana.FionaStandalone.calculate_Dij(\n",
    "    working_dir,\n",
    "    ct_path,\n",
    "    1,\n",
    "    patient.structures[Juliana.hottest_target(patient.prescriptions)[1]],\n",
    "    fiona_standalone_bin_path,\n",
    "    fiona_jar_path,\n",
    "    optim_grid,\n",
    "    gantry_angle,\n",
    "    couch_angle,\n",
    "    [15.0f0],\n",
    "    log_wed=true,\n",
    "    optimization_points=collect(d_points)',\n",
    ");"
   ]
  },
  {
   "cell_type": "code",
   "execution_count": null,
   "metadata": {},
   "outputs": [],
   "source": [
    "size(optim_points)"
   ]
  },
  {
   "cell_type": "code",
   "execution_count": null,
   "metadata": {},
   "outputs": [],
   "source": [
    "using JSON\n",
    "\n",
    "open(\"$(working_dir)/WED_0.json\") do file\n",
    "    global wed_fiona_flat = JSON.parse(file)\n",
    "end"
   ]
  },
  {
   "cell_type": "markdown",
   "metadata": {},
   "source": [
    "# Convert to 3D tensor"
   ]
  },
  {
   "cell_type": "code",
   "execution_count": null,
   "metadata": {},
   "outputs": [],
   "source": [
    "wed_fiona = zeros(Float32, patient.ct.grid.size...)\n",
    "indices = Juliana.point_to_grid_index(collect(d_points)', patient.ct.grid)\n",
    "for (w, index) in zip(wed_fiona_flat, eachrow(indices))\n",
    "    wed_fiona[index...] = w\n",
    "end\n",
    "\n",
    "wed = zeros(Float32, patient.ct.grid.size...)\n",
    "for (w, index) in zip(wed_flat, eachrow(indices))\n",
    "    wed[index...] = w\n",
    "end"
   ]
  },
  {
   "cell_type": "markdown",
   "metadata": {},
   "source": [
    "# Select only points within optimisation grid"
   ]
  },
  {
   "cell_type": "markdown",
   "metadata": {},
   "source": [
    "This is needed because Fiona has memory issues if the optimisation grid is too big..."
   ]
  },
  {
   "cell_type": "code",
   "execution_count": null,
   "metadata": {},
   "outputs": [],
   "source": [
    "optim_grid_mask = zeros(patient.ct.grid.size...)\n",
    "start_index = convert.(Int64, floor.((optim_grid.origin .- patient.ct.grid.origin) ./ patient.ct.grid.spacing))\n",
    "end_index = convert.(Int64, ceil.((optim_grid.origin .+ optim_grid.size .* optim_grid.spacing .- patient.ct.grid.origin) ./ patient.ct.grid.spacing))\n",
    "\n",
    "optim_grid_mask[start_index[1]:end_index[1], start_index[2]:end_index[2], start_index[3]:end_index[3]] .= 1;\n",
    "\n",
    "wed = wed .* optim_grid_mask\n",
    "wed_fiona = wed_fiona .* optim_grid_mask;"
   ]
  },
  {
   "cell_type": "markdown",
   "metadata": {},
   "source": [
    "# Plot WED"
   ]
  },
  {
   "cell_type": "code",
   "execution_count": null,
   "metadata": {},
   "outputs": [],
   "source": [
    "maximum(wed .- wed_fiona)"
   ]
  },
  {
   "cell_type": "code",
   "execution_count": null,
   "metadata": {},
   "outputs": [],
   "source": [
    "using PyPlot\n",
    "fig, ax = PyPlot.subplots()\n",
    "img = ax.imshow((wed .- wed_fiona)[60:180, 60:180, :30]', vmin=-3.3, vmax=3.3, cmap=\"coolwarm\")\n",
    "fig.colorbar(img)"
   ]
  },
  {
   "cell_type": "code",
   "execution_count": null,
   "metadata": {},
   "outputs": [],
   "source": [
    "Juliana.plot_distributions(\n",
    "    patient.ct,\n",
    "    Dict(\"Simple (new)\" => wed, \"Fiona\" => wed_fiona),\n",
    "    [],\n",
    "    60, 180,\n",
    "    60, 180,\n",
    "    30,\n",
    "#     max(maximum(d_wed), maximum(wed_fiona)),\n",
    "    25.2,\n",
    "    Juliana.build_colorscheme(),\n",
    ");"
   ]
  },
  {
   "cell_type": "code",
   "execution_count": null,
   "metadata": {},
   "outputs": [],
   "source": [
    "argmax(wed)"
   ]
  },
  {
   "cell_type": "markdown",
   "metadata": {},
   "source": [
    "# Export to DICOM"
   ]
  },
  {
   "cell_type": "code",
   "execution_count": null,
   "metadata": {},
   "outputs": [],
   "source": [
    "patient_ID = \"train_00\"\n",
    "new_patient_ID = \"bellotti_r_dicom_test_00\"\n",
    "patient_name = \"$(new_patient_ID)^$(new_patient_ID)\"\n",
    "\n",
    "study_instance_UID = Juliana.get_study_instance_uid(new_patient_ID)\n",
    "frame_of_reference_UID = \"$(study_instance_UID).0\"\n",
    "ct_series_instance_UID = \"$(study_instance_UID).1\"\n",
    "structureset_series_instance_UID = \"$(study_instance_UID).2\"\n",
    "\n",
    "\n",
    "output_dir = \"dicom_test\"\n",
    "mkpath(output_dir)"
   ]
  },
  {
   "cell_type": "code",
   "execution_count": null,
   "metadata": {},
   "outputs": [],
   "source": [
    "using DICOM"
   ]
  },
  {
   "cell_type": "code",
   "execution_count": null,
   "metadata": {},
   "outputs": [],
   "source": [
    "ct_datasets = Juliana.ct_to_dicom(\n",
    "    patient.ct,\n",
    "    study_instance_UID,\n",
    "    frame_of_reference_UID,\n",
    "    ct_series_instance_UID,\n",
    "    new_patient_ID,\n",
    "    patient_name,\n",
    ")\n",
    "for ds in ct_datasets\n",
    "    ds.SeriesDescription = \"CT Images\"\n",
    "    dcm_write(\"$(output_dir)/CT.$(ds.InstanceNumber).dcm\", ds)\n",
    "end"
   ]
  },
  {
   "cell_type": "code",
   "execution_count": null,
   "metadata": {},
   "outputs": [],
   "source": [
    "i = 0\n",
    "series_instance_UID = \"$(study_instance_UID).$(3+i)\"\n",
    "\n",
    "dicom_dose = Juliana.dose_to_dicom(\n",
    "    Juliana.ScalarGrid(wed, patient.ct.grid),\n",
    "    patient_name,\n",
    "    new_patient_ID,\n",
    "    study_instance_UID,\n",
    "    series_instance_UID,\n",
    "    frame_of_reference_UID,\n",
    ")\n",
    "DICOM.dcm_write(\"$(output_dir)/RT_dose_new.dcm\", dicom_dose);"
   ]
  },
  {
   "cell_type": "code",
   "execution_count": null,
   "metadata": {},
   "outputs": [],
   "source": [
    "i = 1\n",
    "series_instance_UID = \"$(study_instance_UID).$(3+i)\"\n",
    "\n",
    "dicom_dose = Juliana.dose_to_dicom(\n",
    "    Juliana.ScalarGrid(wed_fiona, patient.ct.grid),\n",
    "    patient_name,\n",
    "    new_patient_ID,\n",
    "    study_instance_UID,\n",
    "    series_instance_UID,\n",
    "    frame_of_reference_UID,\n",
    ")\n",
    "DICOM.dcm_write(\"$(output_dir)/RT_dose_fiona.dcm\", dicom_dose);"
   ]
  },
  {
   "cell_type": "code",
   "execution_count": null,
   "metadata": {
    "scrolled": true
   },
   "outputs": [],
   "source": [
    "maximum(wed)"
   ]
  },
  {
   "cell_type": "code",
   "execution_count": null,
   "metadata": {},
   "outputs": [],
   "source": [
    "maximum(wed_fiona)"
   ]
  },
  {
   "cell_type": "code",
   "execution_count": null,
   "metadata": {},
   "outputs": [],
   "source": []
  }
 ],
 "metadata": {
  "kernelspec": {
   "display_name": "Julia 1.8.1",
   "language": "julia",
   "name": "julia-1.8"
  },
  "language_info": {
   "file_extension": ".jl",
   "mimetype": "application/julia",
   "name": "julia",
   "version": "1.8.1"
  },
  "toc": {
   "base_numbering": 1,
   "nav_menu": {},
   "number_sections": true,
   "sideBar": true,
   "skip_h1_title": false,
   "title_cell": "Table of Contents",
   "title_sidebar": "Contents",
   "toc_cell": false,
   "toc_position": {},
   "toc_section_display": true,
   "toc_window_display": false
  },
  "varInspector": {
   "cols": {
    "lenName": 16,
    "lenType": 16,
    "lenVar": 40
   },
   "kernels_config": {
    "python": {
     "delete_cmd_postfix": "",
     "delete_cmd_prefix": "del ",
     "library": "var_list.py",
     "varRefreshCmd": "print(var_dic_list())"
    },
    "r": {
     "delete_cmd_postfix": ") ",
     "delete_cmd_prefix": "rm(",
     "library": "var_list.r",
     "varRefreshCmd": "cat(var_dic_list()) "
    }
   },
   "types_to_exclude": [
    "module",
    "function",
    "builtin_function_or_method",
    "instance",
    "_Feature"
   ],
   "window_display": false
  }
 },
 "nbformat": 4,
 "nbformat_minor": 2
}
