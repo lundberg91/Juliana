{
 "cells": [
  {
   "cell_type": "code",
   "execution_count": null,
   "metadata": {},
   "outputs": [],
   "source": [
    "using Juliana\n",
    "using NPZ"
   ]
  },
  {
   "cell_type": "markdown",
   "metadata": {},
   "source": [
    "# Compare dose distributions"
   ]
  },
  {
   "cell_type": "code",
   "execution_count": null,
   "metadata": {},
   "outputs": [],
   "source": [
    "dose_path1 = \"../output/test_reproducibility1/result_dose.dat\"\n",
    "dose_path2 = \"../output/test_reproducibility2/result_dose.dat\"\n",
    "\n",
    "dose1 = Juliana.load_dose_dat_file(dose_path1)\n",
    "dose2 = Juliana.load_dose_dat_file(dose_path2);"
   ]
  },
  {
   "cell_type": "code",
   "execution_count": null,
   "metadata": {},
   "outputs": [],
   "source": [
    "@assert dose1.data == dose2.data\n",
    "@assert dose1.grid.origin == dose2.grid.origin\n",
    "@assert dose1.grid.spacing == dose2.grid.spacing\n",
    "@assert dose1.grid.size == dose2.grid.size"
   ]
  },
  {
   "cell_type": "code",
   "execution_count": null,
   "metadata": {},
   "outputs": [],
   "source": [
    "dose1 = Juliana.read_dicom_dose(\"../output/test_reproducibility1_DICOM/RD_plan_new_recalculated.dcm\")\n",
    "dose2 = Juliana.read_dicom_dose(\"../output/test_reproducibility2_DICOM/RD_plan_new_recalculated.dcm\");"
   ]
  },
  {
   "cell_type": "code",
   "execution_count": null,
   "metadata": {},
   "outputs": [],
   "source": [
    "@assert dose1.data == dose2.data\n",
    "@assert dose1.grid.origin == dose2.grid.origin\n",
    "@assert dose1.grid.spacing == dose2.grid.spacing\n",
    "@assert dose1.grid.size == dose2.grid.size"
   ]
  },
  {
   "cell_type": "markdown",
   "metadata": {},
   "source": [
    "# Compare spot weight vectors"
   ]
  },
  {
   "cell_type": "code",
   "execution_count": null,
   "metadata": {},
   "outputs": [],
   "source": [
    "w_opt_path1 = \"../output/test_reproducibility1/w_opt.npy\"\n",
    "w_opt_path2 = \"../output/test_reproducibility2/w_opt.npy\"\n",
    "\n",
    "w_opt1 = npzread(w_opt_path1)\n",
    "w_opt2 = npzread(w_opt_path2);"
   ]
  },
  {
   "cell_type": "code",
   "execution_count": null,
   "metadata": {},
   "outputs": [],
   "source": [
    "@assert w_opt1 == w_opt2"
   ]
  },
  {
   "cell_type": "code",
   "execution_count": null,
   "metadata": {},
   "outputs": [],
   "source": [
    "# dose_path3 = \"output/clinical_BA_blind_study/test_00/result_dose.dat\"\n",
    "# dose_path4 = \"output_test/test_00/result_dose.dat\"\n",
    "\n",
    "# dose3 = Juliana.load_dose_dat_file(dose_path3)\n",
    "# dose4 = Juliana.load_dose_dat_file(dose_path4)"
   ]
  },
  {
   "cell_type": "code",
   "execution_count": null,
   "metadata": {},
   "outputs": [],
   "source": [
    "# @assert dose3.data == dose4.data\n",
    "# @assert dose3.grid.origin == dose4.grid.origin\n",
    "# @assert dose3.grid.spacing == dose4.grid.spacing\n",
    "# @assert dose3.grid.size == dose4.grid.size"
   ]
  },
  {
   "cell_type": "code",
   "execution_count": null,
   "metadata": {},
   "outputs": [],
   "source": [
    "# dose3 = Juliana.read_dicom_dose(\"output_test/DICOM/test_00/RD_plan_new_recalculated.dcm\")\n",
    "# dose4 = Juliana.read_dicom_dose(\"output/clinical_BA_blind_study/DICOM/test_00/RD_plan_new_recalculated.dcm\");"
   ]
  },
  {
   "cell_type": "code",
   "execution_count": null,
   "metadata": {},
   "outputs": [],
   "source": [
    "# @assert dose3.data == dose4.data\n",
    "# @assert dose3.grid.origin == dose4.grid.origin\n",
    "# @assert dose3.grid.spacing == dose4.grid.spacing\n",
    "# @assert dose3.grid.size == dose4.grid.size"
   ]
  },
  {
   "cell_type": "code",
   "execution_count": null,
   "metadata": {},
   "outputs": [],
   "source": []
  }
 ],
 "metadata": {
  "kernelspec": {
   "display_name": "Julia 1.8.1",
   "language": "julia",
   "name": "julia-1.8"
  },
  "language_info": {
   "file_extension": ".jl",
   "mimetype": "application/julia",
   "name": "julia",
   "version": "1.8.1"
  },
  "toc": {
   "base_numbering": 1,
   "nav_menu": {},
   "number_sections": true,
   "sideBar": true,
   "skip_h1_title": false,
   "title_cell": "Table of Contents",
   "title_sidebar": "Contents",
   "toc_cell": false,
   "toc_position": {},
   "toc_section_display": true,
   "toc_window_display": false
  },
  "varInspector": {
   "cols": {
    "lenName": 16,
    "lenType": 16,
    "lenVar": 40
   },
   "kernels_config": {
    "python": {
     "delete_cmd_postfix": "",
     "delete_cmd_prefix": "del ",
     "library": "var_list.py",
     "varRefreshCmd": "print(var_dic_list())"
    },
    "r": {
     "delete_cmd_postfix": ") ",
     "delete_cmd_prefix": "rm(",
     "library": "var_list.r",
     "varRefreshCmd": "cat(var_dic_list()) "
    }
   },
   "types_to_exclude": [
    "module",
    "function",
    "builtin_function_or_method",
    "instance",
    "_Feature"
   ],
   "window_display": false
  }
 },
 "nbformat": 4,
 "nbformat_minor": 2
}
