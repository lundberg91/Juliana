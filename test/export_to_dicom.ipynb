{
 "cells": [
  {
   "cell_type": "code",
   "execution_count": null,
   "metadata": {
    "scrolled": false
   },
   "outputs": [],
   "source": [
    "using DICOM\n",
    "using Juliana\n",
    "# using Plots"
   ]
  },
  {
   "cell_type": "code",
   "execution_count": null,
   "metadata": {},
   "outputs": [],
   "source": [
    "output_dir = \"tmp_dicom_output\"\n",
    "mkpath(output_dir);"
   ]
  },
  {
   "cell_type": "markdown",
   "metadata": {},
   "source": [
    "# CT"
   ]
  },
  {
   "cell_type": "code",
   "execution_count": null,
   "metadata": {},
   "outputs": [],
   "source": [
    "ct_0 = DICOM.dcm_parse(\"/data/user/bellotti_r/data/DICOM/train_00/CT.0.dcm\");"
   ]
  },
  {
   "cell_type": "code",
   "execution_count": null,
   "metadata": {},
   "outputs": [],
   "source": [
    "ct = Juliana.load_ct_dat_file(\"/data/user/bellotti_r/data/CTs/train_00_0.dat\");"
   ]
  },
  {
   "cell_type": "code",
   "execution_count": null,
   "metadata": {},
   "outputs": [],
   "source": [
    "dicom_dir = \"/data/user/bellotti_r/data/DICOM/train_00\"\n",
    "ct_files = [f for f in readdir(dicom_dir) if startswith(f, \"CT.\")]\n",
    "ct_files = sort(ct_files, by=text -> parse(Int64, split(text, \".\")[2]));\n",
    "ct_paths = [\"$(dicom_dir)/$f\" for f in ct_files];"
   ]
  },
  {
   "cell_type": "code",
   "execution_count": null,
   "metadata": {},
   "outputs": [],
   "source": [
    "ct2 = Juliana.read_dicom_ct(ct_paths);"
   ]
  },
  {
   "cell_type": "code",
   "execution_count": null,
   "metadata": {},
   "outputs": [],
   "source": [
    "@assert ct.grid.origin == ct2.grid.origin\n",
    "@assert ct.grid.spacing == ct2.grid.spacing\n",
    "@assert ct.grid.size == ct2.grid.size\n",
    "@assert ct.data == ct2.data"
   ]
  },
  {
   "cell_type": "code",
   "execution_count": null,
   "metadata": {},
   "outputs": [],
   "source": [
    "slice_ind = 0\n",
    "# Transpose: DICOM is row-major, Julia is column-major.\n",
    "# https://dicom.innolitics.com/ciods/ct-image/image-pixel/7fe00010\n",
    "array = ct_0.PixelData' .* ct_0.RescaleSlope .+ ct_0.RescaleIntercept\n",
    "spacing = convert.(Float32, round.([\n",
    "    ct_0.PixelSpacing[1] / 10,\n",
    "    ct_0.PixelSpacing[2] / 10,\n",
    "    ct_0.SliceThickness  / 10,\n",
    "], digits=6)) # cm\n",
    "origin = ct_0.ImagePositionPatient ./ 10 # cm\n",
    "orientation = ct_0.PatientPosition\n",
    "decrease_precision = true\n",
    "\n",
    "dicom_ct = Juliana.ct_slice_to_dicom(array, spacing, origin, orientation, slice_ind, decrease_precision=true);"
   ]
  },
  {
   "cell_type": "code",
   "execution_count": null,
   "metadata": {},
   "outputs": [],
   "source": [
    "DICOM.dcm_write(\"CT.test.0.dcm\", dicom_ct);\n",
    "loaded = DICOM.dcm_parse(\"CT.test.0.dcm\");"
   ]
  },
  {
   "cell_type": "code",
   "execution_count": null,
   "metadata": {},
   "outputs": [],
   "source": []
  },
  {
   "cell_type": "code",
   "execution_count": null,
   "metadata": {},
   "outputs": [],
   "source": [
    "@assert loaded.PixelData == ct_0.PixelData\n",
    "@assert loaded.RescaleIntercept == ct_0.RescaleIntercept\n",
    "@assert loaded.RescaleSlope == ct_0.RescaleSlope\n",
    "@assert loaded.Columns == ct_0.Columns\n",
    "@assert loaded.Rows == ct_0.Rows\n",
    "@assert loaded.ImageOrientationPatient == ct_0.ImageOrientationPatient\n",
    "@assert loaded.ImagePositionPatient == ct_0.ImagePositionPatient\n",
    "@assert loaded.NumberOfFrames == ct_0.NumberOfFrames\n",
    "@assert loaded.PixelSpacing == ct_0.PixelSpacing\n",
    "@assert loaded.SliceLocation == ct_0.SliceLocation\n",
    "@assert loaded.SliceThickness == ct_0.SliceThickness"
   ]
  },
  {
   "cell_type": "code",
   "execution_count": null,
   "metadata": {
    "scrolled": false
   },
   "outputs": [],
   "source": [
    "patient_ID = \"train_00\"\n",
    "new_patient_ID = \"bellotti_r_dicom_test\"\n",
    "study_instance_UID = Juliana.get_study_instance_uid(new_patient_ID)\n",
    "\n",
    "frame_of_reference_UID = \"$(study_instance_UID).0\"\n",
    "ct_series_instance_UID = \"$(study_instance_UID).1\"\n",
    "structureset_series_instance_UID = \"$(study_instance_UID).2\"\n",
    "patient_name = \"$(new_patient_ID)^$(new_patient_ID)\"\n",
    "\n",
    "output_dir = \"dicom_test\"\n",
    "mkpath(output_dir)\n",
    "\n",
    "ct_datasets = Juliana.ct_to_dicom(\n",
    "    ct,\n",
    "    study_instance_UID,\n",
    "    frame_of_reference_UID,\n",
    "    ct_series_instance_UID,\n",
    "    new_patient_ID,\n",
    "    patient_name,\n",
    ")\n",
    "for ds in ct_datasets\n",
    "    ds.SeriesDescription = \"CT Images\"\n",
    "    dcm_write(\"$(output_dir)/CT.$(ds.InstanceNumber).dcm\", ds)\n",
    "end"
   ]
  },
  {
   "cell_type": "code",
   "execution_count": null,
   "metadata": {},
   "outputs": [],
   "source": []
  },
  {
   "cell_type": "code",
   "execution_count": null,
   "metadata": {},
   "outputs": [],
   "source": [
    "paths = [\"$(output_dir)/CT.$(i).dcm\" for i in 0:length(ct_datasets)-1]\n",
    "ct_loaded = Juliana.read_dicom_ct(paths);"
   ]
  },
  {
   "cell_type": "code",
   "execution_count": null,
   "metadata": {},
   "outputs": [],
   "source": [
    "@assert ct.data == ct_loaded.data\n",
    "@assert ct.grid.origin == ct_loaded.grid.origin\n",
    "@assert ct.grid.spacing == ct_loaded.grid.spacing\n",
    "@assert ct.grid.size == ct_loaded.grid.size"
   ]
  },
  {
   "cell_type": "markdown",
   "metadata": {},
   "source": [
    "# Dose"
   ]
  },
  {
   "cell_type": "code",
   "execution_count": null,
   "metadata": {},
   "outputs": [],
   "source": [
    "dose_orig = Juliana.read_dicom_dose(\"/data/user/bellotti_r/data/DICOM/train_00/RD_plan_psiplan.dcm\");"
   ]
  },
  {
   "cell_type": "code",
   "execution_count": null,
   "metadata": {},
   "outputs": [],
   "source": [
    "i = 0\n",
    "series_instance_UID = \"$(study_instance_UID).$(3+i)\""
   ]
  },
  {
   "cell_type": "code",
   "execution_count": null,
   "metadata": {},
   "outputs": [],
   "source": [
    "dose_dat = Juliana.load_dose_dat_file(\"/data/user/bellotti_r/data/clinical_dose_distributions/train_00_0.dat\");"
   ]
  },
  {
   "cell_type": "code",
   "execution_count": null,
   "metadata": {},
   "outputs": [],
   "source": [
    "data = dose_orig.data\n",
    "spacing = dose_orig.grid.spacing\n",
    "origin = dose_orig.grid.origin\n",
    "\n",
    "dicom_dose = Juliana.dose_to_dicom(\n",
    "    dose_orig,\n",
    "    patient_name,\n",
    "    new_patient_ID,\n",
    "    study_instance_UID,\n",
    "    series_instance_UID,\n",
    "    frame_of_reference_UID,\n",
    ")\n",
    "DICOM.dcm_write(\"RT_dose.test.dcm\", dicom_dose);"
   ]
  },
  {
   "cell_type": "code",
   "execution_count": null,
   "metadata": {},
   "outputs": [],
   "source": [
    "loaded = Juliana.read_dicom_dose(\"RT_dose.test.dcm\");"
   ]
  },
  {
   "cell_type": "code",
   "execution_count": null,
   "metadata": {},
   "outputs": [],
   "source": [
    "@assert maximum(abs.((dose_dat.data .- dose_orig.data))) < 5e-3"
   ]
  },
  {
   "cell_type": "code",
   "execution_count": null,
   "metadata": {},
   "outputs": [],
   "source": [
    "@assert dose_orig.grid.origin == loaded.grid.origin\n",
    "@assert dose_orig.grid.spacing == loaded.grid.spacing\n",
    "@assert dose_orig.grid.size == loaded.grid.size\n",
    "@assert maximum(abs.(loaded.data .- dose_orig.data)) < 1e-3"
   ]
  },
  {
   "cell_type": "markdown",
   "metadata": {},
   "source": [
    "# Structure Set"
   ]
  },
  {
   "cell_type": "markdown",
   "metadata": {},
   "source": [
    "## Reading"
   ]
  },
  {
   "cell_type": "code",
   "execution_count": null,
   "metadata": {
    "scrolled": true
   },
   "outputs": [],
   "source": [
    "structure_points = Juliana.read_dicom_structure_points(\"/data/user/bellotti_r/data/DICOM/train_00/RS.1.2.826.0.1.3680043.8.498.98406890352034867029780269302956614897.2.dcm\");"
   ]
  },
  {
   "cell_type": "code",
   "execution_count": null,
   "metadata": {},
   "outputs": [],
   "source": [
    "structures = Juliana.read_dicom_structureset(\n",
    "    \"/data/user/bellotti_r/data/DICOM/train_00/RS.1.2.826.0.1.3680043.8.498.98406890352034867029780269302956614897.2.dcm\",\n",
    "    ct.grid,\n",
    ");"
   ]
  },
  {
   "cell_type": "code",
   "execution_count": null,
   "metadata": {},
   "outputs": [],
   "source": [
    "for name in keys(structure_points)\n",
    "    @assert structures[name].points == structure_points[name]\n",
    "end\n",
    "@assert keys(structure_points) == keys(structures)"
   ]
  },
  {
   "cell_type": "code",
   "execution_count": null,
   "metadata": {},
   "outputs": [],
   "source": [
    "for name in collect(keys(structure_points))[1:3]\n",
    "    points_old = Juliana.load_npy_structure(\n",
    "        name,\n",
    "        \"/data/user/bellotti_r/data/structures/train_00/0/$(name).npy\",\n",
    "        ct.grid,\n",
    "        false,\n",
    "    ).points;\n",
    "    points_old == structure_points[name]\n",
    "end"
   ]
  },
  {
   "cell_type": "markdown",
   "metadata": {},
   "source": [
    "## Writing"
   ]
  },
  {
   "cell_type": "code",
   "execution_count": null,
   "metadata": {},
   "outputs": [],
   "source": [
    "structures_vect = collect(values(structures));"
   ]
  },
  {
   "cell_type": "code",
   "execution_count": null,
   "metadata": {},
   "outputs": [],
   "source": [
    "dicom_structures = Juliana.structures_to_dicom(\n",
    "    structures_vect,\n",
    "    study_instance_UID,\n",
    "    frame_of_reference_UID,\n",
    "    ct_series_instance_UID,\n",
    "    structureset_series_instance_UID,\n",
    "    patient_ID,\n",
    "    patient_name,\n",
    "    ct,\n",
    "    ct_datasets,\n",
    "    drop_precision=true,\n",
    ")\n",
    "DICOM.dcm_write(\"RS.test.dcm\", dicom_structures);"
   ]
  },
  {
   "cell_type": "code",
   "execution_count": null,
   "metadata": {
    "scrolled": true
   },
   "outputs": [],
   "source": [
    "structures_loaded = Juliana.read_dicom_structureset(\"RS.test.dcm\", ct.grid);"
   ]
  },
  {
   "cell_type": "code",
   "execution_count": null,
   "metadata": {},
   "outputs": [],
   "source": [
    "@assert Set(keys(structures)) == Set(keys(structures_loaded))\n",
    "\n",
    "for name in keys(structures)\n",
    "    @assert maximum(abs.(structures[name].points - structures_loaded[name].points)) < 1e-6\n",
    "    # Masks are not calculated for performance reasons.\n",
    "    # But if the points are the same, so will be the masks.\n",
    "    # @assert structures[name].mask == structures_loaded[name].mask\n",
    "end"
   ]
  },
  {
   "cell_type": "markdown",
   "metadata": {},
   "source": [
    "# Convenience function for exporting everything"
   ]
  },
  {
   "cell_type": "code",
   "execution_count": null,
   "metadata": {},
   "outputs": [],
   "source": [
    "doses = Dict{String, Juliana.ScalarGrid}()\n",
    "doses[\"my_dose\"] = dose_dat;"
   ]
  },
  {
   "cell_type": "code",
   "execution_count": null,
   "metadata": {},
   "outputs": [],
   "source": [
    "new_patient_ID = \"test_juliana_dicom_train_00\"\n",
    "study_instance_UID = Juliana.get_study_instance_uid(new_patient_ID);"
   ]
  },
  {
   "cell_type": "code",
   "execution_count": null,
   "metadata": {},
   "outputs": [],
   "source": [
    "Juliana.dicom_export_to_directory(\n",
    "    ct,\n",
    "    structures,\n",
    "    output_dir,\n",
    "    study_instance_UID,\n",
    "    new_patient_ID,\n",
    "    doses,\n",
    ")"
   ]
  },
  {
   "cell_type": "code",
   "execution_count": null,
   "metadata": {},
   "outputs": [],
   "source": []
  }
 ],
 "metadata": {
  "kernelspec": {
   "display_name": "Julia 1.8.1",
   "language": "julia",
   "name": "julia-1.8"
  },
  "language_info": {
   "file_extension": ".jl",
   "mimetype": "application/julia",
   "name": "julia",
   "version": "1.8.1"
  },
  "toc": {
   "base_numbering": 1,
   "nav_menu": {},
   "number_sections": true,
   "sideBar": true,
   "skip_h1_title": false,
   "title_cell": "Table of Contents",
   "title_sidebar": "Contents",
   "toc_cell": false,
   "toc_position": {
    "height": "calc(100% - 180px)",
    "left": "10px",
    "top": "150px",
    "width": "384px"
   },
   "toc_section_display": true,
   "toc_window_display": true
  },
  "varInspector": {
   "cols": {
    "lenName": 16,
    "lenType": 16,
    "lenVar": 40
   },
   "kernels_config": {
    "python": {
     "delete_cmd_postfix": "",
     "delete_cmd_prefix": "del ",
     "library": "var_list.py",
     "varRefreshCmd": "print(var_dic_list())"
    },
    "r": {
     "delete_cmd_postfix": ") ",
     "delete_cmd_prefix": "rm(",
     "library": "var_list.r",
     "varRefreshCmd": "cat(var_dic_list()) "
    }
   },
   "types_to_exclude": [
    "module",
    "function",
    "builtin_function_or_method",
    "instance",
    "_Feature"
   ],
   "window_display": false
  }
 },
 "nbformat": 4,
 "nbformat_minor": 2
}
