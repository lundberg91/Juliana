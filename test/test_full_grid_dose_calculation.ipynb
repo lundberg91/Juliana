{
 "cells": [
  {
   "cell_type": "code",
   "execution_count": null,
   "metadata": {},
   "outputs": [],
   "source": [
    "using CUDA\n",
    "using CUDAKernels\n",
    "using DataFrames\n",
    "using KernelAbstractions\n",
    "using Printf\n",
    "using SparseArrays\n",
    "using Statistics\n",
    "using Juliana"
   ]
  },
  {
   "cell_type": "markdown",
   "metadata": {},
   "source": [
    "# Config"
   ]
  },
  {
   "cell_type": "code",
   "execution_count": null,
   "metadata": {},
   "outputs": [],
   "source": [
    "data_dir = \"/data/user/bellotti_r/data\"\n",
    "\n",
    "patient_ID = \"train_00\""
   ]
  },
  {
   "cell_type": "code",
   "execution_count": null,
   "metadata": {},
   "outputs": [],
   "source": [
    "fiona_standalone_bin_path = \"/data/user/bellotti_r/semester_project_planning_metrics/src/pyftpp/bin\"\n",
    "fiona_jar_path = \"$fiona_standalone_bin_path/ch.psi.ftpp.standalone.planner-1.0.9.jar\";"
   ]
  },
  {
   "cell_type": "code",
   "execution_count": null,
   "metadata": {},
   "outputs": [],
   "source": [
    "output_dir = \"../output/test/full_dose_calculation\"\n",
    "mkpath(output_dir)\n",
    "\n",
    "dicom_dir = \"$(output_dir)/DICOM\"\n",
    "mkpath(dicom_dir)"
   ]
  },
  {
   "cell_type": "code",
   "execution_count": null,
   "metadata": {},
   "outputs": [],
   "source": [
    "dose_resolution = 0.35f0"
   ]
  },
  {
   "cell_type": "code",
   "execution_count": null,
   "metadata": {},
   "outputs": [],
   "source": [
    "gantry_angle = 90f0\n",
    "couch_angle = 0f0\n",
    "nozzle_extraction = 20f0;"
   ]
  },
  {
   "cell_type": "markdown",
   "metadata": {},
   "source": [
    "# Load data"
   ]
  },
  {
   "cell_type": "code",
   "execution_count": null,
   "metadata": {},
   "outputs": [],
   "source": [
    "ct_path, patient_data = Juliana.load_patient_data(data_dir, patient_ID)\n",
    "\n",
    "ct = patient_data.ct\n",
    "target_name, target_dose = Juliana.coldest_target(patient_data.prescriptions)\n",
    "target = patient_data.structures[target_name];"
   ]
  },
  {
   "cell_type": "code",
   "execution_count": null,
   "metadata": {},
   "outputs": [],
   "source": [
    "# ct, waterblock = Juliana.build_water_slab();\n",
    "\n",
    "# target = waterblock"
   ]
  },
  {
   "cell_type": "code",
   "execution_count": null,
   "metadata": {},
   "outputs": [],
   "source": [
    "tmp = mean(target.points, dims=1)\n",
    "iso_center = Dict(\n",
    "    \"x\" => tmp[1],\n",
    "    \"y\" => tmp[2],\n",
    "    \"z\" => tmp[3],\n",
    ")"
   ]
  },
  {
   "cell_type": "code",
   "execution_count": null,
   "metadata": {},
   "outputs": [],
   "source": [
    "depth_dose_curves, sigma_mcs_curves, phase_space_no_preabsorber, phase_space_with_preabsorber = Juliana.load_machine_parameters(fiona_standalone_bin_path, nozzle_extraction);\n",
    "ranges = [Juliana.get_range(depth_dose_curves, E) for E in depth_dose_curves.energies];"
   ]
  },
  {
   "cell_type": "markdown",
   "metadata": {},
   "source": [
    "# Create the plan & calculate the dose using Fiona standalone"
   ]
  },
  {
   "cell_type": "code",
   "execution_count": null,
   "metadata": {},
   "outputs": [],
   "source": [
    "optimisation_mask, optimisation_points, optimisation_indices = Juliana.get_optimisation_points_from_prescription(\n",
    "    ct.grid,\n",
    "    patient_data.prescriptions,\n",
    "    patient_data.structures::Dict{String, Juliana.Structure},\n",
    ");\n",
    "\n",
    "optim_grid = Juliana.get_optimisation_grid(optimisation_points, ct.grid);"
   ]
  },
  {
   "cell_type": "code",
   "execution_count": null,
   "metadata": {},
   "outputs": [],
   "source": [
    "optim_grid"
   ]
  },
  {
   "cell_type": "code",
   "execution_count": null,
   "metadata": {},
   "outputs": [],
   "source": [
    "main_config = Juliana.FionaStandalone.MainConfig(\n",
    "    ct_path,\n",
    "    output_dir,\n",
    "    target_dose,\n",
    "    fiona_standalone_bin_path;\n",
    "    doseResolution=dose_resolution,\n",
    ");\n",
    "\n",
    "target_def = Juliana.FionaStandalone.StructureDefinition(target, 0)\n",
    "\n",
    "optim_config = Juliana.FionaStandalone.OptimizationSettings(\n",
    "    target_dose,\n",
    "    0.9f0 * target_dose,\n",
    "    target_def,\n",
    "    Vector{Juliana.FionaStandalone.StructureConstraints}(undef, 0),\n",
    "    Juliana.FionaStandalone.to_OptimizationGrid(optim_grid),\n",
    "    300, # Number of iterations.\n",
    ");\n",
    "\n",
    "field = Juliana.FionaStandalone.SpotPlacementFieldDefinition(\n",
    "    0,                 # target ID\n",
    "    gantry_angle,      # gantry angle\n",
    "    couch_angle,       # couch angle\n",
    "    nozzle_extraction, # nozzle extraction\n",
    "    \"AUTO\",\n",
    ");\n",
    "\n",
    "spot_placement_config = Juliana.FionaStandalone.SpotPlacementConfig(\n",
    "    [field],\n",
    "    [target_def],\n",
    ");"
   ]
  },
  {
   "cell_type": "code",
   "execution_count": null,
   "metadata": {},
   "outputs": [],
   "source": [
    "Juliana.FionaStandalone.run_spot_placement(\n",
    "    fiona_jar_path,\n",
    "    output_dir,\n",
    "    false, # log DIj\n",
    "    false, # log WED\n",
    "    main_config,\n",
    "    optim_config,\n",
    "    spot_placement_config,\n",
    ")\n",
    "\n",
    "plan = Juliana.FionaStandalone.read_plan_file(\"$(output_dir)/result_plan.json\")\n",
    "\n",
    "Juliana.FionaStandalone.run_optimization(\n",
    "    fiona_jar_path,\n",
    "    output_dir,\n",
    "    false, # log Dij\n",
    "    false, # log WED\n",
    "    main_config,\n",
    "    optim_config,\n",
    "    spot_placement_config,\n",
    "    plan;\n",
    ");\n",
    "\n",
    "Juliana.FionaStandalone.run_dose_calculation(\n",
    "    fiona_jar_path,\n",
    "    output_dir,\n",
    "    false, # log Dij\n",
    "    false, # log WED\n",
    ");"
   ]
  },
  {
   "cell_type": "code",
   "execution_count": null,
   "metadata": {},
   "outputs": [],
   "source": [
    "plan = Juliana.FionaStandalone.read_plan_file(\"$(output_dir)/result_plan.json\");\n",
    "dose_fiona = Juliana.load_dose_dat_file(\"$(output_dir)/result_dose.dat\");"
   ]
  },
  {
   "cell_type": "markdown",
   "metadata": {},
   "source": [
    "# Calculate dose using Fiona"
   ]
  },
  {
   "cell_type": "markdown",
   "metadata": {},
   "source": [
    "## Load machine parameters for the given field"
   ]
  },
  {
   "cell_type": "code",
   "execution_count": null,
   "metadata": {},
   "outputs": [],
   "source": [
    "field = only(plan.fields);\n",
    "spot_df = DataFrame(field.spots);"
   ]
  },
  {
   "cell_type": "code",
   "execution_count": null,
   "metadata": {},
   "outputs": [],
   "source": [
    "ddc, sigma_dc, ps_no_preab, ps_with_preab = Juliana.load_machine_parameters(fiona_standalone_bin_path, field.nozzleExtraction);"
   ]
  },
  {
   "cell_type": "markdown",
   "metadata": {},
   "source": [
    "## Define the grid"
   ]
  },
  {
   "cell_type": "code",
   "execution_count": null,
   "metadata": {},
   "outputs": [],
   "source": [
    "@assert ct.grid.origin == zeros(3)\n",
    "\n",
    "dose_calculation_spacing = [dose_resolution, dose_resolution, dose_resolution]\n",
    "dose_calculation_origin = ct.grid.origin\n",
    "# floor(): Make sure the dose calculation grid lies fully within the CT grid.\n",
    "dose_calculation_size = convert.(Int64, floor.(ct.grid.spacing .* ct.grid.size ./ dose_calculation_spacing))\n",
    "\n",
    "dose_calculation_grid = Juliana.Grid(\n",
    "    dose_calculation_spacing,\n",
    "    dose_calculation_origin,\n",
    "    dose_calculation_size,\n",
    ");"
   ]
  },
  {
   "cell_type": "code",
   "execution_count": null,
   "metadata": {},
   "outputs": [],
   "source": [
    "dose_calculation_size"
   ]
  },
  {
   "cell_type": "code",
   "execution_count": null,
   "metadata": {},
   "outputs": [],
   "source": [
    "points, indices = Juliana.grid_to_points_and_indices(dose_calculation_grid)"
   ]
  },
  {
   "cell_type": "markdown",
   "metadata": {},
   "source": [
    "## Calculate relative stopping power"
   ]
  },
  {
   "cell_type": "code",
   "execution_count": null,
   "metadata": {},
   "outputs": [],
   "source": [
    "hu_to_sp = Juliana.hu_to_sp_factory(\"$(fiona_standalone_bin_path)/huToSp.json\");"
   ]
  },
  {
   "cell_type": "code",
   "execution_count": null,
   "metadata": {},
   "outputs": [],
   "source": [
    "densities = Juliana.ScalarGrid(\n",
    "    hu_to_sp.(ct.data),\n",
    "    ct.grid,\n",
    ");"
   ]
  },
  {
   "cell_type": "markdown",
   "metadata": {},
   "source": [
    "## Calculate the WED"
   ]
  },
  {
   "cell_type": "code",
   "execution_count": null,
   "metadata": {
    "scrolled": true
   },
   "outputs": [],
   "source": [
    "@time wed = Juliana.calculate_wed(densities, gantry_angle, couch_angle, points);"
   ]
  },
  {
   "cell_type": "code",
   "execution_count": null,
   "metadata": {},
   "outputs": [],
   "source": [
    "size(wed)"
   ]
  },
  {
   "cell_type": "code",
   "execution_count": null,
   "metadata": {},
   "outputs": [],
   "source": [
    "wed_cube_coarse = Array{Float32, 3}(undef, dose_calculation_grid.size...);"
   ]
  },
  {
   "cell_type": "markdown",
   "metadata": {},
   "source": [
    "## Calculate the dose"
   ]
  },
  {
   "cell_type": "code",
   "execution_count": null,
   "metadata": {},
   "outputs": [],
   "source": [
    "dose_kernel = Juliana.DoseCalculationKernel(CUDADevice(), 32);"
   ]
  },
  {
   "cell_type": "code",
   "execution_count": null,
   "metadata": {},
   "outputs": [],
   "source": [
    "d_dose = cu(Vector{Float32}(undef, length(wed)))\n",
    "fill!(d_dose, 0)\n",
    "d_wed = cu(wed)\n",
    "d_field_center = cu([\n",
    "    field.fieldCenter[\"x\"],\n",
    "    field.fieldCenter[\"y\"],\n",
    "    field.fieldCenter[\"z\"],\n",
    "])\n",
    "d_spots_t = cu(spot_df.t)\n",
    "d_spots_u = cu(spot_df.u)\n",
    "d_spots_E = cu(Float32.(spot_df.energykeV))\n",
    "d_preabsorbers = cu(Float32.(spot_df.numberOfAbsorbers))\n",
    "d_w = cu(spot_df.weight)\n",
    "d_points = cu(points')\n",
    "d_ddc = cu(ddc)\n",
    "d_sigma_dc = cu(sigma_dc)\n",
    "d_ps_no_preab = cu(ps_no_preab)\n",
    "d_ps_with_preab = cu(ps_with_preab);"
   ]
  },
  {
   "cell_type": "code",
   "execution_count": null,
   "metadata": {},
   "outputs": [],
   "source": [
    "start = time()\n",
    "event = Juliana.dose_kernel(\n",
    "    d_dose,\n",
    "    d_wed,\n",
    "    d_field_center,\n",
    "    Float32(field.gantryAngle),\n",
    "    Float32(field.couchAngle),\n",
    "    d_spots_t,\n",
    "    d_spots_u,\n",
    "    d_spots_E,\n",
    "    d_preabsorbers,\n",
    "    d_w,\n",
    "    d_points,\n",
    "    d_ddc,\n",
    "    d_sigma_dc,\n",
    "    d_ps_no_preab,\n",
    "    d_ps_with_preab,\n",
    "    Juliana.PREABSORBER_WED,\n",
    "    ndrange=(length(wed)),\n",
    ")\n",
    "wait(event)\n",
    "stop = time()\n",
    "@printf \"Time for dose calculation: %.2fs\" stop - start"
   ]
  },
  {
   "cell_type": "code",
   "execution_count": null,
   "metadata": {},
   "outputs": [],
   "source": [
    "dose_at_nodes = collect(d_dose)"
   ]
  },
  {
   "cell_type": "code",
   "execution_count": null,
   "metadata": {},
   "outputs": [],
   "source": [
    "dose_at_nodes_cube = Juliana.flat_vector_to_cube(dose_calculation_grid, indices, dose_at_nodes);\n",
    "dose_at_nodes = Juliana.ScalarGrid(dose_at_nodes_cube, dose_calculation_grid);"
   ]
  },
  {
   "cell_type": "code",
   "execution_count": null,
   "metadata": {
    "scrolled": true
   },
   "outputs": [],
   "source": [
    "points_ct, indices_ct = Juliana.grid_to_points_and_indices(ct.grid)\n",
    "\n",
    "dose_interpolated_cube = zeros(Float32, ct.grid.size...)\n",
    "for (index, p) in zip(eachcol(indices_ct), eachcol(points_ct))\n",
    "    dose_interpolated_cube[index[1], index[2], index[3]] = Juliana.interpolate_linearly(dose_at_nodes, Tuple(p))\n",
    "end\n",
    "dose_interpolated_cube[isnan.(dose_interpolated_cube)] .= 0\n",
    "dose_interpolated = Juliana.ScalarGrid(dose_interpolated_cube, ct.grid);"
   ]
  },
  {
   "cell_type": "code",
   "execution_count": null,
   "metadata": {},
   "outputs": [],
   "source": [
    "Juliana.dicom_export_to_directory(\n",
    "    ct,\n",
    "    patient_data.structures,\n",
    "    dicom_dir,\n",
    "    \"bellotti_r_tmp\",\n",
    "    \"bellotti_r_tmp\",\n",
    "    Dict{String, Juliana.ScalarGrid}(\n",
    "        \"fiona\" => dose_fiona,\n",
    "        \"on_dose_calc_grid\" => dose_at_nodes,\n",
    "        \"interpolated\" => dose_interpolated,\n",
    "    ),\n",
    ")"
   ]
  },
  {
   "cell_type": "code",
   "execution_count": null,
   "metadata": {},
   "outputs": [],
   "source": [
    "maximum(dose_at_nodes.data)"
   ]
  },
  {
   "cell_type": "code",
   "execution_count": null,
   "metadata": {},
   "outputs": [],
   "source": [
    "maximum(dose_fiona.data)"
   ]
  },
  {
   "cell_type": "code",
   "execution_count": null,
   "metadata": {},
   "outputs": [],
   "source": [
    "densities.grid"
   ]
  },
  {
   "cell_type": "code",
   "execution_count": null,
   "metadata": {},
   "outputs": [],
   "source": [
    "patient_data.prescriptions.target_doses"
   ]
  },
  {
   "cell_type": "code",
   "execution_count": null,
   "metadata": {},
   "outputs": [],
   "source": [
    "using PyPlot"
   ]
  },
  {
   "cell_type": "code",
   "execution_count": null,
   "metadata": {},
   "outputs": [],
   "source": [
    "fig, ax = subplots()\n",
    "\n",
    "ax.hist(abs.(vec(dose_fiona.data) .- vec(dose_interpolated.data)), bins=100)\n",
    "#ax.set_xscale(\"log\")\n",
    "ax.set_yscale(\"log\")"
   ]
  },
  {
   "cell_type": "code",
   "execution_count": null,
   "metadata": {},
   "outputs": [],
   "source": []
  }
 ],
 "metadata": {
  "kernelspec": {
   "display_name": "Julia 1.8.1",
   "language": "julia",
   "name": "julia-1.8"
  },
  "language_info": {
   "file_extension": ".jl",
   "mimetype": "application/julia",
   "name": "julia",
   "version": "1.8.1"
  },
  "toc": {
   "base_numbering": 1,
   "nav_menu": {},
   "number_sections": true,
   "sideBar": true,
   "skip_h1_title": false,
   "title_cell": "Table of Contents",
   "title_sidebar": "Contents",
   "toc_cell": false,
   "toc_position": {},
   "toc_section_display": true,
   "toc_window_display": false
  },
  "varInspector": {
   "cols": {
    "lenName": 16,
    "lenType": 16,
    "lenVar": 40
   },
   "kernels_config": {
    "python": {
     "delete_cmd_postfix": "",
     "delete_cmd_prefix": "del ",
     "library": "var_list.py",
     "varRefreshCmd": "print(var_dic_list())"
    },
    "r": {
     "delete_cmd_postfix": ") ",
     "delete_cmd_prefix": "rm(",
     "library": "var_list.r",
     "varRefreshCmd": "cat(var_dic_list()) "
    }
   },
   "types_to_exclude": [
    "module",
    "function",
    "builtin_function_or_method",
    "instance",
    "_Feature"
   ],
   "window_display": false
  }
 },
 "nbformat": 4,
 "nbformat_minor": 2
}
