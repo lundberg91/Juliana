{
 "cells": [
  {
   "cell_type": "code",
   "execution_count": null,
   "metadata": {},
   "outputs": [],
   "source": [
    "using DataFrames\n",
    "using DICOM\n",
    "using Juliana"
   ]
  },
  {
   "cell_type": "markdown",
   "metadata": {},
   "source": [
    "# Config"
   ]
  },
  {
   "cell_type": "code",
   "execution_count": null,
   "metadata": {},
   "outputs": [],
   "source": [
    "data_dir = \"/data/user/bellotti_r/data_juliana_application\"\n",
    "patient_ID = \"patient_01\"\n",
    "original_dose_file = \"/data/user/bellotti_r/differentiable-planning/output/prof_weber_patient/patient_01/result_dose.dat\"\n",
    "plan_file = \"/data/user/bellotti_r/differentiable-planning/output/prof_weber_patient/patient_01/result_plan.json\"\n",
    "\n",
    "fiona_standalone_bin_path = \"/data/user/bellotti_r/semester_project_planning_metrics/src/pyftpp/bin\"\n",
    "fiona_jar_path = \"$fiona_standalone_bin_path/ch.psi.ftpp.standalone.planner-1.0.9.jar\";"
   ]
  },
  {
   "cell_type": "code",
   "execution_count": null,
   "metadata": {},
   "outputs": [],
   "source": [
    "output_dir = \"../output/test\"\n",
    "mkpath(output_dir)"
   ]
  },
  {
   "cell_type": "markdown",
   "metadata": {},
   "source": [
    "# Load data"
   ]
  },
  {
   "cell_type": "code",
   "execution_count": null,
   "metadata": {},
   "outputs": [],
   "source": [
    "ct_path, patient_data = Juliana.load_patient_data(data_dir, patient_ID);"
   ]
  },
  {
   "cell_type": "code",
   "execution_count": null,
   "metadata": {},
   "outputs": [],
   "source": [
    "target_name, target_dose = Juliana.hottest_target(patient_data.prescriptions);"
   ]
  },
  {
   "cell_type": "code",
   "execution_count": null,
   "metadata": {},
   "outputs": [],
   "source": [
    "plan = Juliana.FionaStandalone.read_plan_file(plan_file);"
   ]
  },
  {
   "cell_type": "code",
   "execution_count": null,
   "metadata": {},
   "outputs": [],
   "source": [
    "spot_weights = vcat([DataFrame(f.spots).weight for f in plan.fields]...);"
   ]
  },
  {
   "cell_type": "code",
   "execution_count": null,
   "metadata": {},
   "outputs": [],
   "source": [
    "optimisation_mask, optimisation_points, optimisation_point_indices = Juliana.get_optimisation_points_from_prescription(\n",
    "    patient_data.ct.grid,\n",
    "    patient_data.prescriptions,\n",
    "    patient_data.structures,\n",
    "    checkerboard_skip_n=4,\n",
    ")\n",
    "\n",
    "optimisation_grid = Juliana.get_optimisation_grid(\n",
    "    optimisation_points,\n",
    "    patient_data.ct.grid,\n",
    ")"
   ]
  },
  {
   "cell_type": "markdown",
   "metadata": {},
   "source": [
    "# Calculate the dose on the adaptive grid"
   ]
  },
  {
   "cell_type": "code",
   "execution_count": null,
   "metadata": {},
   "outputs": [],
   "source": [
    "highres_grid = optimisation_grid"
   ]
  },
  {
   "cell_type": "code",
   "execution_count": null,
   "metadata": {},
   "outputs": [],
   "source": [
    "dose = Juliana.FionaStandalone.calculate_dose_adaptive(\n",
    "    plan,\n",
    "    ct_path,\n",
    "    patient_data.ct.grid,\n",
    "    output_dir,\n",
    "    fiona_standalone_bin_path,\n",
    "    fiona_jar_path,\n",
    "    optimisation_grid,\n",
    "    highres_grid,\n",
    "    low_res=0.35,\n",
    ");"
   ]
  },
  {
   "cell_type": "markdown",
   "metadata": {},
   "source": [
    "# Export to DICOM"
   ]
  },
  {
   "cell_type": "code",
   "execution_count": null,
   "metadata": {},
   "outputs": [],
   "source": [
    "original_dose = Juliana.load_dose_dat_file(original_dose_file)"
   ]
  },
  {
   "cell_type": "code",
   "execution_count": null,
   "metadata": {},
   "outputs": [],
   "source": [
    "dose = Juliana.ScalarGrid(\n",
    "    dose.data,\n",
    "    Juliana.read_dicom_dose(\"/data/user/bellotti_r/data_juliana_application/DICOM/patient_01/RD.dcm\").grid,\n",
    ")\n",
    "\n",
    "dose_dcm = Juliana.dose_to_dicom(\n",
    "    dose,\n",
    "    patient_ID,\n",
    "    patient_ID,\n",
    "    \"\",\n",
    "    \"\",\n",
    "    \"\",\n",
    ")\n",
    "DICOM.dcm_write(\"$(output_dir)/RD_highres.dcm\", dose_dcm)"
   ]
  },
  {
   "cell_type": "code",
   "execution_count": null,
   "metadata": {},
   "outputs": [],
   "source": []
  }
 ],
 "metadata": {
  "kernelspec": {
   "display_name": "Julia 1.8.1",
   "language": "julia",
   "name": "julia-1.8"
  },
  "language_info": {
   "file_extension": ".jl",
   "mimetype": "application/julia",
   "name": "julia",
   "version": "1.8.1"
  },
  "toc": {
   "base_numbering": 1,
   "nav_menu": {},
   "number_sections": true,
   "sideBar": true,
   "skip_h1_title": false,
   "title_cell": "Table of Contents",
   "title_sidebar": "Contents",
   "toc_cell": false,
   "toc_position": {},
   "toc_section_display": true,
   "toc_window_display": false
  },
  "varInspector": {
   "cols": {
    "lenName": 16,
    "lenType": 16,
    "lenVar": 40
   },
   "kernels_config": {
    "python": {
     "delete_cmd_postfix": "",
     "delete_cmd_prefix": "del ",
     "library": "var_list.py",
     "varRefreshCmd": "print(var_dic_list())"
    },
    "r": {
     "delete_cmd_postfix": ") ",
     "delete_cmd_prefix": "rm(",
     "library": "var_list.r",
     "varRefreshCmd": "cat(var_dic_list()) "
    }
   },
   "types_to_exclude": [
    "module",
    "function",
    "builtin_function_or_method",
    "instance",
    "_Feature"
   ],
   "window_display": false
  }
 },
 "nbformat": 4,
 "nbformat_minor": 2
}
