{
 "cells": [
  {
   "cell_type": "code",
   "execution_count": null,
   "metadata": {},
   "outputs": [],
   "source": [
    "using Revise\n",
    "using CUDA\n",
    "using DataFrames\n",
    "using JSON\n",
    "using Statistics\n",
    "using Juliana"
   ]
  },
  {
   "cell_type": "markdown",
   "metadata": {},
   "source": [
    "# Config"
   ]
  },
  {
   "cell_type": "code",
   "execution_count": null,
   "metadata": {},
   "outputs": [],
   "source": [
    "# gantry_angle = 36f0\n",
    "# couch_angle = 64f0\n",
    "gantry_angle = 0f0\n",
    "couch_angle = 0f0\n",
    "nozzle_extraction = 15f0\n",
    "preabsorber = \"OUT\""
   ]
  },
  {
   "cell_type": "code",
   "execution_count": null,
   "metadata": {},
   "outputs": [],
   "source": [
    "fiona_standalone_bin_path = \"/data/user/bellotti_r/semester_project_planning_metrics/src/pyftpp/bin\"\n",
    "fiona_jar_path = \"$fiona_standalone_bin_path/ch.psi.ftpp.standalone.planner-1.0.10.jar\"; # Test works with 1.0.7, but not 1.0.10..."
   ]
  },
  {
   "cell_type": "code",
   "execution_count": null,
   "metadata": {},
   "outputs": [],
   "source": [
    "output_dir = \"../output/test/dose_calc/full_plan\"\n",
    "\n",
    "mkpath(output_dir)"
   ]
  },
  {
   "cell_type": "markdown",
   "metadata": {},
   "source": [
    "# Load data"
   ]
  },
  {
   "cell_type": "code",
   "execution_count": null,
   "metadata": {},
   "outputs": [],
   "source": [
    "# ct, target = Juliana.build_water_slab()\n",
    "# ct_path = \"$(output_dir)/ct.dat\"\n",
    "# Juliana.write_ct_dat_file(ct_path, ct)\n",
    "\n",
    "# patient_ID = \"bellotti_r_water_phantom\";"
   ]
  },
  {
   "cell_type": "code",
   "execution_count": null,
   "metadata": {},
   "outputs": [],
   "source": [
    "patient_ID = \"test_00\"\n",
    "data_dir = \"/data/user/bellotti_r/data\"\n",
    "ct_path, patient = Juliana.load_patient_data(data_dir, patient_ID)\n",
    "\n",
    "ct = patient.ct\n",
    "target = patient.structures[\"PTV2=CTV2+5MM\"];"
   ]
  },
  {
   "cell_type": "code",
   "execution_count": null,
   "metadata": {},
   "outputs": [],
   "source": [
    "optimisation_points = Juliana.mask_to_points(\n",
    "    ct.grid,\n",
    "    target.mask,\n",
    ")\n",
    "\n",
    "optimisation_grid = Juliana.get_optimisation_grid(\n",
    "    optimisation_points',\n",
    "    ct.grid,\n",
    ")"
   ]
  },
  {
   "cell_type": "markdown",
   "metadata": {},
   "source": [
    "# Optimise the spots and calculate the dose using Fiona"
   ]
  },
  {
   "cell_type": "code",
   "execution_count": null,
   "metadata": {},
   "outputs": [],
   "source": [
    "tps = Juliana.FionaStandalone.FionaStandaloneTps(\n",
    "    fiona_standalone_bin_path,\n",
    "    fiona_jar_path,\n",
    "    output_dir,\n",
    ");"
   ]
  },
  {
   "cell_type": "code",
   "execution_count": null,
   "metadata": {},
   "outputs": [],
   "source": [
    "plan = Juliana.FionaStandalone.place_spots(\n",
    "    tps,\n",
    "    ct,\n",
    "    target,\n",
    "    preabsorber,\n",
    "    [gantry_angle],\n",
    "    [couch_angle],\n",
    "    [nozzle_extraction],\n",
    ")\n",
    "w = DataFrame(only(plan.fields).spots).weight;"
   ]
  },
  {
   "cell_type": "code",
   "execution_count": null,
   "metadata": {},
   "outputs": [],
   "source": [
    "tps = Juliana.FionaStandalone.FionaStandaloneTps(\n",
    "    fiona_standalone_bin_path,\n",
    "    fiona_jar_path,\n",
    "    output_dir,\n",
    ")\n",
    "Dij_fiona = Juliana.FionaStandalone.calculate_Dij_matrix(tps, ct, plan, optimisation_points, ct_path);\n",
    "dose_flat_fiona = reshape(\n",
    "    Dij_fiona * w,\n",
    "    (size(Dij_fiona, 1), 1),\n",
    ");"
   ]
  },
  {
   "cell_type": "code",
   "execution_count": null,
   "metadata": {},
   "outputs": [],
   "source": [
    "dose_fiona = zeros(Float32, Tuple(ct.grid.size));\n",
    "\n",
    "for (i, p) in enumerate(eachrow(optimisation_points'))\n",
    "    indices = Juliana.xyz_to_index(p, ct.grid)\n",
    "    dose_fiona[indices...] = dose_flat_fiona[i]\n",
    "end"
   ]
  },
  {
   "cell_type": "markdown",
   "metadata": {},
   "source": [
    "# Calculate dose using Juliana"
   ]
  },
  {
   "cell_type": "code",
   "execution_count": null,
   "metadata": {},
   "outputs": [],
   "source": [
    "tps = Juliana.load_juliana_tps(fiona_standalone_bin_path, nozzle_extraction);"
   ]
  },
  {
   "cell_type": "code",
   "execution_count": null,
   "metadata": {},
   "outputs": [],
   "source": [
    "Dij_juliana = Juliana.calculate_Dij_matrix(tps, ct, plan, optimisation_points);"
   ]
  },
  {
   "cell_type": "code",
   "execution_count": null,
   "metadata": {},
   "outputs": [],
   "source": [
    "dose_juliana = zeros(Float32, Tuple(ct.grid.size));\n",
    "\n",
    "tmp = collect(Dij_juliana) * w\n",
    "\n",
    "for (i, p) in enumerate(eachrow(collect(optimisation_points)'))\n",
    "    indices = Juliana.xyz_to_index(p, ct.grid)\n",
    "    dose_juliana[indices...] = tmp[i]\n",
    "end"
   ]
  },
  {
   "cell_type": "markdown",
   "metadata": {},
   "source": [
    "# Plot"
   ]
  },
  {
   "cell_type": "code",
   "execution_count": null,
   "metadata": {
    "scrolled": true
   },
   "outputs": [],
   "source": [
    "maximum(abs.(dose_fiona .- dose_juliana))"
   ]
  },
  {
   "cell_type": "code",
   "execution_count": null,
   "metadata": {
    "scrolled": true
   },
   "outputs": [],
   "source": [
    "maximum(abs.(dose_fiona .- dose_juliana)) / maximum(dose_fiona) * 100"
   ]
  },
  {
   "cell_type": "code",
   "execution_count": null,
   "metadata": {},
   "outputs": [],
   "source": [
    "sum(dose_fiona)"
   ]
  },
  {
   "cell_type": "code",
   "execution_count": null,
   "metadata": {
    "scrolled": true
   },
   "outputs": [],
   "source": [
    "sum(dose_juliana)"
   ]
  },
  {
   "cell_type": "code",
   "execution_count": null,
   "metadata": {},
   "outputs": [],
   "source": [
    "maximum(dose_juliana)"
   ]
  },
  {
   "cell_type": "code",
   "execution_count": null,
   "metadata": {},
   "outputs": [],
   "source": [
    "normalisation_dose = max(maximum(dose_juliana), maximum(dose_fiona))"
   ]
  },
  {
   "cell_type": "code",
   "execution_count": null,
   "metadata": {},
   "outputs": [],
   "source": [
    "Juliana.plot_distributions(\n",
    "    ct,\n",
    "    [(\"Fiona\", dose_fiona), (\"Juliana\", dose_juliana)],\n",
    "    [],\n",
    "    # 1, 100,\n",
    "    # 1, 100,\n",
    "    # 12,\n",
    "    100, 160,\n",
    "    100, 160,\n",
    "    39,\n",
    "    normalisation_dose,\n",
    "    Juliana.build_colorscheme(),\n",
    ")\n",
    "\n",
    "# Juliana.plot_distributions(\n",
    "#     ct,\n",
    "#     [(\"Fiona\", dose_fiona), (\"Juliana\", dose_juliana)],\n",
    "#     [],\n",
    "#     1, 100,\n",
    "#     1, 100,\n",
    "#     12,\n",
    "#     normalisation_dose,\n",
    "#     Juliana.build_colorscheme(),\n",
    "# )"
   ]
  },
  {
   "cell_type": "code",
   "execution_count": null,
   "metadata": {},
   "outputs": [],
   "source": [
    "maximum(abs.(dose_fiona .- dose_juliana)) ./ maximum(dose_fiona) * 100"
   ]
  },
  {
   "cell_type": "code",
   "execution_count": null,
   "metadata": {},
   "outputs": [],
   "source": [
    "maximum(dose_fiona)"
   ]
  },
  {
   "cell_type": "code",
   "execution_count": null,
   "metadata": {},
   "outputs": [],
   "source": []
  }
 ],
 "metadata": {
  "kernelspec": {
   "display_name": "Julia 1.8.1",
   "language": "julia",
   "name": "julia-1.8"
  },
  "language_info": {
   "file_extension": ".jl",
   "mimetype": "application/julia",
   "name": "julia",
   "version": "1.8.1"
  },
  "toc": {
   "base_numbering": 1,
   "nav_menu": {},
   "number_sections": true,
   "sideBar": true,
   "skip_h1_title": false,
   "title_cell": "Table of Contents",
   "title_sidebar": "Contents",
   "toc_cell": false,
   "toc_position": {},
   "toc_section_display": true,
   "toc_window_display": false
  },
  "varInspector": {
   "cols": {
    "lenName": 16,
    "lenType": 16,
    "lenVar": 40
   },
   "kernels_config": {
    "python": {
     "delete_cmd_postfix": "",
     "delete_cmd_prefix": "del ",
     "library": "var_list.py",
     "varRefreshCmd": "print(var_dic_list())"
    },
    "r": {
     "delete_cmd_postfix": ") ",
     "delete_cmd_prefix": "rm(",
     "library": "var_list.r",
     "varRefreshCmd": "cat(var_dic_list()) "
    }
   },
   "types_to_exclude": [
    "module",
    "function",
    "builtin_function_or_method",
    "instance",
    "_Feature"
   ],
   "window_display": false
  }
 },
 "nbformat": 4,
 "nbformat_minor": 2
}
