{
 "cells": [
  {
   "cell_type": "code",
   "execution_count": null,
   "metadata": {},
   "outputs": [],
   "source": [
    "using Revise\n",
    "using CUDA\n",
    "using DataFrames\n",
    "using JSON\n",
    "using Statistics\n",
    "using Juliana"
   ]
  },
  {
   "cell_type": "markdown",
   "metadata": {},
   "source": [
    "# Config"
   ]
  },
  {
   "cell_type": "code",
   "execution_count": null,
   "metadata": {},
   "outputs": [],
   "source": [
    "gantry_angle = 36f0\n",
    "couch_angle = 64f0\n",
    "nozzle_extraction = 15f0\n",
    "preabsorber = \"OUT\""
   ]
  },
  {
   "cell_type": "code",
   "execution_count": null,
   "metadata": {},
   "outputs": [],
   "source": [
    "fiona_standalone_bin_path = \"/data/user/bellotti_r/semester_project_planning_metrics/src/pyftpp/bin\"\n",
    "fiona_jar_path = \"$fiona_standalone_bin_path/ch.psi.ftpp.standalone.planner-1.0.9.jar\";"
   ]
  },
  {
   "cell_type": "code",
   "execution_count": null,
   "metadata": {},
   "outputs": [],
   "source": [
    "output_dir = \"../output/test/dose_calc/single_spot\"\n",
    "\n",
    "mkpath(output_dir)"
   ]
  },
  {
   "cell_type": "markdown",
   "metadata": {},
   "source": [
    "# Load data"
   ]
  },
  {
   "cell_type": "code",
   "execution_count": null,
   "metadata": {},
   "outputs": [],
   "source": [
    "# ct, target = Juliana.build_water_slab()\n",
    "# ct_path = \"$(output_dir)/ct.dat\"\n",
    "# Juliana.write_ct_dat_file(ct_path, ct)\n",
    "\n",
    "# patient_ID = \"bellotti_r_water_phantom\";"
   ]
  },
  {
   "cell_type": "code",
   "execution_count": null,
   "metadata": {},
   "outputs": [],
   "source": [
    "patient_ID = \"test_00\"\n",
    "data_dir = \"/data/user/bellotti_r/data\"\n",
    "ct_path, patient = Juliana.load_patient_data(data_dir, patient_ID)\n",
    "\n",
    "ct = patient.ct\n",
    "target = patient.structures[\"PTV2=CTV2+5MM\"];"
   ]
  },
  {
   "cell_type": "code",
   "execution_count": null,
   "metadata": {},
   "outputs": [],
   "source": [
    "optimisation_points = Juliana.mask_to_points(\n",
    "    ct.grid,\n",
    "    target.mask,\n",
    ")\n",
    "\n",
    "optimisation_grid = Juliana.get_optimisation_grid(\n",
    "    optimisation_points',\n",
    "    ct.grid,\n",
    ")"
   ]
  },
  {
   "cell_type": "markdown",
   "metadata": {},
   "source": [
    "# Calculate dose using Fiona"
   ]
  },
  {
   "cell_type": "code",
   "execution_count": null,
   "metadata": {},
   "outputs": [],
   "source": [
    "# Dummy value, we don't optimise...\n",
    "target_dose = 1"
   ]
  },
  {
   "cell_type": "code",
   "execution_count": null,
   "metadata": {},
   "outputs": [],
   "source": [
    "main_config = Juliana.FionaStandalone.MainConfig(\n",
    "    ct_path,\n",
    "    output_dir,\n",
    "    target_dose,\n",
    "    fiona_standalone_bin_path,\n",
    "    doseResolution=ct.grid.spacing[1],\n",
    ")\n",
    "\n",
    "config_target = Juliana.FionaStandalone.StructureDefinition(target, 0)\n",
    "\n",
    "optimisation_config = Juliana.FionaStandalone.OptimizationSettings(\n",
    "    target_dose,\n",
    "    0.9*target_dose,\n",
    "    config_target,\n",
    "    Vector{Juliana.FionaStandalone.StructureConstraints}(undef, 0),\n",
    "    Juliana.FionaStandalone.to_OptimizationGrid(optimisation_grid),\n",
    ")\n",
    "\n",
    "spot_placement_config = Juliana.FionaStandalone.SpotPlacementConfig(\n",
    "    [gantry_angle],\n",
    "    [couch_angle],\n",
    "    [nozzle_extraction],\n",
    "    preabsorber,\n",
    "    target,\n",
    ")\n",
    "\n",
    "target_com = vec(mean(target.points, dims=1))\n",
    "\n",
    "field_center = Dict(\n",
    "    \"x\" => target_com[1],\n",
    "    \"y\" => target_com[2],\n",
    "    \"z\" => target_com[3],\n",
    ")\n",
    "\n",
    "w0 = 1010.\n",
    "E = 100000.f0\n",
    "# w0 = 1e5\n",
    "# E = 70000\n",
    "\n",
    "spots = [Juliana.FionaStandalone.Spot(\n",
    "    0,\n",
    "    0.,\n",
    "    0.,\n",
    "    # The following values are obtained from running a Fiona Standalone spot placement and optimisation.\n",
    "    w0,      # weight\n",
    "    E, # energy [keV]\n",
    "    preabsorber == \"OUT\" ? 0 : 1,\n",
    ")]\n",
    "\n",
    "w = [w0]\n",
    "\n",
    "field = Juliana.FionaStandalone.FieldDefinition(\n",
    "    \"F0\",\n",
    "    0,\n",
    "    gantry_angle,\n",
    "    couch_angle,\n",
    "    nozzle_extraction,\n",
    "    field_center,\n",
    "    spots,\n",
    ")\n",
    "\n",
    "plan = Juliana.FionaStandalone.TreatmentPlan(\n",
    "    [field],\n",
    "    target_dose,\n",
    ");"
   ]
  },
  {
   "cell_type": "code",
   "execution_count": null,
   "metadata": {},
   "outputs": [],
   "source": [
    "optimisationPointsPath = \"$(output_dir)/custom_optimization_points.txt\"\n",
    "Juliana.FionaStandalone.write_optimisation_points(\n",
    "    optimisationPointsPath,\n",
    "    optimisation_points',\n",
    "    optimisation_grid,\n",
    ")"
   ]
  },
  {
   "cell_type": "code",
   "execution_count": null,
   "metadata": {},
   "outputs": [],
   "source": [
    "Juliana.FionaStandalone.run_optimization(\n",
    "    fiona_jar_path,\n",
    "    output_dir,\n",
    "    true,  # log Dij\n",
    "    false, # log WED\n",
    "    main_config,\n",
    "    optimisation_config,\n",
    "    spot_placement_config,\n",
    "    plan,\n",
    "    optimizationPointsPath=optimisationPointsPath,\n",
    ")\n",
    "Dij_fiona = Juliana.FionaStandalone.load_Dij(\"$output_dir/dij_matrix.dat\", size(optimisation_points, 2)) * w0;"
   ]
  },
  {
   "cell_type": "code",
   "execution_count": null,
   "metadata": {},
   "outputs": [],
   "source": [
    "dose_fiona = zeros(Float32, Tuple(ct.grid.size));\n",
    "\n",
    "for (i, p) in enumerate(eachrow(optimisation_points'))\n",
    "    indices = Juliana.xyz_to_index(p, ct.grid)\n",
    "    dose_fiona[indices...] = Dij_fiona[i]\n",
    "end"
   ]
  },
  {
   "cell_type": "markdown",
   "metadata": {},
   "source": [
    "# Calculate dose using Juliana"
   ]
  },
  {
   "cell_type": "markdown",
   "metadata": {},
   "source": [
    "## Calculate WED"
   ]
  },
  {
   "cell_type": "code",
   "execution_count": null,
   "metadata": {},
   "outputs": [],
   "source": [
    "# Calculate dose using Juliana\n",
    "\n",
    "huToSpPathFile = \"/data/user/bellotti_r/semester_project_planning_metrics/src/pyftpp/bin/huToSp.json\"\n",
    "\n",
    "hu_to_sp_dict = nothing\n",
    "open(huToSpPathFile) do file\n",
    "    global hu_to_sp_dict = JSON.parse(file)\n",
    "end\n",
    "\n",
    "@assert hu_to_sp_dict[\"dz\"] == 1\n",
    "@assert hu_to_sp_dict[\"z0\"] == -1000\n",
    "\n",
    "function convert_to_sp(value)\n",
    "    sp_index = convert(\n",
    "        Int64,\n",
    "        round((value - hu_to_sp_dict[\"z0\"]) / hu_to_sp_dict[\"dz\"]),\n",
    "    ) + 1\n",
    "    return hu_to_sp_dict[\"densities\"][sp_index]\n",
    "end;\n",
    "\n",
    "densities = convert_to_sp.(ct.data);"
   ]
  },
  {
   "cell_type": "code",
   "execution_count": null,
   "metadata": {},
   "outputs": [],
   "source": [
    "direction = Juliana.angles_to_direction(gantry_angle, couch_angle)"
   ]
  },
  {
   "cell_type": "code",
   "execution_count": null,
   "metadata": {},
   "outputs": [],
   "source": [
    "d_wed = cu(Vector{Float32}(undef, size(Dij_fiona, 1)))\n",
    "d_densities = cu(densities)\n",
    "d_grid = cu(ct.grid)\n",
    "d_optim_points = cu(optimisation_points)\n",
    "d_direction = cu(direction)\n",
    "\n",
    "event = Juliana.calculate_wed_simple(\n",
    "    d_wed,\n",
    "    d_densities,\n",
    "    d_grid,\n",
    "    d_optim_points,\n",
    "    d_direction,\n",
    "    ndrange=size(Dij_fiona),\n",
    ")\n",
    "wait(event);"
   ]
  },
  {
   "cell_type": "code",
   "execution_count": null,
   "metadata": {},
   "outputs": [],
   "source": [
    "event = Juliana.calculate_wed_simple(\n",
    "    d_wed,\n",
    "    d_densities,\n",
    "    d_grid,\n",
    "    d_optim_points,\n",
    "    d_direction,\n",
    "    ndrange=size(Dij_fiona),\n",
    ")\n",
    "@time wait(event);"
   ]
  },
  {
   "cell_type": "markdown",
   "metadata": {},
   "source": [
    "## Load spot properties for which to calculate the dose"
   ]
  },
  {
   "cell_type": "code",
   "execution_count": null,
   "metadata": {},
   "outputs": [],
   "source": [
    "plan = Juliana.FionaStandalone.read_plan_file(\"$output_dir/result_plan.json\")\n",
    "field = plan.fields[1]\n",
    "df = DataFrame(field.spots);\n",
    "d_spots_t = cu(df.t)\n",
    "d_spots_u = cu(df.u)\n",
    "d_spots_energy = cu(df.energykeV)\n",
    "d_spots_absorbers = cu(df.numberOfAbsorbers)\n",
    "energykeVSpots = df.energykeV\n",
    "numberOfAbsorbersSpots = df.numberOfAbsorbers;\n",
    "fieldCenter = convert.(Float32, [\n",
    "    field.fieldCenter[\"x\"],\n",
    "    field.fieldCenter[\"y\"],\n",
    "    field.fieldCenter[\"z\"],\n",
    "])"
   ]
  },
  {
   "cell_type": "markdown",
   "metadata": {},
   "source": [
    "## Allocate memory"
   ]
  },
  {
   "cell_type": "code",
   "execution_count": null,
   "metadata": {},
   "outputs": [],
   "source": [
    "N = size(optimisation_points, 2)\n",
    "M = length(d_spots_u)\n",
    "\n",
    "Dij_juliana = cu(ones(N, length(d_spots_u))*NaN32);"
   ]
  },
  {
   "cell_type": "code",
   "execution_count": null,
   "metadata": {},
   "outputs": [],
   "source": [
    "d_optimisation_points = cu(collect(optimisation_points'))\n",
    "d_field_center = cu(fieldCenter)"
   ]
  },
  {
   "cell_type": "markdown",
   "metadata": {},
   "source": [
    "## Load machine parameters"
   ]
  },
  {
   "cell_type": "code",
   "execution_count": null,
   "metadata": {},
   "outputs": [],
   "source": [
    "depth_dose_curves, sigma_mcs_curves, phase_space_no_preabsorber, phase_space_with_preabsorber = Juliana.load_machine_parameters(fiona_standalone_bin_path, nozzle_extraction)\n",
    "\n",
    "d_depth_dose_curves = cu(depth_dose_curves)\n",
    "d_sigma_mcs_curves = cu(sigma_mcs_curves)\n",
    "d_phase_space_no_preabsorber = cu(phase_space_no_preabsorber);\n",
    "d_phase_space_with_preabsorber = cu(phase_space_with_preabsorber);"
   ]
  },
  {
   "cell_type": "markdown",
   "metadata": {},
   "source": [
    "## Calculate the dose"
   ]
  },
  {
   "cell_type": "code",
   "execution_count": null,
   "metadata": {},
   "outputs": [],
   "source": [
    "using BenchmarkTools"
   ]
  },
  {
   "cell_type": "code",
   "execution_count": null,
   "metadata": {},
   "outputs": [],
   "source": [
    "# @benchmark Juliana.runDijKernel(\n",
    "Juliana.runDijKernel(\n",
    "    Dij_juliana,\n",
    "    d_wed,\n",
    "    cu(fieldCenter),\n",
    "    gantry_angle * π / 180f0,\n",
    "    couch_angle * π / 180f0,\n",
    "    d_spots_t,\n",
    "    d_spots_u,\n",
    "    d_spots_energy,\n",
    "    d_spots_absorbers,\n",
    "    cu(optimisation_points'),\n",
    "    d_depth_dose_curves,\n",
    "    d_sigma_mcs_curves,\n",
    "    d_phase_space_no_preabsorber,\n",
    "    d_phase_space_with_preabsorber,\n",
    ")"
   ]
  },
  {
   "cell_type": "code",
   "execution_count": null,
   "metadata": {},
   "outputs": [],
   "source": [
    "dose_juliana = zeros(Float32, Tuple(ct.grid.size));\n",
    "\n",
    "tmp = collect(Dij_juliana * w0)\n",
    "\n",
    "for (i, p) in enumerate(eachrow(optimisation_points'))\n",
    "    indices = Juliana.xyz_to_index(p, ct.grid)\n",
    "    dose_juliana[indices...] = tmp[i]\n",
    "end"
   ]
  },
  {
   "cell_type": "markdown",
   "metadata": {},
   "source": [
    "# Plot"
   ]
  },
  {
   "cell_type": "code",
   "execution_count": null,
   "metadata": {
    "scrolled": true
   },
   "outputs": [],
   "source": [
    "maximum(abs.(dose_fiona .- dose_juliana))"
   ]
  },
  {
   "cell_type": "code",
   "execution_count": null,
   "metadata": {},
   "outputs": [],
   "source": [
    "sum(dose_fiona)"
   ]
  },
  {
   "cell_type": "code",
   "execution_count": null,
   "metadata": {
    "scrolled": true
   },
   "outputs": [],
   "source": [
    "sum(dose_juliana)"
   ]
  },
  {
   "cell_type": "code",
   "execution_count": null,
   "metadata": {},
   "outputs": [],
   "source": [
    "maximum(dose_juliana)"
   ]
  },
  {
   "cell_type": "code",
   "execution_count": null,
   "metadata": {},
   "outputs": [],
   "source": [
    "normalisation_dose = maximum(dose_fiona)"
   ]
  },
  {
   "cell_type": "code",
   "execution_count": null,
   "metadata": {},
   "outputs": [],
   "source": [
    "Juliana.plot_distributions(\n",
    "    ct,\n",
    "    [(\"Fiona\", dose_fiona), (\"Juliana\", dose_juliana)],\n",
    "    [],\n",
    "    1, 100,\n",
    "    1, 100,\n",
    "    12,\n",
    "#     100, 160,\n",
    "#     100, 160,\n",
    "#     39,\n",
    "    normalisation_dose,\n",
    "    Juliana.build_colorscheme(),\n",
    ")"
   ]
  },
  {
   "cell_type": "code",
   "execution_count": null,
   "metadata": {},
   "outputs": [],
   "source": [
    "maximum(abs.(dose_fiona .- dose_juliana)) / maximum(dose_fiona) * 100"
   ]
  },
  {
   "cell_type": "code",
   "execution_count": null,
   "metadata": {},
   "outputs": [],
   "source": []
  }
 ],
 "metadata": {
  "kernelspec": {
   "display_name": "Julia 1.8.1",
   "language": "julia",
   "name": "julia-1.8"
  },
  "language_info": {
   "file_extension": ".jl",
   "mimetype": "application/julia",
   "name": "julia",
   "version": "1.8.1"
  },
  "toc": {
   "base_numbering": 1,
   "nav_menu": {},
   "number_sections": true,
   "sideBar": true,
   "skip_h1_title": false,
   "title_cell": "Table of Contents",
   "title_sidebar": "Contents",
   "toc_cell": false,
   "toc_position": {},
   "toc_section_display": true,
   "toc_window_display": false
  },
  "varInspector": {
   "cols": {
    "lenName": 16,
    "lenType": 16,
    "lenVar": 40
   },
   "kernels_config": {
    "python": {
     "delete_cmd_postfix": "",
     "delete_cmd_prefix": "del ",
     "library": "var_list.py",
     "varRefreshCmd": "print(var_dic_list())"
    },
    "r": {
     "delete_cmd_postfix": ") ",
     "delete_cmd_prefix": "rm(",
     "library": "var_list.r",
     "varRefreshCmd": "cat(var_dic_list()) "
    }
   },
   "types_to_exclude": [
    "module",
    "function",
    "builtin_function_or_method",
    "instance",
    "_Feature"
   ],
   "window_display": false
  }
 },
 "nbformat": 4,
 "nbformat_minor": 2
}
