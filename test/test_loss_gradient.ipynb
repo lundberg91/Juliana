{
 "cells": [
  {
   "cell_type": "code",
   "execution_count": null,
   "metadata": {},
   "outputs": [],
   "source": [
    "using CUDA\n",
    "using FiniteDifferences\n",
    "using Printf\n",
    "using Juliana"
   ]
  },
  {
   "cell_type": "markdown",
   "metadata": {},
   "source": [
    "# Config"
   ]
  },
  {
   "cell_type": "code",
   "execution_count": null,
   "metadata": {},
   "outputs": [],
   "source": [
    "data_dir = \"/data/user/bellotti_r/data\"\n",
    "patient_ID = \"test_00\""
   ]
  },
  {
   "cell_type": "code",
   "execution_count": null,
   "metadata": {},
   "outputs": [],
   "source": [
    "fiona_standalone_bin_path = \"/data/user/bellotti_r/semester_project_planning_metrics/src/pyftpp/bin\"\n",
    "fiona_jar_path = \"$fiona_standalone_bin_path/ch.psi.ftpp.standalone.planner-1.0.9.jar\";"
   ]
  },
  {
   "cell_type": "code",
   "execution_count": null,
   "metadata": {},
   "outputs": [],
   "source": [
    "output_dir = \"../output/test/gradient\"\n",
    "mkpath(output_dir);"
   ]
  },
  {
   "cell_type": "code",
   "execution_count": null,
   "metadata": {},
   "outputs": [],
   "source": [
    "gantry_angle = 0.f0\n",
    "couch_angle = 0.f0\n",
    "nozzle_extraction = 20.f0"
   ]
  },
  {
   "cell_type": "markdown",
   "metadata": {},
   "source": [
    "# Load data"
   ]
  },
  {
   "cell_type": "code",
   "execution_count": null,
   "metadata": {},
   "outputs": [],
   "source": [
    "ct_path, patient_data = Juliana.load_patient_data(data_dir, patient_ID);"
   ]
  },
  {
   "cell_type": "markdown",
   "metadata": {},
   "source": [
    "# Calculate Dij matrix"
   ]
  },
  {
   "cell_type": "code",
   "execution_count": null,
   "metadata": {},
   "outputs": [],
   "source": [
    "optimisation_mask, optimisation_points_before, optimisation_point_indices = Juliana.get_optimisation_points_from_prescription(\n",
    "    patient_data.ct.grid,\n",
    "    patient_data.prescriptions,\n",
    "    patient_data.structures,\n",
    "    checkerboard_skip_n_inslice=10,\n",
    "    checkerboard_skip_n_slices=1,\n",
    "    margin_skip_n_slices=1,\n",
    ");\n",
    "\n",
    "optimisation_grid = Juliana.get_optimisation_grid(\n",
    "    optimisation_points_before,\n",
    "    patient_data.ct.grid,\n",
    ")\n",
    "\n",
    "sum(optimisation_mask)"
   ]
  },
  {
   "cell_type": "code",
   "execution_count": null,
   "metadata": {},
   "outputs": [],
   "source": [
    "# Dummy value.\n",
    "target_dose = 1.f0"
   ]
  },
  {
   "cell_type": "code",
   "execution_count": null,
   "metadata": {},
   "outputs": [],
   "source": [
    "coldest_target_name = Juliana.coldest_target(patient_data.prescriptions)[1]"
   ]
  },
  {
   "cell_type": "code",
   "execution_count": null,
   "metadata": {},
   "outputs": [],
   "source": [
    "Dij, optimisation_points = Juliana.FionaStandalone.calculate_Dij(\n",
    "    output_dir,\n",
    "    ct_path,\n",
    "    target_dose,\n",
    "    patient_data.structures[coldest_target_name],\n",
    "    fiona_standalone_bin_path,\n",
    "    fiona_jar_path,\n",
    "    optimisation_grid,\n",
    "    [gantry_angle],\n",
    "    [couch_angle],\n",
    "    [nozzle_extraction],\n",
    "    debugging=false,\n",
    "    optimization_points=optimisation_points_before,\n",
    "    doseResolution=minimum(patient_data.ct.grid.spacing),\n",
    ");"
   ]
  },
  {
   "cell_type": "code",
   "execution_count": null,
   "metadata": {},
   "outputs": [],
   "source": [
    "size(Dij)"
   ]
  },
  {
   "cell_type": "markdown",
   "metadata": {},
   "source": [
    "# Build optimisation configuration"
   ]
  },
  {
   "cell_type": "code",
   "execution_count": null,
   "metadata": {},
   "outputs": [],
   "source": [
    "@time config = Juliana.get_optimisation_configuration(\n",
    "    patient_data.ct,\n",
    "    patient_data.prescriptions,\n",
    "    patient_data.structures,\n",
    "    Dij,\n",
    "    optimisation_point_indices,\n",
    ");"
   ]
  },
  {
   "cell_type": "code",
   "execution_count": null,
   "metadata": {},
   "outputs": [],
   "source": [
    "subloss_weights = Dict{String, Float32}(\n",
    "    \"ideal_dose_loss\" => 1.f0,\n",
    "    \"maximum_loss\" => 1.f0,\n",
    "    \"minimum_loss\" => 1.f0,\n",
    "    \"normalisation_variance\" => 1.f0,\n",
    ")\n",
    "\n",
    "for constraint in config.prescriptions.constraints\n",
    "    if constraint.priority == Juliana.soft\n",
    "        continue\n",
    "    end\n",
    "    \n",
    "    # Skip OARs for which there is no optimisation point.\n",
    "    if sum(config.structures[constraint.structure_name])== 0\n",
    "        continue\n",
    "    end\n",
    "\n",
    "    if constraint.kind == Juliana.constraint_mean\n",
    "        subloss_weights[\"$(constraint.structure_name)_mean_loss\"] = 1f0\n",
    "    elseif Juliana.is_maximum_constraint(constraint)\n",
    "        subloss_weights[\"$(constraint.structure_name)_max_loss\"] = 1f0\n",
    "    end\n",
    "end"
   ]
  },
  {
   "cell_type": "markdown",
   "metadata": {},
   "source": [
    "# Calculate the loss gradient"
   ]
  },
  {
   "cell_type": "code",
   "execution_count": null,
   "metadata": {},
   "outputs": [],
   "source": [
    "w = ones(Float32, size(Dij, 2));\n",
    "size(w)"
   ]
  },
  {
   "cell_type": "code",
   "execution_count": null,
   "metadata": {
    "scrolled": true
   },
   "outputs": [],
   "source": [
    "Juliana.loss(w, config, subloss_weights)"
   ]
  },
  {
   "cell_type": "code",
   "execution_count": null,
   "metadata": {},
   "outputs": [],
   "source": [
    "@time Juliana.loss_gradient(w, config, subloss_weights);"
   ]
  },
  {
   "cell_type": "code",
   "execution_count": null,
   "metadata": {},
   "outputs": [],
   "source": [
    "my_grad = Juliana.loss_gradient(w, config, subloss_weights);\n",
    "my_grad_gpu = collect(Juliana.loss_gradient(cu(w), Juliana.to_gpu(config), subloss_weights));\n",
    "\n",
    "@printf \"Maximum difference between CPU and GPU gradient: %.2f%%\" maximum(abs.(my_grad .- my_grad_gpu) ./ abs.(my_grad) * 100)"
   ]
  },
  {
   "cell_type": "code",
   "execution_count": null,
   "metadata": {},
   "outputs": [],
   "source": [
    "my_grad"
   ]
  },
  {
   "cell_type": "code",
   "execution_count": null,
   "metadata": {},
   "outputs": [],
   "source": [
    "grad_fd = FiniteDifferences.grad(FiniteDifferences.central_fdm(5, 1), w -> Juliana.loss(w, config, subloss_weights), w)[1];\n",
    "\n",
    "maximum(abs.((my_grad .- grad_fd) ./ my_grad) * 100)"
   ]
  },
  {
   "cell_type": "code",
   "execution_count": null,
   "metadata": {},
   "outputs": [],
   "source": [
    "grad_fd ./ my_grad"
   ]
  },
  {
   "cell_type": "code",
   "execution_count": null,
   "metadata": {},
   "outputs": [],
   "source": [
    "my_grad"
   ]
  },
  {
   "cell_type": "code",
   "execution_count": null,
   "metadata": {},
   "outputs": [],
   "source": [
    "grad_fd"
   ]
  },
  {
   "cell_type": "code",
   "execution_count": null,
   "metadata": {},
   "outputs": [],
   "source": [
    "dose = config.Dij * w;\n",
    "N = size(dose, 1);"
   ]
  },
  {
   "cell_type": "code",
   "execution_count": null,
   "metadata": {},
   "outputs": [],
   "source": [
    "# # Calculate the dose normalisation gradient (if needed).\n",
    "# J = Matrix{Float32}(undef, N, N)\n",
    "# fill!(J, 0)\n",
    "\n",
    "# normalisation_mean = mean_dose(dose, config.normalisationStructureMask)\n",
    "\n",
    "# for i in 1:N\n",
    "#     for j in 1:N\n",
    "#         result = zero(T)\n",
    "        \n",
    "#         N_norm = sum(config.normalisationStructureMask)\n",
    "#         if i == j\n",
    "#             result += one(T) / normalisation_mean\n",
    "#         end\n",
    "#         result -= dose[i] * config.normalisationStructureMask[j] / (N_norm * normalisation_mean^2)\n",
    "#         return config.normalisationDose * result\n",
    "#         J[i, j] = Juliana.normalise_dose_jacobian(dose, config, i, j)\n",
    "#     end\n",
    "# end"
   ]
  },
  {
   "cell_type": "code",
   "execution_count": null,
   "metadata": {},
   "outputs": [],
   "source": [
    "# N * N"
   ]
  },
  {
   "cell_type": "code",
   "execution_count": null,
   "metadata": {},
   "outputs": [],
   "source": [
    "# sparse(J)"
   ]
  },
  {
   "cell_type": "markdown",
   "metadata": {},
   "source": [
    "# Test the subloss parts"
   ]
  },
  {
   "cell_type": "code",
   "execution_count": null,
   "metadata": {},
   "outputs": [],
   "source": [
    "ideal_loss_grad_juliana = Juliana.ideal_dose_loss_gradient(dose, config);\n",
    "ideal_loss_grad_fd = FiniteDifferences.grad(FiniteDifferences.central_fdm(35, 1), dose -> Juliana.ideal_dose_loss(dose, config), dose)[1];\n",
    "\n",
    "@assert maximum(abs.(ideal_loss_grad_juliana .- ideal_loss_grad_fd)) < 1e-3"
   ]
  },
  {
   "cell_type": "code",
   "execution_count": null,
   "metadata": {},
   "outputs": [],
   "source": [
    "variance_loss_grad_juliana = Juliana.variance_dose_gradient(dose, config.normalisationStructureMask);\n",
    "variance_loss_grad_fd = FiniteDifferences.grad(FiniteDifferences.central_fdm(35, 1), dose -> Juliana.variance_dose(dose, config.normalisationStructureMask), dose)[1];\n",
    "\n",
    "@assert maximum(abs.(variance_loss_grad_juliana .- variance_loss_grad_fd)) < 1e-3"
   ]
  },
  {
   "cell_type": "code",
   "execution_count": null,
   "metadata": {},
   "outputs": [],
   "source": [
    "minimum_grad_juliana = Juliana.minimum_loss_gradient(dose, config);\n",
    "minimum_grad_fd = FiniteDifferences.grad(FiniteDifferences.central_fdm(35, 1), dose -> Juliana.minimum_loss(dose, config), dose)[1];\n",
    "\n",
    "# The derivative is a step function, so we expect finite differences to fail.\n",
    "@assert maximum(abs.(minimum_grad_juliana .- minimum_grad_fd)) < 1e-2"
   ]
  },
  {
   "cell_type": "code",
   "execution_count": null,
   "metadata": {},
   "outputs": [],
   "source": [
    "maximum(dose)"
   ]
  },
  {
   "cell_type": "code",
   "execution_count": null,
   "metadata": {},
   "outputs": [],
   "source": [
    "maximum(dose2)"
   ]
  },
  {
   "cell_type": "code",
   "execution_count": null,
   "metadata": {},
   "outputs": [],
   "source": [
    "# TODO: Select a test case where the maximum loss is not zero...\n",
    "dose2 = 1.1 * config.normalisationDose / maximum(dose) .* dose\n",
    "\n",
    "maximum_grad_juliana = Juliana.maximum_loss_gradient(dose2, config);\n",
    "maximum_grad_fd = FiniteDifferences.grad(FiniteDifferences.central_fdm(35, 1), dose -> Juliana.maximum_loss(dose, config), dose2)[1];\n",
    "\n",
    "@assert Juliana.maximum_loss(dose2, config) > 0\n",
    "\n",
    "maximum(abs.(maximum_grad_juliana .- maximum_grad_fd))"
   ]
  },
  {
   "cell_type": "code",
   "execution_count": null,
   "metadata": {},
   "outputs": [],
   "source": [
    "Juliana.maximum_loss(dose2, config)"
   ]
  },
  {
   "cell_type": "code",
   "execution_count": null,
   "metadata": {
    "scrolled": true
   },
   "outputs": [],
   "source": [
    "sum(dose2 .> 1.05 * config.normalisationDose)"
   ]
  },
  {
   "cell_type": "code",
   "execution_count": null,
   "metadata": {},
   "outputs": [],
   "source": [
    "sum(dose2[dose2 .> 1.05 * config.normalisationDose] .- 1.05 * config.normalisationDose) * 10"
   ]
  },
  {
   "cell_type": "code",
   "execution_count": null,
   "metadata": {},
   "outputs": [],
   "source": [
    "sum(maximum_grad_fd .> 1e-1)"
   ]
  },
  {
   "cell_type": "code",
   "execution_count": null,
   "metadata": {
    "scrolled": true
   },
   "outputs": [],
   "source": [
    "maximum(maximum_grad_fd)"
   ]
  },
  {
   "cell_type": "code",
   "execution_count": null,
   "metadata": {},
   "outputs": [],
   "source": [
    "maximum(maximum_grad_juliana)"
   ]
  },
  {
   "cell_type": "code",
   "execution_count": null,
   "metadata": {},
   "outputs": [],
   "source": [
    "sum(maximum_grad_juliana .> 0)"
   ]
  },
  {
   "cell_type": "code",
   "execution_count": null,
   "metadata": {},
   "outputs": [],
   "source": [
    "constr = patient_data.prescriptions.constraints[1]\n",
    "mask = config.structures[constr.structure_name]\n",
    "threshold = constr.dose\n",
    "oar_mean_grad_juliana = Juliana.oar_mean_loss_gradient(dose, mask, threshold);\n",
    "oar_mean_grad_fd = FiniteDifferences.grad(FiniteDifferences.central_fdm(35, 1), dose -> Juliana.oar_mean_loss(dose, mask, threshold), dose)[1];\n",
    "\n",
    "@assert maximum(abs.(oar_mean_grad_juliana .- oar_mean_grad_fd)) == 0"
   ]
  },
  {
   "cell_type": "code",
   "execution_count": null,
   "metadata": {},
   "outputs": [],
   "source": [
    "Juliana.oar_mean_loss(dose, mask)"
   ]
  },
  {
   "cell_type": "code",
   "execution_count": null,
   "metadata": {},
   "outputs": [],
   "source": [
    "oar_mean_grad_juliana"
   ]
  },
  {
   "cell_type": "markdown",
   "metadata": {},
   "source": [
    "# Simplified configuration to debug problems, if any"
   ]
  },
  {
   "cell_type": "code",
   "execution_count": null,
   "metadata": {},
   "outputs": [],
   "source": [
    "n_voxels = 2\n",
    "\n",
    "config_simple = Juliana.OptimisationConfiguration(\n",
    "    1f0,                          # normalisation dose\n",
    "    ones(Float32, n_voxels),      # normalisation structure\n",
    "    ones(Float32, n_voxels),      # CT\n",
    "    ones(Float32, n_voxels),      # ideal dose\n",
    "    ones(Float32, n_voxels),      # importance\n",
    "    [0.5f0, 1.2f0],      # minimum dose\n",
    "    ones(Float32, n_voxels, 3),   # Dij\n",
    "    ones(Float32, 3, n_voxels),   # Dij.T\n",
    "    Dict{String, Vector{Float32}}(),\n",
    "    Juliana.Prescriptions(Vector{Tuple{String, Float32}}(undef, 0), Vector{Juliana.Constraint{Float32}}(undef, 0)),\n",
    ");\n",
    "\n",
    "dose_simple = [0.3f0, 2.5f0];"
   ]
  },
  {
   "cell_type": "code",
   "execution_count": null,
   "metadata": {},
   "outputs": [],
   "source": [
    "simple_ideal_loss_grad_juliana = Juliana.minimum_loss(dose_simple, config_simple)"
   ]
  },
  {
   "cell_type": "code",
   "execution_count": null,
   "metadata": {},
   "outputs": [],
   "source": [
    "minimum_grad_fd = FiniteDifferences.grad(FiniteDifferences.central_fdm(12, 1), dose -> Juliana.minimum_loss(dose_simple, config_simple), dose_simple)[1]"
   ]
  },
  {
   "cell_type": "code",
   "execution_count": null,
   "metadata": {},
   "outputs": [],
   "source": [
    "Juliana.minimum_loss_gradient(dose_simple, config_simple)"
   ]
  },
  {
   "cell_type": "code",
   "execution_count": null,
   "metadata": {},
   "outputs": [],
   "source": [
    "subloss_weights = Dict{String, Float32}(\n",
    "    \"ideal_dose_loss\" => 1.f0,\n",
    "    \"maximum_loss\" => 1.f0,\n",
    "    \"minimum_loss\" => 1.f0,\n",
    "    \"normalisation_variance\" => 1.f0,\n",
    ")"
   ]
  },
  {
   "cell_type": "code",
   "execution_count": null,
   "metadata": {},
   "outputs": [],
   "source": [
    "Juliana.dose_loss_gradient(dose_simple, config_simple, subloss_weights)"
   ]
  },
  {
   "cell_type": "code",
   "execution_count": null,
   "metadata": {},
   "outputs": [],
   "source": []
  }
 ],
 "metadata": {
  "kernelspec": {
   "display_name": "Julia 1.8.1",
   "language": "julia",
   "name": "julia-1.8"
  },
  "language_info": {
   "file_extension": ".jl",
   "mimetype": "application/julia",
   "name": "julia",
   "version": "1.8.1"
  },
  "toc": {
   "base_numbering": 1,
   "nav_menu": {},
   "number_sections": true,
   "sideBar": true,
   "skip_h1_title": false,
   "title_cell": "Table of Contents",
   "title_sidebar": "Contents",
   "toc_cell": false,
   "toc_position": {},
   "toc_section_display": true,
   "toc_window_display": false
  },
  "varInspector": {
   "cols": {
    "lenName": 16,
    "lenType": 16,
    "lenVar": 40
   },
   "kernels_config": {
    "python": {
     "delete_cmd_postfix": "",
     "delete_cmd_prefix": "del ",
     "library": "var_list.py",
     "varRefreshCmd": "print(var_dic_list())"
    },
    "r": {
     "delete_cmd_postfix": ") ",
     "delete_cmd_prefix": "rm(",
     "library": "var_list.r",
     "varRefreshCmd": "cat(var_dic_list()) "
    }
   },
   "types_to_exclude": [
    "module",
    "function",
    "builtin_function_or_method",
    "instance",
    "_Feature"
   ],
   "window_display": false
  }
 },
 "nbformat": 4,
 "nbformat_minor": 2
}
