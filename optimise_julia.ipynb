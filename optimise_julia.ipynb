{
 "cells": [
  {
   "cell_type": "code",
   "execution_count": null,
   "metadata": {},
   "outputs": [],
   "source": [
    "using PyCall\n",
    "using SparseArrays\n",
    "using Optim\n",
    "using CUDA\n",
    "using Zygote\n",
    "using Plots\n",
    "using StatsBase\n",
    "using LinearAlgebra\n",
    "using DataFrames\n",
    "using StatsPlots\n",
    "using ChainRulesCore\n",
    "using CSV\n",
    "using Random\n",
    "using Juliana\n",
    "using LineSearches\n",
    "using Statistics\n",
    "using NPZ\n",
    "\n",
    "Random.seed!(7432059)\n",
    "CUDA.seed!(3875)"
   ]
  },
  {
   "cell_type": "markdown",
   "metadata": {},
   "source": [
    "# Import Python code"
   ]
  },
  {
   "cell_type": "code",
   "execution_count": null,
   "metadata": {},
   "outputs": [],
   "source": [
    "standalone = pyimport(\"pyftpp.standalone\")\n",
    "dose = pyimport(\"pyftpp.dose\");\n",
    "dicom = pyimport(\"pyftpp.dicom\")\n",
    "pydicom = pyimport(\"pydicom\")\n",
    "logging = pyimport(\"logging\")\n",
    "logging.basicConfig(level=\"INFO\")\n",
    "\n",
    "Dose = dose.Dose;\n",
    "export_to_dicom = dicom.export_to_dicom;"
   ]
  },
  {
   "cell_type": "markdown",
   "metadata": {},
   "source": [
    "# Config"
   ]
  },
  {
   "cell_type": "code",
   "execution_count": null,
   "metadata": {
    "tags": [
     "parameters"
    ]
   },
   "outputs": [],
   "source": [
    "patient_ID = \"test_06\"\n",
    "data_dir = \"/data/user/bellotti_r/data\";\n",
    "output_dir = \"./output/$patient_ID\"\n",
    "plan_file = \"$data_dir/clinical_plans_300_iter/$(patient_ID)_0.json\";"
   ]
  },
  {
   "cell_type": "code",
   "execution_count": null,
   "metadata": {},
   "outputs": [],
   "source": [
    "fiona_standalone_bin_path = \"./pyftpp/bin\"\n",
    "fiona_jar_path = \"$fiona_standalone_bin_path/ch.psi.ftpp.standalone.planner-1.0.7.jar\";"
   ]
  },
  {
   "cell_type": "code",
   "execution_count": null,
   "metadata": {},
   "outputs": [],
   "source": [
    "optimisation_grid_resolution = 0.17f0;\n",
    "spot_spacing = 0.4f0;"
   ]
  },
  {
   "cell_type": "code",
   "execution_count": null,
   "metadata": {},
   "outputs": [],
   "source": [
    "output_dir = \"$(output_dir)\""
   ]
  },
  {
   "cell_type": "code",
   "execution_count": null,
   "metadata": {},
   "outputs": [],
   "source": [
    "mkpath(output_dir)"
   ]
  },
  {
   "cell_type": "markdown",
   "metadata": {},
   "source": [
    "# Load data"
   ]
  },
  {
   "cell_type": "code",
   "execution_count": null,
   "metadata": {
    "scrolled": true
   },
   "outputs": [],
   "source": [
    "ct_path, patient_data = Juliana.load_patient_data(data_dir, patient_ID);"
   ]
  },
  {
   "cell_type": "code",
   "execution_count": null,
   "metadata": {
    "scrolled": true
   },
   "outputs": [],
   "source": [
    "info = Juliana.PatientInfo(data_dir, plan_file, patient_ID)\n",
    "angles = [(info.plan.gantry_angle(i), info.plan.couch_angle(i), info.plan.nozzle_extraction(i)) for i in info.plan.field_IDs]\n",
    "# Needed to make a nice matrix rather than a vector of vectors out of it.\n",
    "angles = collect(hcat(collect.(angles)...)')"
   ]
  },
  {
   "cell_type": "markdown",
   "metadata": {},
   "source": [
    "# Calculate Dij matrix"
   ]
  },
  {
   "cell_type": "code",
   "execution_count": null,
   "metadata": {},
   "outputs": [],
   "source": [
    "function build_checker_board_mask(grid)\n",
    "    checker_board = zeros(Float32, Tuple(grid.size))\n",
    "    \n",
    "    first_in_z_is_white = true\n",
    "    for iz in 1:grid.size[3]\n",
    "        first_in_z_is_white = !first_in_z_is_white\n",
    "        first_in_y_is_white = first_in_z_is_white\n",
    "        for iy in 1:grid.size[2]\n",
    "            is_white = first_in_y_is_white\n",
    "            for ix in 1:grid.size[1]\n",
    "                checker_board[ix, iy, iz] = is_white\n",
    "                is_white = !is_white\n",
    "            end\n",
    "            first_in_y_is_white = !first_in_y_is_white\n",
    "        end\n",
    "    end\n",
    "    return checker_board\n",
    "end\n",
    "\n"
   ]
  },
  {
   "cell_type": "code",
   "execution_count": null,
   "metadata": {},
   "outputs": [],
   "source": [
    "function get_optimisation_points_from_prescription(grid, prescriptions, structures; interest_distance=2)\n",
    "    # Select points that are within a distance of interest_distance from any\n",
    "    # target or OAR with a constraint.\n",
    "    distance_from_roi = Array{Float32, 3}(undef, Tuple(grid.size))\n",
    "    fill!(distance_from_roi, Inf)\n",
    "\n",
    "    roi_structure_names = Set{String}()\n",
    "    for (name, value) in prescriptions.target_doses\n",
    "        push!(roi_structure_names, name)\n",
    "    end\n",
    "    for constraint in prescriptions.constraints\n",
    "        push!(roi_structure_names, constraint.structure_name)\n",
    "    end\n",
    "\n",
    "    for name in roi_structure_names\n",
    "        distance_from_roi .= min.(distance_from_roi, structures[name].distanceFromStructure)\n",
    "    end\n",
    "\n",
    "    optimisation_roi_mask = distance_from_roi .<= interest_distance\n",
    "    \n",
    "    # Restrict ourselves to the points that are not further than the interest_distance from any target.\n",
    "    distance_from_targets = Array{Float32, 3}(undef, Tuple(grid.size))\n",
    "    fill!(distance_from_targets, Inf)\n",
    "    for (name, value) in prescriptions.target_doses\n",
    "        distance_from_targets .= min.(\n",
    "            distance_from_targets,\n",
    "            structures[name].distanceFromStructure,\n",
    "        )\n",
    "    end\n",
    "    \n",
    "    optimisation_roi_mask .= optimisation_roi_mask .&& (distance_from_targets .<= interest_distance)\n",
    "    optimisation_roi_mask .= optimisation_roi_mask .&& build_checker_board_mask(grid)\n",
    "\n",
    "    # Convert the optimisation point mask to indices and positions.\n",
    "    optimisation_point_indices = findall(optimisation_roi_mask)\n",
    "    optimisation_point_indices = Array(vcat([reshape(collect(Tuple(i)), (:, 3)) for i in optimisation_point_indices]...))\n",
    "    optimisation_points = collect(hcat([Juliana.index_to_xyz(index, grid) for index in eachrow(optimisation_point_indices)]...)')\n",
    "\n",
    "    return optimisation_roi_mask, optimisation_points, optimisation_point_indices\n",
    "end"
   ]
  },
  {
   "cell_type": "markdown",
   "metadata": {},
   "source": [
    "## Calculate Dij using Fiona for the spot placement"
   ]
  },
  {
   "cell_type": "code",
   "execution_count": null,
   "metadata": {},
   "outputs": [],
   "source": [
    "optimisation_mask, optimisation_points_before, optimisation_point_indices = get_optimisation_points_from_prescription(\n",
    "    patient_data.ct.grid,\n",
    "    patient_data.prescriptions,\n",
    "    patient_data.structures,\n",
    ");"
   ]
  },
  {
   "cell_type": "code",
   "execution_count": null,
   "metadata": {},
   "outputs": [],
   "source": [
    "function get_optimisation_grid(optimisation_points, grid)\n",
    "    p_min = reshape(minimum(optimisation_points, dims=1), (:,))\n",
    "    p_max = reshape(maximum(optimisation_points, dims=1), (:,))\n",
    "\n",
    "    shape = convert.(Int64, ceil.((p_max .- p_min) ./ grid.spacing)) .+ 1\n",
    "\n",
    "    return Juliana.Grid(\n",
    "        grid.spacing,\n",
    "        p_min,\n",
    "        shape,\n",
    "    )\n",
    "end\n",
    "\n",
    "optimisation_grid = get_optimisation_grid(optimisation_points_before, patient_data.ct.grid)"
   ]
  },
  {
   "cell_type": "code",
   "execution_count": null,
   "metadata": {},
   "outputs": [],
   "source": [
    "coldest_target_name, coldest_target_dose = Juliana.coldest_target(patient_data.prescriptions)"
   ]
  },
  {
   "cell_type": "code",
   "execution_count": null,
   "metadata": {},
   "outputs": [],
   "source": [
    "# Dummy value; we're not optimising with Fiona.\n",
    "target_dose = 1\n",
    "\n",
    "Dij, optimisation_points = Juliana.FionaStandalone.calculate_Dij(\n",
    "    output_dir,\n",
    "    ct_path,\n",
    "    target_dose,\n",
    "    patient_data.structures[coldest_target_name],\n",
    "    fiona_standalone_bin_path,\n",
    "    fiona_jar_path,\n",
    "    optimisation_grid,\n",
    "    angles[:, 1],\n",
    "    angles[:, 2],\n",
    "    angles[:, 3],\n",
    "    debugging=false,\n",
    "    optimization_points=optimisation_points_before,\n",
    ");"
   ]
  },
  {
   "cell_type": "code",
   "execution_count": null,
   "metadata": {},
   "outputs": [],
   "source": [
    "size(optimisation_points)"
   ]
  },
  {
   "cell_type": "code",
   "execution_count": null,
   "metadata": {},
   "outputs": [],
   "source": [
    "size(Dij)"
   ]
  },
  {
   "cell_type": "markdown",
   "metadata": {},
   "source": [
    "## Calculate Dij using Julia"
   ]
  },
  {
   "cell_type": "code",
   "execution_count": null,
   "metadata": {},
   "outputs": [],
   "source": [
    "plan = Juliana.FionaStandalone.read_plan_file(\"$output_dir/result_plan.json\");"
   ]
  },
  {
   "cell_type": "code",
   "execution_count": null,
   "metadata": {},
   "outputs": [],
   "source": [
    "npzwrite(\"$(output_dir)/optimisation_points_juliana.npy\", optimisation_points_before)"
   ]
  },
  {
   "cell_type": "code",
   "execution_count": null,
   "metadata": {},
   "outputs": [],
   "source": [
    "@assert optimisation_points_before ≈ optimisation_points"
   ]
  },
  {
   "cell_type": "markdown",
   "metadata": {},
   "source": [
    "# Optimise"
   ]
  },
  {
   "cell_type": "code",
   "execution_count": null,
   "metadata": {},
   "outputs": [],
   "source": [
    "config = Juliana.get_optimisation_configuration(\n",
    "    patient_data.ct,\n",
    "    patient_data.prescriptions,\n",
    "    patient_data.structures,\n",
    "    Dij,\n",
    "    optimisation_point_indices,\n",
    ");"
   ]
  },
  {
   "cell_type": "code",
   "execution_count": null,
   "metadata": {},
   "outputs": [],
   "source": [
    "w = ones(size(Dij, 2))\n",
    "mean_dose = sum(collect((config.Dij * cu(w))) .* collect(config.normalisationStructureMask)) / sum(config.normalisationStructureMask)\n",
    "w *= config.normalisationDose / mean_dose;\n",
    "w = cu(w);"
   ]
  },
  {
   "cell_type": "code",
   "execution_count": null,
   "metadata": {},
   "outputs": [],
   "source": [
    "subloss_weights = Dict{String, Float32}(\n",
    "    \"ideal_dose_loss\" => 1.f0,\n",
    "    \"maximum_loss\" => 1.f0,\n",
    "    \"minimum_loss\" => 1.f0,\n",
    "    \"normalisation_variance\" => 1.f0,\n",
    ")\n",
    "\n",
    "for constraint in config.prescriptions.constraints\n",
    "    if constraint.priority == Juliana.soft\n",
    "        continue\n",
    "    end\n",
    "\n",
    "    if constraint.kind == Juliana.constraint_mean\n",
    "        subloss_weights[\"$(constraint.structure_name)_mean_loss\"] = 1f0\n",
    "    elseif Juliana.is_maximum_constraint(constraint)\n",
    "        subloss_weights[\"$(constraint.structure_name)_max_loss\"] = 1f0\n",
    "    end\n",
    "end"
   ]
  },
  {
   "cell_type": "markdown",
   "metadata": {},
   "source": [
    "## Logic"
   ]
  },
  {
   "cell_type": "code",
   "execution_count": null,
   "metadata": {},
   "outputs": [],
   "source": [
    "methods(Juliana.dose_loss!)"
   ]
  },
  {
   "cell_type": "code",
   "execution_count": null,
   "metadata": {},
   "outputs": [],
   "source": [
    "methods(Juliana.loss!)"
   ]
  },
  {
   "cell_type": "code",
   "execution_count": null,
   "metadata": {},
   "outputs": [],
   "source": []
  },
  {
   "cell_type": "code",
   "execution_count": null,
   "metadata": {
    "scrolled": false
   },
   "outputs": [],
   "source": [
    "@time Juliana.dose_loss!(config.Dij * w, config, Dict{String, Float32}(), subloss_weights)"
   ]
  },
  {
   "cell_type": "code",
   "execution_count": null,
   "metadata": {
    "scrolled": true
   },
   "outputs": [],
   "source": [
    "@time Juliana.loss!(w, config, Dict{String, Float32}(), subloss_weights);\n",
    "@time Juliana.loss_gradient(w, config, subloss_weights);"
   ]
  },
  {
   "cell_type": "code",
   "execution_count": null,
   "metadata": {},
   "outputs": [],
   "source": [
    "@code_warntype Juliana.loss!(config.Dij * w, config, subloss_weights, loss_parts=nothing)"
   ]
  },
  {
   "cell_type": "code",
   "execution_count": null,
   "metadata": {},
   "outputs": [],
   "source": [
    "@code_warntype Juliana.loss_gradient(config.Dij * w, config, subloss_weights, loss_parts=nothing)"
   ]
  },
  {
   "cell_type": "markdown",
   "metadata": {},
   "source": [
    "## Calling"
   ]
  },
  {
   "cell_type": "code",
   "execution_count": null,
   "metadata": {},
   "outputs": [],
   "source": [
    "\"\"\"\n",
    "Stops the iteration if the function value has not decreased by more than delta in the last patience iterations.\n",
    "\"\"\"\n",
    "function build_early_stopping(delta::T, patience) where {T}\n",
    "    previous_best = typemax(T)\n",
    "    previous_best_iteration = 1\n",
    "\n",
    "    function early_stopping(value, iteration)\n",
    "        if value <= (previous_best - delta)\n",
    "            previous_best = value\n",
    "            previous_best_iteration = iteration\n",
    "        end\n",
    "        \n",
    "        return (iteration - previous_best_iteration) > patience\n",
    "    end\n",
    "\n",
    "    return early_stopping\n",
    "end"
   ]
  },
  {
   "cell_type": "code",
   "execution_count": null,
   "metadata": {},
   "outputs": [],
   "source": [
    "function optimise_using_optim(w::AbstractArray{T, N}, config::Juliana.OptimisationConfiguration, subloss_weights::Dict{String, T}) where {T, N}\n",
    "    # Maximum number of iterations.\n",
    "    n_iterations = 10_000\n",
    "\n",
    "    function my_loss(w)\n",
    "        clamp!(w, convert(T, 0.), typemax(T))\n",
    "        loss = Juliana.loss!(w, config, Dict{String, Float32}(), subloss_weights)\n",
    "\n",
    "        return loss\n",
    "    end\n",
    "\n",
    "    function my_loss_gradient!(gradient, w)\n",
    "        clamp!(w, convert(T, 0.), typemax(T))\n",
    "\n",
    "        grad = Juliana.loss_gradient(w, config, subloss_weights)\n",
    "\n",
    "        gradient[:] = grad[:]\n",
    "    end\n",
    "\n",
    "    # We don't call the Optim.optimize function directly\n",
    "    # because we want to log the sublosses.\n",
    "    # See the following issue:\n",
    "    # https://github.com/JuliaNLSolvers/Optim.jl/issues/1024\n",
    "    early_stopping = build_early_stopping(0.5f0, 25)\n",
    "    \n",
    "    alg = LBFGS(linesearch=LineSearches.HagerZhang())\n",
    "    options = Optim.Options()\n",
    "    d = Optim.promote_objtype(alg, w, :finite, true, my_loss, my_loss_gradient!)\n",
    "    state = Optim.initial_state(alg, options, d, w);\n",
    "\n",
    "    history = Vector{Dict{String, T}}()\n",
    "    gradients = Array{Vector{T}, 1}()\n",
    "    loss = Inf\n",
    "    for i in 1:1000\n",
    "        # Check for convergence.\n",
    "        if early_stopping(loss, i)\n",
    "            break\n",
    "        end\n",
    "\n",
    "        # Iterate.\n",
    "        Optim.update_state!(d, state, alg)\n",
    "        Optim.update_g!(d, state, alg)\n",
    "        Optim.update_h!(d, state, alg)\n",
    "\n",
    "        # Log sublosses.\n",
    "        loss_parts = Dict{String, T}()\n",
    "        w = state.x\n",
    "        clamp!(w, zero(T), typemax(T))\n",
    "        loss = Juliana.loss!(w, config, loss_parts, subloss_weights)\n",
    "        println(loss)\n",
    "        loss_parts[\"total_loss\"] = loss\n",
    "        push!(history, copy(loss_parts))\n",
    "        grad = Juliana.loss_gradient(w, config, subloss_weights)\n",
    "        push!(gradients, grad)\n",
    "    end\n",
    "    w_opt = state.x\n",
    "    clamp!(w_opt, zero(T), typemax(T))\n",
    "    \n",
    "    return w_opt, history, gradients\n",
    "end"
   ]
  },
  {
   "cell_type": "code",
   "execution_count": null,
   "metadata": {},
   "outputs": [],
   "source": [
    "start = time()"
   ]
  },
  {
   "cell_type": "code",
   "execution_count": null,
   "metadata": {
    "scrolled": true
   },
   "outputs": [],
   "source": [
    "w_opt, history, gradients = optimise_using_optim(w, config, subloss_weights);"
   ]
  },
  {
   "cell_type": "code",
   "execution_count": null,
   "metadata": {},
   "outputs": [],
   "source": [
    "stop = time()"
   ]
  },
  {
   "cell_type": "code",
   "execution_count": null,
   "metadata": {},
   "outputs": [],
   "source": [
    "open(\"$(output_dir)/optimisation_time.txt\", \"w\") do file\n",
    "    write(file, \"$(stop - start)s\")\n",
    "end"
   ]
  },
  {
   "cell_type": "code",
   "execution_count": null,
   "metadata": {
    "scrolled": false
   },
   "outputs": [],
   "source": [
    "w_opt .*= (config.normalisationDose / Juliana.mean_dose(config.Dij * w_opt, config.normalisationStructureMask));"
   ]
  },
  {
   "cell_type": "code",
   "execution_count": null,
   "metadata": {},
   "outputs": [],
   "source": [
    "w_opt = clamp!(w_opt, 0., typemax(Float32));\n",
    "w_opt_cpu = collect(w_opt);"
   ]
  },
  {
   "cell_type": "code",
   "execution_count": null,
   "metadata": {},
   "outputs": [],
   "source": [
    "npzwrite(\"$output_dir/gradients.npy\", collect(hcat(gradients...)'))"
   ]
  },
  {
   "cell_type": "code",
   "execution_count": null,
   "metadata": {},
   "outputs": [],
   "source": [
    "npzwrite(\"$output_dir/w_opt.npy\", w_opt_cpu)"
   ]
  },
  {
   "cell_type": "code",
   "execution_count": null,
   "metadata": {},
   "outputs": [],
   "source": [
    "dose_cpu = Dij * w_opt_cpu;"
   ]
  },
  {
   "cell_type": "code",
   "execution_count": null,
   "metadata": {},
   "outputs": [],
   "source": [
    "maximum(dose_cpu)"
   ]
  },
  {
   "cell_type": "code",
   "execution_count": null,
   "metadata": {},
   "outputs": [],
   "source": [
    "dose = collect(config.Dij * w_opt);\n",
    "npzwrite(\"$output_dir/dose_at_optimisation_points_from_Dij.npy\", dose)"
   ]
  },
  {
   "cell_type": "code",
   "execution_count": null,
   "metadata": {},
   "outputs": [],
   "source": [
    "dose_matrix = zeros(Float32, Tuple(patient_data.ct.grid.size));\n",
    "\n",
    "for (i, p) in enumerate(eachrow(collect(optimisation_points)))\n",
    "    indices = Juliana.xyz_to_index(p, patient_data.ct.grid)\n",
    "    dose_matrix[indices...] = dose[i]\n",
    "end\n",
    "\n",
    "dose_fiona = Dose(dose_matrix, patient_data.ct.grid.spacing, patient_data.ct.grid.origin)\n",
    "dose_fiona.save(\"$output_dir/dose_on_optimisation_grid_mapped_to_ct_grid.dat\")"
   ]
  },
  {
   "cell_type": "code",
   "execution_count": null,
   "metadata": {},
   "outputs": [],
   "source": [
    "normalisation_mask_overlay = Dose(\n",
    "    convert.(Float32, collect(Juliana.calculate_normalisation_mask(patient_data.prescriptions, patient_data.structures))),\n",
    "    patient_data.ct.grid.spacing,\n",
    "    patient_data.ct.grid.origin,\n",
    ")"
   ]
  },
  {
   "cell_type": "markdown",
   "metadata": {},
   "source": [
    "## Analysis"
   ]
  },
  {
   "cell_type": "markdown",
   "metadata": {},
   "source": [
    "### Loss"
   ]
  },
  {
   "cell_type": "code",
   "execution_count": null,
   "metadata": {},
   "outputs": [],
   "source": [
    "# Code taken from: https://stackoverflow.com/a/54170025\n",
    "loss_df = vcat(DataFrame.(history)...);"
   ]
  },
  {
   "cell_type": "code",
   "execution_count": null,
   "metadata": {},
   "outputs": [],
   "source": [
    "# CSV.write(\"$output_dir/$patient_ID/losses_evaluations.csv\", loss_df)\n",
    "CSV.write(\"$output_dir/losses.csv\", loss_df)"
   ]
  },
  {
   "cell_type": "code",
   "execution_count": null,
   "metadata": {},
   "outputs": [],
   "source": [
    "loss_df[1, :]"
   ]
  },
  {
   "cell_type": "code",
   "execution_count": null,
   "metadata": {},
   "outputs": [],
   "source": [
    "loss_df[end, :]"
   ]
  },
  {
   "cell_type": "code",
   "execution_count": null,
   "metadata": {},
   "outputs": [],
   "source": [
    "plot(loss_df[!, \"maximum_loss\"])"
   ]
  },
  {
   "cell_type": "code",
   "execution_count": null,
   "metadata": {},
   "outputs": [],
   "source": [
    "@df loss_df plot(cols(propertynames(loss_df)))"
   ]
  },
  {
   "cell_type": "markdown",
   "metadata": {},
   "source": [
    "### Gradient"
   ]
  },
  {
   "cell_type": "code",
   "execution_count": null,
   "metadata": {},
   "outputs": [],
   "source": [
    "grad = Juliana.loss_gradient(w_opt, config, subloss_weights);"
   ]
  },
  {
   "cell_type": "code",
   "execution_count": null,
   "metadata": {},
   "outputs": [],
   "source": [
    "histogram(collect(grad))"
   ]
  },
  {
   "cell_type": "markdown",
   "metadata": {},
   "source": [
    "### DVH curves"
   ]
  },
  {
   "cell_type": "code",
   "execution_count": null,
   "metadata": {},
   "outputs": [],
   "source": [
    "dose = config.Dij * w_opt;\n",
    "mask = config.normalisationStructureMask;\n",
    "\n",
    "volumes = collect(LinRange(0.f0, 100.f0, 401));\n",
    "@time doses = [Juliana.dvh_d(dose, mask, v) for v in volumes];\n",
    "@time dose_values = Juliana.dvh_d(dose, mask, volumes)\n",
    "\n",
    "plot(dose_values * 100 / config.normalisationDose, volumes[end:-1:1], marker=2, xlims=(75, 110))"
   ]
  },
  {
   "cell_type": "code",
   "execution_count": null,
   "metadata": {
    "scrolled": false
   },
   "outputs": [],
   "source": [
    "dose = config.Dij * w_opt;\n",
    "mask = config.normalisationStructureMask;\n",
    "dose *= config.normalisationDose / Juliana.mean_dose(dose, mask)\n",
    "\n",
    "dose_values = collect(LinRange(0.f0, 1.2f0 * config.normalisationDose, 121))\n",
    "@time volumes = Juliana.dvh_v(dose, mask, dose_values)\n",
    "\n",
    "plot(dose_values * 100 / config.normalisationDose, volumes, marker=2, xlim=(75, 110))"
   ]
  },
  {
   "cell_type": "markdown",
   "metadata": {},
   "source": [
    "### DVH metrics"
   ]
  },
  {
   "cell_type": "code",
   "execution_count": null,
   "metadata": {},
   "outputs": [],
   "source": [
    "# Keep columns that are not always zero.\n",
    "active_losses = loss_df[:, .!all.(eachcol(loss_df .== 0))];\n",
    "final_losses = sort(Dict(names(active_losses[end, :]) .=> values(active_losses[end, :])); byvalue=true)"
   ]
  },
  {
   "cell_type": "code",
   "execution_count": null,
   "metadata": {
    "scrolled": true
   },
   "outputs": [],
   "source": [
    "for (name, target_dose) in config.prescriptions.target_doses\n",
    "    mask = config.structures[name]\n",
    "    V95 = Juliana.dvh_v(dose, mask, [0.95f0 * target_dose])[1]\n",
    "    d = 0.8f0 * target_dose\n",
    "    V80 = Juliana.dvh_v(dose, mask, d)\n",
    "    \n",
    "    println(\"V95 $name = $(V95)%\")\n",
    "    println(\"V80 $name      = $(V80)\")\n",
    "end"
   ]
  },
  {
   "cell_type": "code",
   "execution_count": null,
   "metadata": {},
   "outputs": [],
   "source": [
    "config.normalisationDose"
   ]
  },
  {
   "cell_type": "markdown",
   "metadata": {},
   "source": [
    "# Save the results to DICOM"
   ]
  },
  {
   "cell_type": "code",
   "execution_count": null,
   "metadata": {},
   "outputs": [],
   "source": [
    "# Write the optimised spot weights to the config file and call Fiona standalone to calculate\n",
    "# the full dose distribution.\n",
    "w_opt_cpu = collect(w_opt)\n",
    "plan = Juliana.FionaStandalone.read_plan_file(\"$output_dir/result_plan.json\");"
   ]
  },
  {
   "cell_type": "code",
   "execution_count": null,
   "metadata": {},
   "outputs": [],
   "source": []
  },
  {
   "cell_type": "code",
   "execution_count": null,
   "metadata": {},
   "outputs": [],
   "source": [
    "new_plan = Juliana.FionaStandalone.update_spot_weights(plan, w_opt_cpu)\n",
    "Juliana.FionaStandalone.write_plan_config(\"$output_dir/result_plan.json\", new_plan);"
   ]
  },
  {
   "cell_type": "code",
   "execution_count": null,
   "metadata": {},
   "outputs": [],
   "source": []
  },
  {
   "cell_type": "code",
   "execution_count": null,
   "metadata": {},
   "outputs": [],
   "source": [
    "# I think this will release the GPU, which is necessary to let\n",
    "# Fiona standalone use the GPU. \n",
    "CUDA.device_reset!()\n",
    "sleep(1)\n",
    "Juliana.FionaStandalone.run_dose_calculation(fiona_jar_path, output_dir, false, false)"
   ]
  },
  {
   "cell_type": "code",
   "execution_count": null,
   "metadata": {},
   "outputs": [],
   "source": [
    "ideal_dose_distribution, importance = Juliana.calculate_ideal_dose_distribution(\n",
    "    patient_data.ct,\n",
    "    patient_data.prescriptions.target_doses,\n",
    "    patient_data.structures,\n",
    ");"
   ]
  },
  {
   "cell_type": "code",
   "execution_count": null,
   "metadata": {},
   "outputs": [],
   "source": [
    "doses = Dict(\n",
    "    \"reference\" => Dose.load(\"$data_dir/clinical_dose_distributions/$(patient_ID)_0.dat\"),\n",
    "    # \"ideal\" => Dose(ideal_dose_distribution, info.patient.ct.spacing, info.patient.ct.origin),\n",
    "    \"ideal\" => Dose(ideal_dose_distribution, patient_data.ct.grid.spacing, patient_data.ct.grid.origin),\n",
    ")\n",
    "\n",
    "\n",
    "normalisation_mask = convert.(Float32, Juliana.calculate_normalisation_mask(\n",
    "    patient_data.prescriptions,\n",
    "    patient_data.structures,\n",
    "))\n",
    "\n",
    "for (name, dose) in doses\n",
    "    normalised_dose = Juliana.normalise_dose(\n",
    "        dose.data,\n",
    "        normalisation_mask,\n",
    "        convert(Float32, config.normalisationDose),\n",
    "    )\n",
    "    doses[name] = Dose(normalised_dose, dose.spacing, dose.origin);\n",
    "end"
   ]
  },
  {
   "cell_type": "code",
   "execution_count": null,
   "metadata": {},
   "outputs": [],
   "source": [
    "# TODO: Change in future.\n",
    "new_patient_ID = \"new_optimiser_prototype_$patient_ID\"\n",
    "study_instance_UID = pydicom.uid.generate_uid(entropy_srcs=[new_patient_ID])"
   ]
  },
  {
   "cell_type": "code",
   "execution_count": null,
   "metadata": {},
   "outputs": [],
   "source": [
    "dicom_output_dir = \"$output_dir/../DICOM/$patient_ID\"\n",
    "mkpath(dicom_output_dir)"
   ]
  },
  {
   "cell_type": "code",
   "execution_count": null,
   "metadata": {},
   "outputs": [],
   "source": [
    "pyftpp_CT = pyimport(\"pyftpp.ct\").CT;\n",
    "pyftpp_Structure = pyimport(\"pyftpp.structure\").Structure\n",
    "pyftpp_Structure = pyimport(\"pyftpp.structure\").Structure\n",
    "pyftpp_StructureSet = pyimport(\"pyftpp.structure\").StructureSet\n",
    "\n",
    "ct_for_export = pyftpp_CT(\n",
    "    patient_data.ct.data,\n",
    "    patient_data.ct.grid.spacing,\n",
    "    patient_data.ct.grid.origin,\n",
    ")\n",
    "\n",
    "structures_for_export = []\n",
    "for (name, structure) in patient_data.structures\n",
    "    push!(structures_for_export, pyftpp_Structure(name, structure.points))\n",
    "end\n",
    "structures_for_export = pyftpp_StructureSet(structures_for_export, ct_for_export)"
   ]
  },
  {
   "cell_type": "code",
   "execution_count": null,
   "metadata": {},
   "outputs": [],
   "source": [
    "doses[\"fiona_during_optimisation\"] = dose_fiona\n",
    "doses[\"normalisation_mask\"] = normalisation_mask_overlay\n",
    "doses[\"minimum\"] = Dose(\n",
    "    convert.(Float32, Juliana.calculate_minimum_dose_distribution(\n",
    "        patient_data.prescriptions,\n",
    "        patient_data.structures,\n",
    "        ideal_dose_distribution,\n",
    "    )),\n",
    "    patient_data.ct.grid.spacing,\n",
    "    patient_data.ct.grid.origin,\n",
    ")\n",
    "doses[\"new_during_optimisation\"] = dose_fiona\n",
    "doses[\"new_recalculated\"] = Dose.load(\"$output_dir/result_dose.dat\")"
   ]
  },
  {
   "cell_type": "code",
   "execution_count": null,
   "metadata": {},
   "outputs": [],
   "source": [
    "export_to_dicom(\n",
    "    ct_for_export,\n",
    "    info.patient.structures,\n",
    "    dicom_output_dir,\n",
    "    study_instance_UID,\n",
    "    new_patient_ID,\n",
    "    doses,\n",
    "    decrease_precision=true,\n",
    ")"
   ]
  },
  {
   "cell_type": "code",
   "execution_count": null,
   "metadata": {},
   "outputs": [],
   "source": [
    "loss_df[end-1, :]"
   ]
  },
  {
   "cell_type": "code",
   "execution_count": null,
   "metadata": {},
   "outputs": [],
   "source": []
  }
 ],
 "metadata": {
  "kernelspec": {
   "display_name": "JulianA reproduction 1.8.1",
   "language": "julia",
   "name": "juliana-reproduction-1.8"
  },
  "language_info": {
   "file_extension": ".jl",
   "mimetype": "application/julia",
   "name": "julia",
   "version": "1.8.1"
  },
  "toc": {
   "base_numbering": 1,
   "nav_menu": {},
   "number_sections": true,
   "sideBar": true,
   "skip_h1_title": false,
   "title_cell": "Table of Contents",
   "title_sidebar": "Contents",
   "toc_cell": false,
   "toc_position": {},
   "toc_section_display": true,
   "toc_window_display": false
  },
  "varInspector": {
   "cols": {
    "lenName": 16,
    "lenType": 16,
    "lenVar": 40
   },
   "kernels_config": {
    "python": {
     "delete_cmd_postfix": "",
     "delete_cmd_prefix": "del ",
     "library": "var_list.py",
     "varRefreshCmd": "print(var_dic_list())"
    },
    "r": {
     "delete_cmd_postfix": ") ",
     "delete_cmd_prefix": "rm(",
     "library": "var_list.r",
     "varRefreshCmd": "cat(var_dic_list()) "
    }
   },
   "types_to_exclude": [
    "module",
    "function",
    "builtin_function_or_method",
    "instance",
    "_Feature"
   ],
   "window_display": false
  }
 },
 "nbformat": 4,
 "nbformat_minor": 2
}
