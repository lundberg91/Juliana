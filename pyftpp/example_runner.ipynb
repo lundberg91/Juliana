{
 "cells": [
  {
   "cell_type": "code",
   "execution_count": null,
   "metadata": {},
   "outputs": [],
   "source": [
    "import os\n",
    "import numpy as np\n",
    "import matplotlib.pyplot as plt\n",
    "from ipywidgets import interact\n",
    "import pydicom\n",
    "from pyftpp import CT, Dose, Structure, StructureSet\n",
    "from pyftpp import DVH\n",
    "from pyftpp import PyFTPPConfigurator, PyFTPPRunner\n",
    "from pyftpp import CTPlotter, DvhPlotter\n",
    "from pyftpp.dicom import export_to_dicom"
   ]
  },
  {
   "cell_type": "markdown",
   "metadata": {},
   "source": [
    "# Config"
   ]
  },
  {
   "cell_type": "code",
   "execution_count": null,
   "metadata": {},
   "outputs": [],
   "source": [
    "output_dir = os.path.abspath('example')\n",
    "if not os.path.exists(output_dir):\n",
    "    os.makedirs(output_dir)\n",
    "ct_path = f'{output_dir}/waterblock_ct.dat'\n",
    "\n",
    "# Save the water phantom data in the tests/ directory.\n",
    "phantom_dir = 'tests/data/water_phantom'\n",
    "\n",
    "if not os.path.exists(phantom_dir):\n",
    "    os.makedirs(phantom_dir)"
   ]
  },
  {
   "cell_type": "markdown",
   "metadata": {},
   "source": [
    "# Generate the water phantom"
   ]
  },
  {
   "cell_type": "code",
   "execution_count": null,
   "metadata": {
    "tags": []
   },
   "outputs": [],
   "source": [
    "# CT.\n",
    "# Usually we would just give the path to an existing CT image, but here we\n",
    "# have to write it first to disk.\n",
    "# The data is a simple water phantom in air, with a high-density cube in the middle.\n",
    "data = np.full((100, 100, 40), -1000.)\n",
    "data[20:80, 20:80, 20:30] = 0.\n",
    "data[40:60, 40:60, 22:28] = 3000\n",
    "spacing = np.array([0.1, 0.1, 0.2])\n",
    "\n",
    "ct = CT(data, spacing)\n",
    "ct.save(ct_path)\n",
    "ct.save(f'{phantom_dir}/ct.dat')"
   ]
  },
  {
   "cell_type": "code",
   "execution_count": null,
   "metadata": {},
   "outputs": [],
   "source": [
    "# To run a plan evaluation, we just need to pass a path to the CT on disk.\n",
    "# We can load a CT like this (useful for visualisation):\n",
    "# ct = CT.load(ct_path)"
   ]
  },
  {
   "cell_type": "code",
   "execution_count": null,
   "metadata": {},
   "outputs": [],
   "source": [
    "# The contours are given as 3D points in physical coordinates.\n",
    "# The data format is required by the treatment planning system.\n",
    "def build_oar_contour(spcaing):\n",
    "    '''\n",
    "    Build the contour for an Organ At Risk (OAR).\n",
    "\n",
    "    It is a small cube in a corner of the phantom.\n",
    "    '''\n",
    "    slices = []\n",
    "    for z in range(22, 28+1):\n",
    "        slice = [\n",
    "            {\n",
    "                'x': 40*spacing[0],\n",
    "                'y': 40*spacing[1],\n",
    "                'z': z*spacing[2],\n",
    "            },\n",
    "            {\n",
    "                'x': 60*spacing[0],\n",
    "                'y': 40*spacing[1],\n",
    "                'z': z*spacing[2],\n",
    "            },\n",
    "            {\n",
    "                'x': 60*spacing[0],\n",
    "                'y': 60*spacing[1],\n",
    "                'z': z*spacing[2],\n",
    "            },\n",
    "            {\n",
    "                'x': 40*spacing[0],\n",
    "                'y': 60*spacing[1],\n",
    "                'z': z*spacing[2],\n",
    "            },\n",
    "        ]\n",
    "        slice = {'points': slice}\n",
    "        slices.append(slice)\n",
    "    return slices"
   ]
  },
  {
   "cell_type": "code",
   "execution_count": null,
   "metadata": {},
   "outputs": [],
   "source": [
    "def build_target_contour(spacing):\n",
    "    target_slices = []\n",
    "    for z in range(20, 30+1):\n",
    "        slice = [\n",
    "            {\n",
    "                'x': 20*spacing[0],\n",
    "                'y': 20*spacing[1],\n",
    "                'z': z*spacing[2],\n",
    "            },\n",
    "            {\n",
    "                'x': 80*spacing[0],\n",
    "                'y': 20*spacing[1],\n",
    "                'z': z*spacing[2],\n",
    "            },\n",
    "            {\n",
    "                'x': 80*spacing[0],\n",
    "                'y': 80*spacing[1],\n",
    "                'z': z*spacing[2],\n",
    "            },\n",
    "            {\n",
    "                'x': 20*spacing[0],\n",
    "                'y': 80*spacing[1],\n",
    "                'z': z*spacing[2],\n",
    "            },\n",
    "        ]\n",
    "        slice = {'points': slice}\n",
    "        target_slices.append(slice)\n",
    "\n",
    "    return target_slices"
   ]
  },
  {
   "cell_type": "code",
   "execution_count": null,
   "metadata": {},
   "outputs": [],
   "source": [
    "def list_of_slices_to_numpy(slices):\n",
    "    '''\n",
    "    Convert the FTPP slice format to a numpy array.\n",
    "    Each row of the array is a contour point.\n",
    "    '''\n",
    "    points = []\n",
    "    for s in slices:\n",
    "        for p in s['points']:\n",
    "            points.append([p['x'], p['y'], p['z']])\n",
    "    return np.array(points)"
   ]
  },
  {
   "cell_type": "code",
   "execution_count": null,
   "metadata": {},
   "outputs": [],
   "source": [
    "# OAR contour.\n",
    "oar_slices = build_oar_contour(spacing)\n",
    "oar_points = list_of_slices_to_numpy(oar_slices)\n",
    "\n",
    "# Target contour.\n",
    "target_slices = build_target_contour(spacing)\n",
    "target_points = list_of_slices_to_numpy(target_slices)"
   ]
  },
  {
   "cell_type": "code",
   "execution_count": null,
   "metadata": {},
   "outputs": [],
   "source": [
    "target_structure = Structure('water_target', target_points, ct.grid)\n",
    "oar_structure = Structure('my_OAR', oar_points, ct.grid)"
   ]
  },
  {
   "cell_type": "markdown",
   "metadata": {},
   "source": [
    "# Save the target and the OAR contours."
   ]
  },
  {
   "cell_type": "code",
   "execution_count": null,
   "metadata": {},
   "outputs": [],
   "source": [
    "np.save(f'{phantom_dir}/target.npy', target_points)\n",
    "np.save(f'{phantom_dir}/oar.npy', oar_points)"
   ]
  },
  {
   "cell_type": "markdown",
   "metadata": {},
   "source": [
    "# Configure the optimizer"
   ]
  },
  {
   "cell_type": "code",
   "execution_count": null,
   "metadata": {},
   "outputs": [],
   "source": [
    "# Target prescription.\n",
    "target_dose = 1.8\n",
    "target_ID = 0\n",
    "oar_ID = 0\n",
    "constraint_ID = 0\n",
    "\n",
    "# Field and optimization specification.\n",
    "# We only use a single field and a single constraint.\n",
    "conf = PyFTPPConfigurator(ct_path, target_dose, 0.9*target_dose)\n",
    "conf.set_target(target_ID, target_structure)\n",
    "conf.add_field(target_ID,\n",
    "               gantry_angle=0,\n",
    "               couch_angle=0)\n",
    "conf.add_field(target_ID,\n",
    "               gantry_angle=90,\n",
    "               couch_angle=0)\n",
    "conf.add_field(target_ID,\n",
    "               gantry_angle=180,\n",
    "               couch_angle=0)\n",
    "conf.add_field(target_ID,\n",
    "               gantry_angle=270,\n",
    "               couch_angle=0)\n",
    "conf.add_constraint(oar_ID,\n",
    "                    constraint_ID,\n",
    "                    oar_structure,\n",
    "                    # We think that fulfilling this constraint is 0.5 times as important as covering the target.\n",
    "                    importance=2,\n",
    "                    # We want the dose in the OAR to be less than half the target dose.\n",
    "                    dose=0.,\n",
    "                    # Only relevant for DVH constraints.\n",
    "                    volume=0.,\n",
    "                    # type is either DOSE_VOLUME or MEAN.\n",
    "                    type='DOSE_VOLUME')"
   ]
  },
  {
   "cell_type": "markdown",
   "metadata": {},
   "source": [
    "# Run the optimiser"
   ]
  },
  {
   "cell_type": "code",
   "execution_count": null,
   "metadata": {},
   "outputs": [],
   "source": [
    "runner = PyFTPPRunner(output_dir)\n",
    "runner.add_configuration(conf, 'my_run')\n",
    "\n",
    "print('Starting spot optimisation and dose calculation...')\n",
    "result_directories = runner.run_all()\n",
    "print('Done.')"
   ]
  },
  {
   "cell_type": "code",
   "execution_count": null,
   "metadata": {},
   "outputs": [],
   "source": [
    "result_directories = {\n",
    "    'my_run': 'example/my_run'\n",
    "}"
   ]
  },
  {
   "cell_type": "markdown",
   "metadata": {},
   "source": [
    "# Load the results"
   ]
  },
  {
   "cell_type": "code",
   "execution_count": null,
   "metadata": {},
   "outputs": [],
   "source": [
    "dose = Dose.load(f'{result_directories[\"my_run\"]}/result_dose.dat')"
   ]
  },
  {
   "cell_type": "markdown",
   "metadata": {},
   "source": [
    "# Save everything to DICOM"
   ]
  },
  {
   "cell_type": "code",
   "execution_count": null,
   "metadata": {},
   "outputs": [],
   "source": [
    "patient_ID = 'cube water phantom'\n",
    "study_instance_UID = pydicom.uid.generate_uid(entropy_srcs=[patient_ID])\n",
    "structureset = StructureSet([oar_structure, target_structure], ct)\n",
    "dicom_dir = f'{phantom_dir}/DICOM'\n",
    "\n",
    "if not os.path.exists(dicom_dir):\n",
    "    os.makedirs(dicom_dir)\n",
    "\n",
    "export_to_dicom(\n",
    "    ct,\n",
    "    structureset,\n",
    "    dicom_dir,\n",
    "    study_instance_UID,\n",
    "    patient_ID,\n",
    "    dose_distributions={'my_dose': dose},\n",
    ")"
   ]
  },
  {
   "cell_type": "markdown",
   "metadata": {},
   "source": [
    "# Plot the CT"
   ]
  },
  {
   "cell_type": "code",
   "execution_count": null,
   "metadata": {},
   "outputs": [],
   "source": [
    "%matplotlib widget\n",
    "red = (255, 0, 0)\n",
    "green = (0, 255, 0)\n",
    "\n",
    "plotter = CTPlotter(ct, dose, target_dose, crosshair_visible=False);\n",
    "plotter.add_structure(target_structure, red)\n",
    "plotter.add_structure(oar_structure, green)\n",
    "plotter"
   ]
  },
  {
   "cell_type": "markdown",
   "metadata": {},
   "source": [
    "# Plot the dose-volume-histograms (DVH)"
   ]
  },
  {
   "cell_type": "code",
   "execution_count": null,
   "metadata": {},
   "outputs": [],
   "source": [
    "dvh = DVH(dose, target_structure.mask)\n",
    "oar_dvh = DVH(dose, oar_structure.mask)"
   ]
  },
  {
   "cell_type": "code",
   "execution_count": null,
   "metadata": {},
   "outputs": [],
   "source": [
    "%matplotlib inline\n",
    "plotter = DvhPlotter(target_dose, 'my_plot')\n",
    "plotter.add_curve('target_curve', dvh, (1, 0, 0))\n",
    "plotter.add_curve('oar_curve', oar_dvh, (0, 0.5, 0))\n",
    "plotter.plot()"
   ]
  },
  {
   "cell_type": "markdown",
   "metadata": {},
   "source": [
    "# Calculating Dx% and Vx%"
   ]
  },
  {
   "cell_type": "code",
   "execution_count": null,
   "metadata": {},
   "outputs": [],
   "source": [
    "target_V95 = dvh.V(0.95 * target_dose)\n",
    "oar_D2 = dvh.D(0.02)"
   ]
  },
  {
   "cell_type": "code",
   "execution_count": null,
   "metadata": {},
   "outputs": [],
   "source": [
    "q = np.arange(0, 1.50, 0.01)\n",
    "oar_dvh = DVH(dose, target_structure.mask)\n",
    "target_dvh = DVH(dose, oar_structure.mask)\n",
    "\n",
    "oar_volumes = oar_dvh.V(q * target_dose)\n",
    "target_volumes = target_dvh.V(q * target_dose)"
   ]
  },
  {
   "cell_type": "code",
   "execution_count": null,
   "metadata": {},
   "outputs": [],
   "source": [
    "%matplotlib inline\n",
    "fig, ax = plt.subplots()\n",
    "\n",
    "ax.plot(q*100, target_volumes*100, label='target')\n",
    "ax.plot(q*100, oar_volumes*100, label='OAR')\n",
    "\n",
    "ax.set_xlabel('Dose [%]', fontsize=16)\n",
    "ax.set_ylabel('Volume [%]', fontsize=16)\n",
    "ax.set_xlim([0., 150.])\n",
    "ax.set_ylim([0, 101])\n",
    "\n",
    "ax.grid(True)\n",
    "ax.legend();"
   ]
  },
  {
   "cell_type": "code",
   "execution_count": null,
   "metadata": {},
   "outputs": [],
   "source": []
  }
 ],
 "metadata": {
  "kernelspec": {
   "display_name": "experiment_env",
   "language": "python",
   "name": "experiment_env"
  },
  "language_info": {
   "codemirror_mode": {
    "name": "ipython",
    "version": 3
   },
   "file_extension": ".py",
   "mimetype": "text/x-python",
   "name": "python",
   "nbconvert_exporter": "python",
   "pygments_lexer": "ipython3",
   "version": "3.8.12"
  },
  "toc": {
   "base_numbering": 1,
   "nav_menu": {},
   "number_sections": true,
   "sideBar": true,
   "skip_h1_title": false,
   "title_cell": "Table of Contents",
   "title_sidebar": "Contents",
   "toc_cell": false,
   "toc_position": {},
   "toc_section_display": true,
   "toc_window_display": false
  },
  "varInspector": {
   "cols": {
    "lenName": 16,
    "lenType": 16,
    "lenVar": 40
   },
   "kernels_config": {
    "python": {
     "delete_cmd_postfix": "",
     "delete_cmd_prefix": "del ",
     "library": "var_list.py",
     "varRefreshCmd": "print(var_dic_list())"
    },
    "r": {
     "delete_cmd_postfix": ") ",
     "delete_cmd_prefix": "rm(",
     "library": "var_list.r",
     "varRefreshCmd": "cat(var_dic_list()) "
    }
   },
   "types_to_exclude": [
    "module",
    "function",
    "builtin_function_or_method",
    "instance",
    "_Feature"
   ],
   "window_display": false
  }
 },
 "nbformat": 4,
 "nbformat_minor": 5
}
