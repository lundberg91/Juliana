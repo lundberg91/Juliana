{
 "cells": [
  {
   "cell_type": "code",
   "execution_count": null,
   "metadata": {},
   "outputs": [],
   "source": [
    "start = time();"
   ]
  },
  {
   "cell_type": "code",
   "execution_count": null,
   "metadata": {
    "scrolled": true
   },
   "outputs": [],
   "source": [
    "using CUDA\n",
    "using Printf\n",
    "using Statistics\n",
    "using Juliana"
   ]
  },
  {
   "cell_type": "code",
   "execution_count": null,
   "metadata": {},
   "outputs": [],
   "source": [
    "CUDA.devices()"
   ]
  },
  {
   "cell_type": "markdown",
   "metadata": {},
   "source": [
    "# Configuration"
   ]
  },
  {
   "cell_type": "code",
   "execution_count": null,
   "metadata": {},
   "outputs": [],
   "source": [
    "path_to_phantom = \"/data/user/bellotti_r/data_special_cases/renate\";\n",
    "target_dose = 60.f0; # Gy RBE\n",
    "\n",
    "fiona_standalone_bin_path = \"/data/user/bellotti_r/semester_project_planning_metrics/src/pyftpp/bin\"\n",
    "fiona_jar_path = \"$fiona_standalone_bin_path/ch.psi.ftpp.standalone.planner-1.0.10.jar\";\n",
    "output_dir = \"../output/demo_notebook\"\n",
    "\n",
    "mkpath(output_dir);"
   ]
  },
  {
   "cell_type": "markdown",
   "metadata": {},
   "source": [
    "# Load data"
   ]
  },
  {
   "cell_type": "code",
   "execution_count": null,
   "metadata": {},
   "outputs": [],
   "source": [
    "ct, structures = Juliana.load_dicom_directory(\n",
    "    path_to_phantom;\n",
    "    structure_names=[\"PTV_total_2mm\", \"BrainStem_Surface\"],\n",
    ");\n",
    "target = structures[\"PTV_total_2mm\"];\n",
    "\n",
    "constraints = Juliana.parse_oar_constraints_file(\n",
    "    \"$(path_to_phantom)/constraints.csv\",\n",
    "    target_dose,\n",
    "    structures,\n",
    ")\n",
    "prescriptions = Juliana.Prescriptions([(\"PTV_total_2mm\", target_dose)], constraints);"
   ]
  },
  {
   "cell_type": "code",
   "execution_count": null,
   "metadata": {},
   "outputs": [],
   "source": [
    "# This is the only TPS-specific line in the entire notebook!\n",
    "tps = Juliana.load_juliana_tps(fiona_standalone_bin_path, 0);"
   ]
  },
  {
   "cell_type": "markdown",
   "metadata": {},
   "source": [
    "# Optimise"
   ]
  },
  {
   "cell_type": "code",
   "execution_count": null,
   "metadata": {},
   "outputs": [],
   "source": [
    "field = Juliana.FieldDefinition(\n",
    "    \"F0\",                                             # field label\n",
    "    0,                                                # field ID\n",
    "    37.f0,                                            # gantry angle\n",
    "    63.f0,                                            # couch angle\n",
    "    20.f0,                                            # nozzle extraction\n",
    "    mean(structures[\"PTV_total_2mm\"].points, dims=1), # iso-center\n",
    ");"
   ]
  },
  {
   "cell_type": "code",
   "execution_count": null,
   "metadata": {},
   "outputs": [],
   "source": [
    "@time plan = Juliana.place_spots(\n",
    "    tps,\n",
    "    ct,\n",
    "    [field],\n",
    "    [target],\n",
    ");"
   ]
  },
  {
   "cell_type": "code",
   "execution_count": null,
   "metadata": {},
   "outputs": [],
   "source": [
    "@time plan_optimised = Juliana.optimise_juliana(tps, ct, structures, prescriptions, plan);"
   ]
  },
  {
   "cell_type": "markdown",
   "metadata": {},
   "source": [
    "# Calculate the dose distribution"
   ]
  },
  {
   "cell_type": "code",
   "execution_count": null,
   "metadata": {},
   "outputs": [],
   "source": [
    "@time dose = Juliana.calculate_dose(\n",
    "    tps,\n",
    "    0.35f0, # dose grid resolution\n",
    "    ct,\n",
    "    plan_optimised,\n",
    ");"
   ]
  },
  {
   "cell_type": "code",
   "execution_count": null,
   "metadata": {},
   "outputs": [],
   "source": [
    "stop = time();"
   ]
  },
  {
   "cell_type": "code",
   "execution_count": null,
   "metadata": {},
   "outputs": [],
   "source": [
    "@printf \"Time to run the demo notebook: %.2fs\" stop - start"
   ]
  },
  {
   "cell_type": "markdown",
   "metadata": {},
   "source": [
    "# Plot the dose distribution"
   ]
  },
  {
   "cell_type": "code",
   "execution_count": null,
   "metadata": {},
   "outputs": [],
   "source": [
    "dose_to_plot = copy(dose.data)\n",
    "dose_to_plot[ct.data .<= -100] .= 0.f0;"
   ]
  },
  {
   "cell_type": "code",
   "execution_count": null,
   "metadata": {},
   "outputs": [],
   "source": [
    "fig, axes = Juliana.plot_distributions(\n",
    "    ct,\n",
    "    ((\"\", dose_to_plot),),\n",
    "    ((\"PTV\", (target, \"red\")), ),\n",
    "    145, 360,\n",
    "    100, 330,\n",
    "    100,\n",
    "    target_dose,\n",
    "    Juliana.build_colorscheme(),\n",
    ")"
   ]
  },
  {
   "cell_type": "markdown",
   "metadata": {},
   "source": [
    "# Export to DICOM"
   ]
  },
  {
   "cell_type": "code",
   "execution_count": null,
   "metadata": {},
   "outputs": [],
   "source": [
    "new_patient_ID = \"juliana_example_HN\"\n",
    "study_instance_uid = Juliana.get_study_instance_uid(new_patient_ID);"
   ]
  },
  {
   "cell_type": "code",
   "execution_count": null,
   "metadata": {},
   "outputs": [],
   "source": [
    "Juliana.dicom_export_to_directory(\n",
    "    ct,\n",
    "    structures,\n",
    "    output_dir,\n",
    "    study_instance_uid,\n",
    "    new_patient_ID,\n",
    "    Dict{String, Juliana.ScalarGrid}(\n",
    "        \"juliana\" => dose,\n",
    "    ),\n",
    ");"
   ]
  },
  {
   "cell_type": "code",
   "execution_count": null,
   "metadata": {},
   "outputs": [],
   "source": []
  }
 ],
 "metadata": {
  "kernelspec": {
   "display_name": "Julia 1.8.1",
   "language": "julia",
   "name": "julia-1.8"
  },
  "language_info": {
   "file_extension": ".jl",
   "mimetype": "application/julia",
   "name": "julia",
   "version": "1.8.1"
  },
  "toc": {
   "base_numbering": 1,
   "nav_menu": {},
   "number_sections": true,
   "sideBar": true,
   "skip_h1_title": false,
   "title_cell": "Table of Contents",
   "title_sidebar": "Contents",
   "toc_cell": false,
   "toc_position": {},
   "toc_section_display": true,
   "toc_window_display": false
  },
  "varInspector": {
   "cols": {
    "lenName": 16,
    "lenType": 16,
    "lenVar": 40
   },
   "kernels_config": {
    "python": {
     "delete_cmd_postfix": "",
     "delete_cmd_prefix": "del ",
     "library": "var_list.py",
     "varRefreshCmd": "print(var_dic_list())"
    },
    "r": {
     "delete_cmd_postfix": ") ",
     "delete_cmd_prefix": "rm(",
     "library": "var_list.r",
     "varRefreshCmd": "cat(var_dic_list()) "
    }
   },
   "types_to_exclude": [
    "module",
    "function",
    "builtin_function_or_method",
    "instance",
    "_Feature"
   ],
   "window_display": false
  }
 },
 "nbformat": 4,
 "nbformat_minor": 2
}
