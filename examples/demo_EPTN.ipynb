{
 "cells": [
  {
   "cell_type": "code",
   "execution_count": null,
   "metadata": {},
   "outputs": [],
   "source": [
    "start = time();"
   ]
  },
  {
   "cell_type": "code",
   "execution_count": null,
   "metadata": {},
   "outputs": [],
   "source": [
    "using CUDA\n",
    "using CSV\n",
    "using DataFrames\n",
    "using Printf\n",
    "using Statistics\n",
    "using Juliana"
   ]
  },
  {
   "cell_type": "code",
   "execution_count": null,
   "metadata": {},
   "outputs": [],
   "source": [
    "CUDA.devices()"
   ]
  },
  {
   "cell_type": "markdown",
   "metadata": {},
   "source": [
    "# Configuration"
   ]
  },
  {
   "cell_type": "code",
   "execution_count": null,
   "metadata": {},
   "outputs": [],
   "source": [
    "data_dir = \"/data/user/bellotti_r/data_special_cases/EPTN\";\n",
    "target_dose = 69.96f0; # Gy RBE\n",
    "\n",
    "fiona_standalone_bin_path = \"/data/user/bellotti_r/semester_project_planning_metrics/src/pyftpp/bin\"\n",
    "fiona_jar_path = \"$fiona_standalone_bin_path/ch.psi.ftpp.standalone.planner-1.0.10.jar\";\n",
    "output_dir = \"../output/demo_notebook_EPTN\"\n",
    "\n",
    "mkpath(output_dir);"
   ]
  },
  {
   "cell_type": "markdown",
   "metadata": {},
   "source": [
    "# Load data"
   ]
  },
  {
   "cell_type": "code",
   "execution_count": null,
   "metadata": {},
   "outputs": [],
   "source": [
    "\"\"\"\n",
    "    transform_angles_to_G2_range(gantry_angle, couch_angle)\n",
    "\n",
    "Input ranges:\n",
    "gantry_angle ∈ [0, 360]\n",
    "couch_angle ∈ [0, 360]\n",
    "\n",
    "Output ranges:\n",
    "gantry_angle ∈ [-30, 180]\n",
    "couch_angle ∈ [-180, 180]\n",
    "\"\"\"\n",
    "function transform_angles_to_G2_range(gantry_angle, couch_angle)\n",
    "    @assert 0 <= gantry_angle && gantry_angle <= 360\n",
    "    @assert 0 <= couch_angle && couch_angle <= 360\n",
    "    if !(0 <= gantry_angle && gantry_angle <= 180)\n",
    "        gantry_angle = 360 - gantry_angle\n",
    "        couch_angle = couch_angle + 180\n",
    "    end\n",
    "    if couch_angle > 180\n",
    "        couch_angle = couch_angle - 360\n",
    "    end\n",
    "    \n",
    "    return gantry_angle, couch_angle\n",
    "end\n",
    "\n",
    "\n",
    "test_cases = [\n",
    "    ((190, 0), (170, 180)),\n",
    "    ((  0, 0), (  0,   0)),\n",
    "    ((200, 0), (160, 180)),\n",
    "    ((200, 90), (160, -90)),\n",
    "    ((200, 70), (160, -110)),\n",
    "    ((240, 70), (120, -110)),\n",
    "    ((240, 0), (120, 180)),\n",
    "]\n",
    "for (input, output) in test_cases\n",
    "    trafo_g, trafo_c = transform_angles_to_G2_range(input[1], input[2])\n",
    "    @assert (trafo_g == output[1]) && (trafo_c == output[2])\n",
    "end\n",
    "\n",
    "\n",
    "function load_fields_description(beam_arr_filename)\n",
    "    # Values from Eclipse.\n",
    "    fields = DataFrame(CSV.File(beam_arr_filename))\n",
    "\n",
    "    # Transform to G2 angles.\n",
    "    for row in eachrow(fields)\n",
    "        g, c = transform_angles_to_G2_range(\n",
    "            row[\"gantry_angle\"],\n",
    "            row[\"couch_angle\"],\n",
    "        )\n",
    "        row[\"gantry_angle\"] = g\n",
    "        row[\"couch_angle\"] = c\n",
    "    end\n",
    "\n",
    "    # Angles for G2.\n",
    "    return fields\n",
    "end\n",
    "\n",
    "\n",
    "\"\"\"\n",
    "    field_df_to_juliana(fields, structures)\n",
    "\n",
    "Convert a DataFrame of the field configuration to Juliana structures.\n",
    "Return the field configuration as a vector of fields (without spots)\n",
    "and an array that contains the structures to be used as the field centers.\n",
    "\"\"\"\n",
    "function field_df_to_juliana(fields, structures)\n",
    "    field_defs = Vector{Juliana.FionaStandalone.FieldDefinition{Float32}}(undef, size(fields, 1))\n",
    "    for (i, row) in enumerate(eachrow(fields))\n",
    "        center = mean(structures[row.target_name].points, dims=1)[1:3]\n",
    "        field_defs[i] = Juliana.FionaStandalone.FieldDefinition(\n",
    "            convert(String, row.name),\n",
    "            i-1,\n",
    "            convert(Float32, row[\"gantry_angle\"]),\n",
    "            convert(Float32, row[\"couch_angle\"]),\n",
    "            convert(Float32, row[\"nozzle_extraction\"]),\n",
    "            Dict{String, Float32}(\n",
    "                \"x\" => center[1],\n",
    "                \"y\" => center[2],\n",
    "                \"z\" => center[3],\n",
    "            ),\n",
    "            Vector{Juliana.FionaStandalone.Spot{Float32}}(undef, 0),\n",
    "        )\n",
    "    end\n",
    "\n",
    "    field_targets = [structures[f.target_name] for f in eachrow(fields)]\n",
    "    \n",
    "    return field_defs, field_targets\n",
    "end\n",
    "\n",
    "\n",
    "function load_fields(beam_arr_filename, structures)\n",
    "    return field_df_to_juliana(\n",
    "        load_fields_description(beam_arr_filename),\n",
    "        structures,\n",
    "    )\n",
    "end"
   ]
  },
  {
   "cell_type": "code",
   "execution_count": null,
   "metadata": {},
   "outputs": [],
   "source": [
    "@time ct, structures = Juliana.load_dicom_directory(\n",
    "    data_dir;\n",
    "    structure_names=[\n",
    "        \"BrainStem\",\n",
    "        \"Chiasm\",\n",
    "        \"Cochlea_L\",\n",
    "        \"Cochlea_R\",\n",
    "        \"Eye_Post_L\",\n",
    "        \"Eye_Post_R\",\n",
    "        \"OpticNerve_L\",\n",
    "        \"OpticNerve_R\",\n",
    "        \"Parotid_L\",\n",
    "        \"Parotid_R\",\n",
    "        \"SpinalCord\",\n",
    "        \"Brain\",\n",
    "        \"PTV1\", \"PTV2\",\n",
    "        \"TECHPTV_UP\", \"TECHPTV_HYBL\", \"TECHPTV_HYBR\",\n",
    "        \"TECHPTV_DWNL\", \"TECHPTV_DWNR\",\n",
    "    ],\n",
    ");"
   ]
  },
  {
   "cell_type": "code",
   "execution_count": null,
   "metadata": {},
   "outputs": [],
   "source": [
    "constraints = Juliana.parse_oar_constraints_file(\n",
    "    \"$(data_dir)/constraints.csv\",\n",
    "    target_dose,\n",
    "    structures,\n",
    ")\n",
    "prescriptions = Juliana.Prescriptions(\n",
    "    [\n",
    "        (\"PTV1\", 69.96f0),\n",
    "        (\"PTV2\", 59.40f0),\n",
    "    ],\n",
    "    constraints,\n",
    ");"
   ]
  },
  {
   "cell_type": "code",
   "execution_count": null,
   "metadata": {},
   "outputs": [],
   "source": [
    "tps = Juliana.FionaStandalone.FionaStandaloneTps(\n",
    "    fiona_standalone_bin_path,\n",
    "    fiona_jar_path,\n",
    "    output_dir,\n",
    ");"
   ]
  },
  {
   "cell_type": "markdown",
   "metadata": {},
   "source": [
    "# Optimise"
   ]
  },
  {
   "cell_type": "code",
   "execution_count": null,
   "metadata": {
    "scrolled": true
   },
   "outputs": [],
   "source": [
    "fields, center_structures = load_fields(\"$(data_dir)/beam_arrangement.csv\", structures);"
   ]
  },
  {
   "cell_type": "code",
   "execution_count": null,
   "metadata": {},
   "outputs": [],
   "source": [
    "@time plan = Juliana.FionaStandalone.place_spots(\n",
    "    tps,\n",
    "    ct,\n",
    "    fields,\n",
    "    center_structures,\n",
    ");"
   ]
  },
  {
   "cell_type": "code",
   "execution_count": null,
   "metadata": {},
   "outputs": [],
   "source": [
    "@time optimal_weights, gradients, history = Juliana.optimise_head_and_neck(ct, structures, prescriptions, plan, tps, tps.work_dir);\n",
    "plan_optimised = Juliana.FionaStandalone.update_spot_weights(plan, optimal_weights);"
   ]
  },
  {
   "cell_type": "markdown",
   "metadata": {},
   "source": [
    "# Calculate the dose distribution"
   ]
  },
  {
   "cell_type": "code",
   "execution_count": null,
   "metadata": {},
   "outputs": [],
   "source": [
    "dose = Juliana.FionaStandalone.calculate_dose(\n",
    "    tps,\n",
    "    0.35f0, # dose grid resolution\n",
    "    ct,\n",
    "    plan_optimised,\n",
    ");"
   ]
  },
  {
   "cell_type": "code",
   "execution_count": null,
   "metadata": {},
   "outputs": [],
   "source": [
    "stop = time();"
   ]
  },
  {
   "cell_type": "code",
   "execution_count": null,
   "metadata": {},
   "outputs": [],
   "source": [
    "@printf \"Time to run the demo notebook: %.2fs\" stop - start"
   ]
  },
  {
   "cell_type": "markdown",
   "metadata": {},
   "source": [
    "# Reports"
   ]
  },
  {
   "cell_type": "code",
   "execution_count": null,
   "metadata": {},
   "outputs": [],
   "source": [
    "report = Juliana.Report(\"report\", dose, prescriptions, structures);"
   ]
  },
  {
   "cell_type": "code",
   "execution_count": null,
   "metadata": {},
   "outputs": [],
   "source": [
    "Juliana.constraint_fulfillment_df([report])"
   ]
  },
  {
   "cell_type": "code",
   "execution_count": null,
   "metadata": {},
   "outputs": [],
   "source": [
    "Juliana.target_coverage_df([report])"
   ]
  },
  {
   "cell_type": "code",
   "execution_count": null,
   "metadata": {},
   "outputs": [],
   "source": [
    "length(plan_optimised.fields)"
   ]
  },
  {
   "cell_type": "code",
   "execution_count": null,
   "metadata": {},
   "outputs": [],
   "source": [
    "sum([length(f.spots) for f in plan_optimised.fields])"
   ]
  },
  {
   "cell_type": "markdown",
   "metadata": {},
   "source": [
    "# Export to DICOM"
   ]
  },
  {
   "cell_type": "code",
   "execution_count": null,
   "metadata": {},
   "outputs": [],
   "source": [
    "patient_ID = \"INSPIRE_2\""
   ]
  },
  {
   "cell_type": "code",
   "execution_count": null,
   "metadata": {},
   "outputs": [],
   "source": [
    "study_instance_UID = Juliana.get_study_instance_uid(patient_ID);"
   ]
  },
  {
   "cell_type": "code",
   "execution_count": null,
   "metadata": {},
   "outputs": [],
   "source": [
    "filenames = readdir(data_dir)\n",
    "\n",
    "ct_files = [f for f in filenames if startswith(f, \"CT.\")]\n",
    "ct_files = sort(ct_files, by=f -> parse(Int64, String(split(f, \".\")[end-1])))\n",
    "ct_paths = [\"$(data_dir)/$(f)\" for f in ct_files]\n",
    "orig_ct = Juliana.read_dicom_ct(ct_paths)\n",
    "            \n",
    "# export_grid = ct.grid;\n",
    "export_grid = orig_ct.grid;"
   ]
  },
  {
   "cell_type": "code",
   "execution_count": null,
   "metadata": {},
   "outputs": [],
   "source": [
    " Juliana.dicom_export_to_directory(\n",
    "    ct,#     Juliana.ScalarGrid(ct.data, export_grid),\n",
    "    structures,\n",
    "    output_dir,\n",
    "    study_instance_UID,\n",
    "    patient_ID,\n",
    "    Dict{String, Juliana.ScalarGrid}(\"juliana\" => Juliana.ScalarGrid(dose.data, export_grid)),\n",
    ")"
   ]
  },
  {
   "cell_type": "code",
   "execution_count": null,
   "metadata": {},
   "outputs": [],
   "source": []
  }
 ],
 "metadata": {
  "kernelspec": {
   "display_name": "Julia 1.8.1",
   "language": "julia",
   "name": "julia-1.8"
  },
  "language_info": {
   "file_extension": ".jl",
   "mimetype": "application/julia",
   "name": "julia",
   "version": "1.8.1"
  },
  "toc": {
   "base_numbering": 1,
   "nav_menu": {},
   "number_sections": true,
   "sideBar": true,
   "skip_h1_title": false,
   "title_cell": "Table of Contents",
   "title_sidebar": "Contents",
   "toc_cell": false,
   "toc_position": {},
   "toc_section_display": true,
   "toc_window_display": false
  },
  "varInspector": {
   "cols": {
    "lenName": 16,
    "lenType": 16,
    "lenVar": 40
   },
   "kernels_config": {
    "python": {
     "delete_cmd_postfix": "",
     "delete_cmd_prefix": "del ",
     "library": "var_list.py",
     "varRefreshCmd": "print(var_dic_list())"
    },
    "r": {
     "delete_cmd_postfix": ") ",
     "delete_cmd_prefix": "rm(",
     "library": "var_list.r",
     "varRefreshCmd": "cat(var_dic_list()) "
    }
   },
   "types_to_exclude": [
    "module",
    "function",
    "builtin_function_or_method",
    "instance",
    "_Feature"
   ],
   "window_display": false
  }
 },
 "nbformat": 4,
 "nbformat_minor": 2
}
